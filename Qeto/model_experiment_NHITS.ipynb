{
 "cells": [
  {
   "cell_type": "code",
   "id": "initial_id",
   "metadata": {
    "collapsed": true,
    "ExecuteTime": {
     "end_time": "2025-07-28T22:34:11.314820Z",
     "start_time": "2025-07-28T22:34:08.816937Z"
    }
   },
   "source": [
    "import pandas as pd\n",
    "import numpy as np\n",
    "from neuralforecast import NeuralForecast\n",
    "from neuralforecast.models import NBEATSx\n",
    "from utilsforecast.plotting import plot_series\n",
    "import matplotlib.pyplot as plt\n",
    "from neuralforecast import NeuralForecast\n",
    "from neuralforecast.models import NBEATSx\n",
    "from sklearn.metrics import mean_absolute_error, mean_squared_error, mean_absolute_percentage_error"
   ],
   "outputs": [],
   "execution_count": 14
  },
  {
   "metadata": {
    "ExecuteTime": {
     "end_time": "2025-08-03T07:09:59.168119Z",
     "start_time": "2025-08-03T07:09:28.613991Z"
    }
   },
   "cell_type": "code",
   "source": [
    "\n",
    "\n",
    "df = pd.read_csv('./data/Clean_training.csv')\n",
    "\n",
    "df['unique_id'] = df['Store'].astype(str) + '_' + df['Dept'].astype(str)\n",
    "df = df.rename(columns={'Date': 'ds', 'Target': 'y'})\n",
    "df['ds'] = pd.to_datetime(df['ds'])\n",
    "df['IsHoliday'] = df['IsHoliday'].astype(int)\n",
    "markdown_cols = ['MarkDown1', 'MarkDown2', 'MarkDown3', 'MarkDown4', 'MarkDown5']\n",
    "df[markdown_cols] = df[markdown_cols].fillna(0)\n",
    "df = df.sort_values(['unique_id', 'ds'])\n",
    "\n",
    "largest_series_id = df['unique_id'].value_counts().idxmax()\n",
    "df_subset = df[df['unique_id'] == largest_series_id].copy()\n",
    "\n",
    "print(f\"Training model on the largest series: {largest_series_id}\")\n",
    "\n",
    "horizon = 12\n",
    "input_size = 2 * horizon\n",
    "\n",
    "train_df = df_subset[:-horizon]\n",
    "test_df = df_subset\n",
    "\n",
    "model = NBEATSx(h=horizon,\n",
    "                input_size=input_size,\n",
    "                max_steps=500,\n",
    "                scaler_type='standard',\n",
    "                learning_rate=0.005,\n",
    "                random_seed=42)\n",
    "\n",
    "nf = NeuralForecast(models=[model], freq='W')\n",
    "nf.fit(df=train_df)\n",
    "\n",
    "Y_hat_df = nf.predict()\n",
    "\n",
    "fig = plot_series(test_df, Y_hat_df, max_insample_length=150, plot_random=False)\n",
    "plt.tight_layout()\n",
    "fig.savefig('nbeatsx_forecast_with_test.png')\n",
    "print(\"\\nSuccess! Forecast plot saved as nbeatsx_forecast_with_test.png\")\n",
    "\n",
    "forecasts_df = pd.merge(test_df, Y_hat_df, on=['unique_id', 'ds'])\n",
    "\n",
    "\n",
    "y_true = test_df['y'].tail(horizon).values\n",
    "\n",
    "y_pred = Y_hat_df['NBEATSx'].values\n",
    "\n",
    "mae = mean_absolute_error(y_true, y_pred)\n",
    "mse = mean_squared_error(y_true, y_pred)\n",
    "mape = mean_absolute_percentage_error(y_true, y_pred)\n",
    "\n",
    "print(\"\\n--- Model Performance Metrics ---\")\n",
    "print(f\"Mean Absolute Error (MAE): {mae:.2f}\")\n",
    "print(f\"Mean Squared Error (MSE): {mse:.2f}\")\n",
    "print(f\"Mean Absolute Percentage Error (MAPE): {mape:.2%}\")\n",
    "print(\"---------------------------------\")"
   ],
   "id": "7a7fdfccb90bc220",
   "outputs": [
    {
     "name": "stderr",
     "output_type": "stream",
     "text": [
      "Seed set to 42\n",
      "GPU available: False, used: False\n",
      "TPU available: False, using: 0 TPU cores\n",
      "HPU available: False, using: 0 HPUs\n",
      "\n",
      "  | Name         | Type          | Params | Mode \n",
      "-------------------------------------------------------\n",
      "0 | loss         | MAE           | 0      | train\n",
      "1 | padder_train | ConstantPad1d | 0      | train\n",
      "2 | scaler       | TemporalNorm  | 0      | train\n",
      "3 | blocks       | ModuleList    | 2.4 M  | train\n",
      "-------------------------------------------------------\n",
      "2.4 M     Trainable params\n",
      "900       Non-trainable params\n",
      "2.4 M     Total params\n",
      "9.789     Total estimated model params size (MB)\n",
      "31        Modules in train mode\n",
      "0         Modules in eval mode\n"
     ]
    },
    {
     "name": "stdout",
     "output_type": "stream",
     "text": [
      "Training model on the largest series: 9_96\n"
     ]
    },
    {
     "data": {
      "text/plain": [
       "Sanity Checking: |          | 0/? [00:00<?, ?it/s]"
      ],
      "application/vnd.jupyter.widget-view+json": {
       "version_major": 2,
       "version_minor": 0,
       "model_id": "efe23f6652f243fa91e750c295c71231"
      }
     },
     "metadata": {},
     "output_type": "display_data"
    },
    {
     "data": {
      "text/plain": [
       "Training: |          | 0/? [00:00<?, ?it/s]"
      ],
      "application/vnd.jupyter.widget-view+json": {
       "version_major": 2,
       "version_minor": 0,
       "model_id": "8c1ae0509f8640d988f7ec0a06dd3d16"
      }
     },
     "metadata": {},
     "output_type": "display_data"
    },
    {
     "data": {
      "text/plain": [
       "Validation: |          | 0/? [00:00<?, ?it/s]"
      ],
      "application/vnd.jupyter.widget-view+json": {
       "version_major": 2,
       "version_minor": 0,
       "model_id": "bfe42f2aba734f86918f4d27f057b887"
      }
     },
     "metadata": {},
     "output_type": "display_data"
    },
    {
     "data": {
      "text/plain": [
       "Validation: |          | 0/? [00:00<?, ?it/s]"
      ],
      "application/vnd.jupyter.widget-view+json": {
       "version_major": 2,
       "version_minor": 0,
       "model_id": "9d58d228bb4b437f98908ab328dd5eb9"
      }
     },
     "metadata": {},
     "output_type": "display_data"
    },
    {
     "data": {
      "text/plain": [
       "Validation: |          | 0/? [00:00<?, ?it/s]"
      ],
      "application/vnd.jupyter.widget-view+json": {
       "version_major": 2,
       "version_minor": 0,
       "model_id": "6675d8949d2b439999ecdfdf1aa4f5a8"
      }
     },
     "metadata": {},
     "output_type": "display_data"
    },
    {
     "data": {
      "text/plain": [
       "Validation: |          | 0/? [00:00<?, ?it/s]"
      ],
      "application/vnd.jupyter.widget-view+json": {
       "version_major": 2,
       "version_minor": 0,
       "model_id": "eaa6d1d4eee848c287ae173e0f702d8e"
      }
     },
     "metadata": {},
     "output_type": "display_data"
    },
    {
     "data": {
      "text/plain": [
       "Validation: |          | 0/? [00:00<?, ?it/s]"
      ],
      "application/vnd.jupyter.widget-view+json": {
       "version_major": 2,
       "version_minor": 0,
       "model_id": "8d4fe82ce14e4887bafe879f55ab72d8"
      }
     },
     "metadata": {},
     "output_type": "display_data"
    },
    {
     "name": "stderr",
     "output_type": "stream",
     "text": [
      "`Trainer.fit` stopped: `max_steps=500` reached.\n",
      "GPU available: False, used: False\n",
      "TPU available: False, using: 0 TPU cores\n",
      "HPU available: False, using: 0 HPUs\n"
     ]
    },
    {
     "data": {
      "text/plain": [
       "Predicting: |          | 0/? [00:00<?, ?it/s]"
      ],
      "application/vnd.jupyter.widget-view+json": {
       "version_major": 2,
       "version_minor": 0,
       "model_id": "c60cbda95f25468c8b74498a26f14e17"
      }
     },
     "metadata": {},
     "output_type": "display_data"
    },
    {
     "name": "stdout",
     "output_type": "stream",
     "text": [
      "\n",
      "Success! Forecast plot saved as nbeatsx_forecast_with_test.png\n",
      "\n",
      "--- Model Performance Metrics ---\n",
      "Mean Absolute Error (MAE): 262.14\n",
      "Mean Squared Error (MSE): 155870.00\n",
      "Mean Absolute Percentage Error (MAPE): 6.50%\n",
      "---------------------------------\n"
     ]
    },
    {
     "data": {
      "text/plain": [
       "<Figure size 640x480 with 0 Axes>"
      ]
     },
     "metadata": {},
     "output_type": "display_data"
    }
   ],
   "execution_count": 6
  },
  {
   "metadata": {},
   "cell_type": "code",
   "outputs": [],
   "execution_count": null,
   "source": "",
   "id": "13c20b6d7d16ee1a"
  }
 ],
 "metadata": {
  "kernelspec": {
   "display_name": "Python 3",
   "language": "python",
   "name": "python3"
  },
  "language_info": {
   "codemirror_mode": {
    "name": "ipython",
    "version": 2
   },
   "file_extension": ".py",
   "mimetype": "text/x-python",
   "name": "python",
   "nbconvert_exporter": "python",
   "pygments_lexer": "ipython2",
   "version": "2.7.6"
  }
 },
 "nbformat": 4,
 "nbformat_minor": 5
}

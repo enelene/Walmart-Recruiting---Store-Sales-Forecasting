{
 "cells": [
  {
   "cell_type": "code",
   "id": "initial_id",
   "metadata": {
    "collapsed": true,
    "ExecuteTime": {
     "end_time": "2025-07-28T22:34:11.314820Z",
     "start_time": "2025-07-28T22:34:08.816937Z"
    }
   },
   "source": [
    "import pandas as pd\n",
    "import numpy as np\n",
    "from neuralforecast import NeuralForecast\n",
    "from neuralforecast.models import NBEATSx\n",
    "from utilsforecast.plotting import plot_series\n",
    "import matplotlib.pyplot as plt"
   ],
   "outputs": [],
   "execution_count": 14
  },
  {
   "metadata": {
    "ExecuteTime": {
     "end_time": "2025-08-03T07:01:11.169251Z",
     "start_time": "2025-08-03T07:00:42.474960Z"
    }
   },
   "cell_type": "code",
   "source": [
    "import pandas as pd\n",
    "import matplotlib.pyplot as plt\n",
    "from utilsforecast.plotting import plot_series\n",
    "from neuralforecast import NeuralForecast\n",
    "from neuralforecast.models import NBEATSx\n",
    "\n",
    "# Load your data\n",
    "df = pd.read_csv('./data/Clean_training.csv')\n",
    "\n",
    "# --- Data Preprocessing ---\n",
    "df['unique_id'] = df['Store'].astype(str) + '_' + df['Dept'].astype(str)\n",
    "df = df.rename(columns={'Date': 'ds', 'Target': 'y'})\n",
    "df['ds'] = pd.to_datetime(df['ds'])\n",
    "df['IsHoliday'] = df['IsHoliday'].astype(int)\n",
    "markdown_cols = ['MarkDown1', 'MarkDown2', 'MarkDown3', 'MarkDown4', 'MarkDown5']\n",
    "df[markdown_cols] = df[markdown_cols].fillna(0)\n",
    "df = df.sort_values(['unique_id', 'ds'])\n",
    "\n",
    "# --- Model Training ---\n",
    "# Use the single largest time series for this demonstration\n",
    "largest_series_id = df['unique_id'].value_counts().idxmax()\n",
    "df_subset = df[df['unique_id'] == largest_series_id].copy()\n",
    "\n",
    "print(f\"Training model on the largest series: {largest_series_id}\")\n",
    "\n",
    "# Define the N-BEATSx model configuration\n",
    "horizon = 12\n",
    "input_size = 2 * horizon\n",
    "model = NBEATSx(h=horizon,\n",
    "                input_size=input_size,\n",
    "                max_steps=500,\n",
    "                scaler_type='standard',\n",
    "                learning_rate=0.005)\n",
    "\n",
    "# Wrap the model in the NeuralForecast object\n",
    "nf = NeuralForecast(models=[model], freq='W')\n",
    "\n",
    "# Train the model\n",
    "nf.fit(df=df_subset)\n",
    "\n",
    "# --- Forecasting and Visualization ---\n",
    "# Generate predictions\n",
    "Y_hat_df = nf.predict()\n",
    "\n",
    "# As you like, here is the plot of the forecast 📈\n",
    "fig = plot_series(df_subset, Y_hat_df, max_insample_length=150)\n",
    "plt.tight_layout()\n",
    "fig.savefig('nbeatsx_forecast.png')\n",
    "\n",
    "print(\"\\nSuccess! Forecast plot saved as nbeatsx_forecast.png\")"
   ],
   "id": "a8150482b8645e64",
   "outputs": [
    {
     "name": "stderr",
     "output_type": "stream",
     "text": [
      "Seed set to 1\n",
      "GPU available: False, used: False\n",
      "TPU available: False, using: 0 TPU cores\n",
      "HPU available: False, using: 0 HPUs\n"
     ]
    },
    {
     "name": "stdout",
     "output_type": "stream",
     "text": [
      "Training model on the largest series: 9_96\n"
     ]
    },
    {
     "name": "stderr",
     "output_type": "stream",
     "text": [
      "\n",
      "  | Name         | Type          | Params | Mode \n",
      "-------------------------------------------------------\n",
      "0 | loss         | MAE           | 0      | train\n",
      "1 | padder_train | ConstantPad1d | 0      | train\n",
      "2 | scaler       | TemporalNorm  | 0      | train\n",
      "3 | blocks       | ModuleList    | 2.4 M  | train\n",
      "-------------------------------------------------------\n",
      "2.4 M     Trainable params\n",
      "900       Non-trainable params\n",
      "2.4 M     Total params\n",
      "9.789     Total estimated model params size (MB)\n",
      "31        Modules in train mode\n",
      "0         Modules in eval mode\n"
     ]
    },
    {
     "data": {
      "text/plain": [
       "Sanity Checking: |          | 0/? [00:00<?, ?it/s]"
      ],
      "application/vnd.jupyter.widget-view+json": {
       "version_major": 2,
       "version_minor": 0,
       "model_id": "3d227875c9db4d47866d65faf7e873c5"
      }
     },
     "metadata": {},
     "output_type": "display_data"
    },
    {
     "data": {
      "text/plain": [
       "Training: |          | 0/? [00:00<?, ?it/s]"
      ],
      "application/vnd.jupyter.widget-view+json": {
       "version_major": 2,
       "version_minor": 0,
       "model_id": "4d1fa1b505a04aa38222e07b79af4187"
      }
     },
     "metadata": {},
     "output_type": "display_data"
    },
    {
     "data": {
      "text/plain": [
       "Validation: |          | 0/? [00:00<?, ?it/s]"
      ],
      "application/vnd.jupyter.widget-view+json": {
       "version_major": 2,
       "version_minor": 0,
       "model_id": "a53178d13b6e4ceda1c23cdda87f04c5"
      }
     },
     "metadata": {},
     "output_type": "display_data"
    },
    {
     "data": {
      "text/plain": [
       "Validation: |          | 0/? [00:00<?, ?it/s]"
      ],
      "application/vnd.jupyter.widget-view+json": {
       "version_major": 2,
       "version_minor": 0,
       "model_id": "d71e741c7a9d40449317c0c3235e1814"
      }
     },
     "metadata": {},
     "output_type": "display_data"
    },
    {
     "data": {
      "text/plain": [
       "Validation: |          | 0/? [00:00<?, ?it/s]"
      ],
      "application/vnd.jupyter.widget-view+json": {
       "version_major": 2,
       "version_minor": 0,
       "model_id": "cf3459ec0f1d4ac793b8f2d16d863ec7"
      }
     },
     "metadata": {},
     "output_type": "display_data"
    },
    {
     "data": {
      "text/plain": [
       "Validation: |          | 0/? [00:00<?, ?it/s]"
      ],
      "application/vnd.jupyter.widget-view+json": {
       "version_major": 2,
       "version_minor": 0,
       "model_id": "f5096f809e494305957bb8edd902784a"
      }
     },
     "metadata": {},
     "output_type": "display_data"
    },
    {
     "data": {
      "text/plain": [
       "Validation: |          | 0/? [00:00<?, ?it/s]"
      ],
      "application/vnd.jupyter.widget-view+json": {
       "version_major": 2,
       "version_minor": 0,
       "model_id": "e79594e330ac4be584330b85aa64852c"
      }
     },
     "metadata": {},
     "output_type": "display_data"
    },
    {
     "name": "stderr",
     "output_type": "stream",
     "text": [
      "`Trainer.fit` stopped: `max_steps=500` reached.\n",
      "GPU available: False, used: False\n",
      "TPU available: False, using: 0 TPU cores\n",
      "HPU available: False, using: 0 HPUs\n"
     ]
    },
    {
     "data": {
      "text/plain": [
       "Predicting: |          | 0/? [00:00<?, ?it/s]"
      ],
      "application/vnd.jupyter.widget-view+json": {
       "version_major": 2,
       "version_minor": 0,
       "model_id": "953a0270cfc742beb9ec054d8b90a0b3"
      }
     },
     "metadata": {},
     "output_type": "display_data"
    },
    {
     "name": "stdout",
     "output_type": "stream",
     "text": [
      "\n",
      "Success! Forecast plot saved as nbeatsx_forecast.png\n"
     ]
    },
    {
     "data": {
      "text/plain": [
       "<Figure size 640x480 with 0 Axes>"
      ]
     },
     "metadata": {},
     "output_type": "display_data"
    }
   ],
   "execution_count": 2
  },
  {
   "metadata": {
    "ExecuteTime": {
     "end_time": "2025-08-03T07:04:19.042341Z",
     "start_time": "2025-08-03T07:03:49.484310Z"
    }
   },
   "cell_type": "code",
   "source": [
    "import pandas as pd\n",
    "import matplotlib.pyplot as plt\n",
    "from utilsforecast.plotting import plot_series\n",
    "from neuralforecast import NeuralForecast\n",
    "from neuralforecast.models import NBEATSx\n",
    "\n",
    "# Load your data\n",
    "df = pd.read_csv('./data/Clean_training.csv')\n",
    "\n",
    "# --- Data Preprocessing ---\n",
    "df['unique_id'] = df['Store'].astype(str) + '_' + df['Dept'].astype(str)\n",
    "df = df.rename(columns={'Date': 'ds', 'Target': 'y'})\n",
    "df['ds'] = pd.to_datetime(df['ds'])\n",
    "df['IsHoliday'] = df['IsHoliday'].astype(int)\n",
    "markdown_cols = ['MarkDown1', 'MarkDown2', 'MarkDown3', 'MarkDown4', 'MarkDown5']\n",
    "df[markdown_cols] = df[markdown_cols].fillna(0)\n",
    "df = df.sort_values(['unique_id', 'ds'])\n",
    "\n",
    "# --- Model Training ---\n",
    "# Use the single largest time series for this demonstration\n",
    "largest_series_id = df['unique_id'].value_counts().idxmax()\n",
    "df_subset = df[df['unique_id'] == largest_series_id].copy()\n",
    "\n",
    "print(f\"Training model on the largest series: {largest_series_id}\")\n",
    "\n",
    "# Define the N-BEATSx model configuration\n",
    "horizon = 12\n",
    "input_size = 2 * horizon\n",
    "\n",
    "# Split data into training and testing sets\n",
    "train_df = df_subset[:-horizon]\n",
    "test_df = df_subset\n",
    "\n",
    "model = NBEATSx(h=horizon,\n",
    "                input_size=input_size,\n",
    "                max_steps=500,\n",
    "                scaler_type='standard',\n",
    "                learning_rate=0.005,\n",
    "                random_seed=42) # Added for reproducibility\n",
    "\n",
    "# Wrap the model in the NeuralForecast object\n",
    "nf = NeuralForecast(models=[model], freq='W')\n",
    "\n",
    "# Train the model on the training data\n",
    "nf.fit(df=train_df)\n",
    "\n",
    "# --- Forecasting and Visualization ---\n",
    "# Generate predictions\n",
    "Y_hat_df = nf.predict()\n",
    "\n",
    "# As you like, here is the plot of the forecast against the test data 📈\n",
    "fig = plot_series(test_df, Y_hat_df, max_insample_length=150, plot_random=False)\n",
    "plt.tight_layout()\n",
    "fig.savefig('nbeatsx_forecast_with_test.png')\n",
    "\n",
    "print(\"\\nSuccess! Forecast plot saved as nbeatsx_forecast_with_test.png\")"
   ],
   "id": "e3b6e7c965bac3c0",
   "outputs": [
    {
     "name": "stderr",
     "output_type": "stream",
     "text": [
      "Seed set to 42\n",
      "GPU available: False, used: False\n",
      "TPU available: False, using: 0 TPU cores\n",
      "HPU available: False, using: 0 HPUs\n",
      "\n",
      "  | Name         | Type          | Params | Mode \n",
      "-------------------------------------------------------\n",
      "0 | loss         | MAE           | 0      | train\n",
      "1 | padder_train | ConstantPad1d | 0      | train\n",
      "2 | scaler       | TemporalNorm  | 0      | train\n",
      "3 | blocks       | ModuleList    | 2.4 M  | train\n",
      "-------------------------------------------------------\n",
      "2.4 M     Trainable params\n",
      "900       Non-trainable params\n",
      "2.4 M     Total params\n",
      "9.789     Total estimated model params size (MB)\n",
      "31        Modules in train mode\n",
      "0         Modules in eval mode\n"
     ]
    },
    {
     "name": "stdout",
     "output_type": "stream",
     "text": [
      "Training model on the largest series: 9_96\n"
     ]
    },
    {
     "data": {
      "text/plain": [
       "Sanity Checking: |          | 0/? [00:00<?, ?it/s]"
      ],
      "application/vnd.jupyter.widget-view+json": {
       "version_major": 2,
       "version_minor": 0,
       "model_id": "fe69e257dae54c4dbb94e109b32aacb0"
      }
     },
     "metadata": {},
     "output_type": "display_data"
    },
    {
     "data": {
      "text/plain": [
       "Training: |          | 0/? [00:00<?, ?it/s]"
      ],
      "application/vnd.jupyter.widget-view+json": {
       "version_major": 2,
       "version_minor": 0,
       "model_id": "26c4137628314b4587bd730b30bf38df"
      }
     },
     "metadata": {},
     "output_type": "display_data"
    },
    {
     "data": {
      "text/plain": [
       "Validation: |          | 0/? [00:00<?, ?it/s]"
      ],
      "application/vnd.jupyter.widget-view+json": {
       "version_major": 2,
       "version_minor": 0,
       "model_id": "38f428659968486db4a5a2904c55415a"
      }
     },
     "metadata": {},
     "output_type": "display_data"
    },
    {
     "data": {
      "text/plain": [
       "Validation: |          | 0/? [00:00<?, ?it/s]"
      ],
      "application/vnd.jupyter.widget-view+json": {
       "version_major": 2,
       "version_minor": 0,
       "model_id": "948a67e65bc34db48e745a703c4c2156"
      }
     },
     "metadata": {},
     "output_type": "display_data"
    },
    {
     "data": {
      "text/plain": [
       "Validation: |          | 0/? [00:00<?, ?it/s]"
      ],
      "application/vnd.jupyter.widget-view+json": {
       "version_major": 2,
       "version_minor": 0,
       "model_id": "ce70127def474d749f7936427dfe8f4f"
      }
     },
     "metadata": {},
     "output_type": "display_data"
    },
    {
     "data": {
      "text/plain": [
       "Validation: |          | 0/? [00:00<?, ?it/s]"
      ],
      "application/vnd.jupyter.widget-view+json": {
       "version_major": 2,
       "version_minor": 0,
       "model_id": "dc00aae5bc1848cf969541236c2ecce7"
      }
     },
     "metadata": {},
     "output_type": "display_data"
    },
    {
     "data": {
      "text/plain": [
       "Validation: |          | 0/? [00:00<?, ?it/s]"
      ],
      "application/vnd.jupyter.widget-view+json": {
       "version_major": 2,
       "version_minor": 0,
       "model_id": "3cc9f3618e9d454cbb8a81c19379194a"
      }
     },
     "metadata": {},
     "output_type": "display_data"
    },
    {
     "name": "stderr",
     "output_type": "stream",
     "text": [
      "`Trainer.fit` stopped: `max_steps=500` reached.\n",
      "GPU available: False, used: False\n",
      "TPU available: False, using: 0 TPU cores\n",
      "HPU available: False, using: 0 HPUs\n"
     ]
    },
    {
     "data": {
      "text/plain": [
       "Predicting: |          | 0/? [00:00<?, ?it/s]"
      ],
      "application/vnd.jupyter.widget-view+json": {
       "version_major": 2,
       "version_minor": 0,
       "model_id": "fcd36666bc6140308cfc2f9c71c9240b"
      }
     },
     "metadata": {},
     "output_type": "display_data"
    },
    {
     "name": "stdout",
     "output_type": "stream",
     "text": [
      "\n",
      "Success! Forecast plot saved as nbeatsx_forecast_with_test.png\n"
     ]
    },
    {
     "data": {
      "text/plain": [
       "<Figure size 640x480 with 0 Axes>"
      ]
     },
     "metadata": {},
     "output_type": "display_data"
    }
   ],
   "execution_count": 3
  },
  {
   "metadata": {
    "ExecuteTime": {
     "end_time": "2025-08-03T07:09:59.168119Z",
     "start_time": "2025-08-03T07:09:28.613991Z"
    }
   },
   "cell_type": "code",
   "source": [
    "import pandas as pd\n",
    "import numpy as np\n",
    "import matplotlib.pyplot as plt\n",
    "from utilsforecast.plotting import plot_series\n",
    "from neuralforecast import NeuralForecast\n",
    "from neuralforecast.models import NBEATSx\n",
    "from sklearn.metrics import mean_absolute_error, mean_squared_error, mean_absolute_percentage_error\n",
    "\n",
    "# Load your data\n",
    "df = pd.read_csv('./data/Clean_training.csv')\n",
    "\n",
    "# --- Data Preprocessing ---\n",
    "df['unique_id'] = df['Store'].astype(str) + '_' + df['Dept'].astype(str)\n",
    "df = df.rename(columns={'Date': 'ds', 'Target': 'y'})\n",
    "df['ds'] = pd.to_datetime(df['ds'])\n",
    "df['IsHoliday'] = df['IsHoliday'].astype(int)\n",
    "markdown_cols = ['MarkDown1', 'MarkDown2', 'MarkDown3', 'MarkDown4', 'MarkDown5']\n",
    "df[markdown_cols] = df[markdown_cols].fillna(0)\n",
    "df = df.sort_values(['unique_id', 'ds'])\n",
    "\n",
    "# --- Model Training ---\n",
    "largest_series_id = df['unique_id'].value_counts().idxmax()\n",
    "df_subset = df[df['unique_id'] == largest_series_id].copy()\n",
    "\n",
    "print(f\"Training model on the largest series: {largest_series_id}\")\n",
    "\n",
    "horizon = 12\n",
    "input_size = 2 * horizon\n",
    "\n",
    "train_df = df_subset[:-horizon]\n",
    "test_df = df_subset\n",
    "\n",
    "model = NBEATSx(h=horizon,\n",
    "                input_size=input_size,\n",
    "                max_steps=500,\n",
    "                scaler_type='standard',\n",
    "                learning_rate=0.005,\n",
    "                random_seed=42)\n",
    "\n",
    "nf = NeuralForecast(models=[model], freq='W')\n",
    "nf.fit(df=train_df)\n",
    "\n",
    "# --- Forecasting ---\n",
    "Y_hat_df = nf.predict()\n",
    "\n",
    "# --- Visualization ---\n",
    "fig = plot_series(test_df, Y_hat_df, max_insample_length=150, plot_random=False)\n",
    "plt.tight_layout()\n",
    "fig.savefig('nbeatsx_forecast_with_test.png')\n",
    "print(\"\\nSuccess! Forecast plot saved as nbeatsx_forecast_with_test.png\")\n",
    "\n",
    "# --- Model Evaluation ---\n",
    "# Merge predictions with actual values from the test set\n",
    "forecasts_df = pd.merge(test_df, Y_hat_df, on=['unique_id', 'ds'])\n",
    "\n",
    "# Extract actual and predicted values\n",
    "# --- Model Evaluation ---\n",
    "# The true values are the last 'horizon' values from the test dataframe\n",
    "y_true = test_df['y'].tail(horizon).values\n",
    "\n",
    "# The predicted values are in the 'NBEATSx' column of the forecast output\n",
    "y_pred = Y_hat_df['NBEATSx'].values\n",
    "\n",
    "# Calculate metrics\n",
    "mae = mean_absolute_error(y_true, y_pred)\n",
    "mse = mean_squared_error(y_true, y_pred)\n",
    "mape = mean_absolute_percentage_error(y_true, y_pred)\n",
    "\n",
    "print(\"\\n--- Model Performance Metrics ---\")\n",
    "print(f\"Mean Absolute Error (MAE): {mae:.2f}\")\n",
    "print(f\"Mean Squared Error (MSE): {mse:.2f}\")\n",
    "print(f\"Mean Absolute Percentage Error (MAPE): {mape:.2%}\")\n",
    "print(\"---------------------------------\")"
   ],
   "id": "7a7fdfccb90bc220",
   "outputs": [
    {
     "name": "stderr",
     "output_type": "stream",
     "text": [
      "Seed set to 42\n",
      "GPU available: False, used: False\n",
      "TPU available: False, using: 0 TPU cores\n",
      "HPU available: False, using: 0 HPUs\n",
      "\n",
      "  | Name         | Type          | Params | Mode \n",
      "-------------------------------------------------------\n",
      "0 | loss         | MAE           | 0      | train\n",
      "1 | padder_train | ConstantPad1d | 0      | train\n",
      "2 | scaler       | TemporalNorm  | 0      | train\n",
      "3 | blocks       | ModuleList    | 2.4 M  | train\n",
      "-------------------------------------------------------\n",
      "2.4 M     Trainable params\n",
      "900       Non-trainable params\n",
      "2.4 M     Total params\n",
      "9.789     Total estimated model params size (MB)\n",
      "31        Modules in train mode\n",
      "0         Modules in eval mode\n"
     ]
    },
    {
     "name": "stdout",
     "output_type": "stream",
     "text": [
      "Training model on the largest series: 9_96\n"
     ]
    },
    {
     "data": {
      "text/plain": [
       "Sanity Checking: |          | 0/? [00:00<?, ?it/s]"
      ],
      "application/vnd.jupyter.widget-view+json": {
       "version_major": 2,
       "version_minor": 0,
       "model_id": "efe23f6652f243fa91e750c295c71231"
      }
     },
     "metadata": {},
     "output_type": "display_data"
    },
    {
     "data": {
      "text/plain": [
       "Training: |          | 0/? [00:00<?, ?it/s]"
      ],
      "application/vnd.jupyter.widget-view+json": {
       "version_major": 2,
       "version_minor": 0,
       "model_id": "8c1ae0509f8640d988f7ec0a06dd3d16"
      }
     },
     "metadata": {},
     "output_type": "display_data"
    },
    {
     "data": {
      "text/plain": [
       "Validation: |          | 0/? [00:00<?, ?it/s]"
      ],
      "application/vnd.jupyter.widget-view+json": {
       "version_major": 2,
       "version_minor": 0,
       "model_id": "bfe42f2aba734f86918f4d27f057b887"
      }
     },
     "metadata": {},
     "output_type": "display_data"
    },
    {
     "data": {
      "text/plain": [
       "Validation: |          | 0/? [00:00<?, ?it/s]"
      ],
      "application/vnd.jupyter.widget-view+json": {
       "version_major": 2,
       "version_minor": 0,
       "model_id": "9d58d228bb4b437f98908ab328dd5eb9"
      }
     },
     "metadata": {},
     "output_type": "display_data"
    },
    {
     "data": {
      "text/plain": [
       "Validation: |          | 0/? [00:00<?, ?it/s]"
      ],
      "application/vnd.jupyter.widget-view+json": {
       "version_major": 2,
       "version_minor": 0,
       "model_id": "6675d8949d2b439999ecdfdf1aa4f5a8"
      }
     },
     "metadata": {},
     "output_type": "display_data"
    },
    {
     "data": {
      "text/plain": [
       "Validation: |          | 0/? [00:00<?, ?it/s]"
      ],
      "application/vnd.jupyter.widget-view+json": {
       "version_major": 2,
       "version_minor": 0,
       "model_id": "eaa6d1d4eee848c287ae173e0f702d8e"
      }
     },
     "metadata": {},
     "output_type": "display_data"
    },
    {
     "data": {
      "text/plain": [
       "Validation: |          | 0/? [00:00<?, ?it/s]"
      ],
      "application/vnd.jupyter.widget-view+json": {
       "version_major": 2,
       "version_minor": 0,
       "model_id": "8d4fe82ce14e4887bafe879f55ab72d8"
      }
     },
     "metadata": {},
     "output_type": "display_data"
    },
    {
     "name": "stderr",
     "output_type": "stream",
     "text": [
      "`Trainer.fit` stopped: `max_steps=500` reached.\n",
      "GPU available: False, used: False\n",
      "TPU available: False, using: 0 TPU cores\n",
      "HPU available: False, using: 0 HPUs\n"
     ]
    },
    {
     "data": {
      "text/plain": [
       "Predicting: |          | 0/? [00:00<?, ?it/s]"
      ],
      "application/vnd.jupyter.widget-view+json": {
       "version_major": 2,
       "version_minor": 0,
       "model_id": "c60cbda95f25468c8b74498a26f14e17"
      }
     },
     "metadata": {},
     "output_type": "display_data"
    },
    {
     "name": "stdout",
     "output_type": "stream",
     "text": [
      "\n",
      "Success! Forecast plot saved as nbeatsx_forecast_with_test.png\n",
      "\n",
      "--- Model Performance Metrics ---\n",
      "Mean Absolute Error (MAE): 262.14\n",
      "Mean Squared Error (MSE): 155870.00\n",
      "Mean Absolute Percentage Error (MAPE): 6.50%\n",
      "---------------------------------\n"
     ]
    },
    {
     "data": {
      "text/plain": [
       "<Figure size 640x480 with 0 Axes>"
      ]
     },
     "metadata": {},
     "output_type": "display_data"
    }
   ],
   "execution_count": 6
  },
  {
   "metadata": {},
   "cell_type": "code",
   "outputs": [],
   "execution_count": null,
   "source": "",
   "id": "13c20b6d7d16ee1a"
  }
 ],
 "metadata": {
  "kernelspec": {
   "display_name": "Python 3",
   "language": "python",
   "name": "python3"
  },
  "language_info": {
   "codemirror_mode": {
    "name": "ipython",
    "version": 2
   },
   "file_extension": ".py",
   "mimetype": "text/x-python",
   "name": "python",
   "nbconvert_exporter": "python",
   "pygments_lexer": "ipython2",
   "version": "2.7.6"
  }
 },
 "nbformat": 4,
 "nbformat_minor": 5
}

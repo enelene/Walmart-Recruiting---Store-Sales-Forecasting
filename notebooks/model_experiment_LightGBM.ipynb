{
  "cells": [
    {
      "cell_type": "markdown",
      "metadata": {
        "id": "view-in-github",
        "colab_type": "text"
      },
      "source": [
        "<a href=\"https://colab.research.google.com/github/enelene/Walmart-Recruiting---Store-Sales-Forecasting/blob/main/model_experiment_LightGBM.ipynb\" target=\"_parent\"><img src=\"https://colab.research.google.com/assets/colab-badge.svg\" alt=\"Open In Colab\"/></a>"
      ]
    },
    {
      "cell_type": "code",
      "execution_count": null,
      "metadata": {
        "colab": {
          "base_uri": "https://localhost:8080/"
        },
        "id": "UaeFETeNkzeO",
        "outputId": "67345fb3-6e08-4ba1-93f8-df03007eeb8a"
      },
      "outputs": [
        {
          "output_type": "stream",
          "name": "stdout",
          "text": [
            "Drive already mounted at /content/drive; to attempt to forcibly remount, call drive.mount(\"/content/drive\", force_remount=True).\n"
          ]
        }
      ],
      "source": [
        "from google.colab import drive\n",
        "drive.mount('/content/drive')"
      ]
    },
    {
      "cell_type": "code",
      "execution_count": null,
      "metadata": {
        "id": "O2jrscao5r8G"
      },
      "outputs": [],
      "source": [
        "import sys\n",
        "# Add the directory containing your script to the Python path\n",
        "sys.path.append('drive/MyDrive/Colab_Notebooks/Walmart-Recruiting---Store-Sales-Forecasting-main')"
      ]
    },
    {
      "cell_type": "code",
      "execution_count": null,
      "metadata": {
        "colab": {
          "base_uri": "https://localhost:8080/"
        },
        "collapsed": true,
        "id": "eY5HBZZz5tD9",
        "outputId": "807ac707-61ce-4cad-f5f3-acce6c5da3d2"
      },
      "outputs": [
        {
          "output_type": "stream",
          "name": "stdout",
          "text": [
            "Requirement already satisfied: scikit-learn in /usr/local/lib/python3.11/dist-packages (from -r drive/MyDrive/Colab_Notebooks/Walmart-Recruiting---Store-Sales-Forecasting-main/requirements.txt (line 1)) (1.6.1)\n",
            "Requirement already satisfied: matplotlib in /usr/local/lib/python3.11/dist-packages (from -r drive/MyDrive/Colab_Notebooks/Walmart-Recruiting---Store-Sales-Forecasting-main/requirements.txt (line 2)) (3.10.0)\n",
            "Requirement already satisfied: optuna in /usr/local/lib/python3.11/dist-packages (from -r drive/MyDrive/Colab_Notebooks/Walmart-Recruiting---Store-Sales-Forecasting-main/requirements.txt (line 4)) (4.4.0)\n",
            "Requirement already satisfied: lightgbm==4.3.0 in /usr/local/lib/python3.11/dist-packages (from -r drive/MyDrive/Colab_Notebooks/Walmart-Recruiting---Store-Sales-Forecasting-main/requirements.txt (line 8)) (4.3.0)\n",
            "Requirement already satisfied: statsmodels==0.14.2 in /usr/local/lib/python3.11/dist-packages (from -r drive/MyDrive/Colab_Notebooks/Walmart-Recruiting---Store-Sales-Forecasting-main/requirements.txt (line 9)) (0.14.2)\n",
            "Requirement already satisfied: pmdarima==2.0.4 in /usr/local/lib/python3.11/dist-packages (from -r drive/MyDrive/Colab_Notebooks/Walmart-Recruiting---Store-Sales-Forecasting-main/requirements.txt (line 10)) (2.0.4)\n",
            "Requirement already satisfied: kaggle in /usr/local/lib/python3.11/dist-packages (from -r drive/MyDrive/Colab_Notebooks/Walmart-Recruiting---Store-Sales-Forecasting-main/requirements.txt (line 13)) (1.7.4.5)\n",
            "Requirement already satisfied: wandb in /usr/local/lib/python3.11/dist-packages (from -r drive/MyDrive/Colab_Notebooks/Walmart-Recruiting---Store-Sales-Forecasting-main/requirements.txt (line 14)) (0.21.0)\n",
            "Requirement already satisfied: onnx in /usr/local/lib/python3.11/dist-packages (from -r drive/MyDrive/Colab_Notebooks/Walmart-Recruiting---Store-Sales-Forecasting-main/requirements.txt (line 15)) (1.18.0)\n",
            "Requirement already satisfied: pandas in /usr/local/lib/python3.11/dist-packages (from -r drive/MyDrive/Colab_Notebooks/Walmart-Recruiting---Store-Sales-Forecasting-main/requirements.txt (line 16)) (2.2.2)\n",
            "Requirement already satisfied: numpy in /usr/local/lib/python3.11/dist-packages (from -r drive/MyDrive/Colab_Notebooks/Walmart-Recruiting---Store-Sales-Forecasting-main/requirements.txt (line 17)) (2.0.2)\n",
            "Requirement already satisfied: xgboost in /usr/local/lib/python3.11/dist-packages (from -r drive/MyDrive/Colab_Notebooks/Walmart-Recruiting---Store-Sales-Forecasting-main/requirements.txt (line 18)) (3.0.2)\n",
            "Requirement already satisfied: dagshub in /usr/local/lib/python3.11/dist-packages (from -r drive/MyDrive/Colab_Notebooks/Walmart-Recruiting---Store-Sales-Forecasting-main/requirements.txt (line 20)) (0.6.2)\n",
            "Requirement already satisfied: mlflow<3 in /usr/local/lib/python3.11/dist-packages (from -r drive/MyDrive/Colab_Notebooks/Walmart-Recruiting---Store-Sales-Forecasting-main/requirements.txt (line 21)) (2.22.1)\n",
            "Requirement already satisfied: neuralforecast in /usr/local/lib/python3.11/dist-packages (from -r drive/MyDrive/Colab_Notebooks/Walmart-Recruiting---Store-Sales-Forecasting-main/requirements.txt (line 22)) (3.0.2)\n",
            "Requirement already satisfied: scipy in /usr/local/lib/python3.11/dist-packages (from lightgbm==4.3.0->-r drive/MyDrive/Colab_Notebooks/Walmart-Recruiting---Store-Sales-Forecasting-main/requirements.txt (line 8)) (1.16.0)\n",
            "Requirement already satisfied: patsy>=0.5.6 in /usr/local/lib/python3.11/dist-packages (from statsmodels==0.14.2->-r drive/MyDrive/Colab_Notebooks/Walmart-Recruiting---Store-Sales-Forecasting-main/requirements.txt (line 9)) (1.0.1)\n",
            "Requirement already satisfied: packaging>=21.3 in /usr/local/lib/python3.11/dist-packages (from statsmodels==0.14.2->-r drive/MyDrive/Colab_Notebooks/Walmart-Recruiting---Store-Sales-Forecasting-main/requirements.txt (line 9)) (24.2)\n",
            "Requirement already satisfied: joblib>=0.11 in /usr/local/lib/python3.11/dist-packages (from pmdarima==2.0.4->-r drive/MyDrive/Colab_Notebooks/Walmart-Recruiting---Store-Sales-Forecasting-main/requirements.txt (line 10)) (1.5.1)\n",
            "Requirement already satisfied: Cython!=0.29.18,!=0.29.31,>=0.29 in /usr/local/lib/python3.11/dist-packages (from pmdarima==2.0.4->-r drive/MyDrive/Colab_Notebooks/Walmart-Recruiting---Store-Sales-Forecasting-main/requirements.txt (line 10)) (3.0.12)\n",
            "Requirement already satisfied: urllib3 in /usr/local/lib/python3.11/dist-packages (from pmdarima==2.0.4->-r drive/MyDrive/Colab_Notebooks/Walmart-Recruiting---Store-Sales-Forecasting-main/requirements.txt (line 10)) (2.5.0)\n",
            "Requirement already satisfied: setuptools!=50.0.0,>=38.6.0 in /usr/local/lib/python3.11/dist-packages (from pmdarima==2.0.4->-r drive/MyDrive/Colab_Notebooks/Walmart-Recruiting---Store-Sales-Forecasting-main/requirements.txt (line 10)) (75.2.0)\n",
            "Requirement already satisfied: threadpoolctl>=3.1.0 in /usr/local/lib/python3.11/dist-packages (from scikit-learn->-r drive/MyDrive/Colab_Notebooks/Walmart-Recruiting---Store-Sales-Forecasting-main/requirements.txt (line 1)) (3.6.0)\n",
            "Requirement already satisfied: contourpy>=1.0.1 in /usr/local/lib/python3.11/dist-packages (from matplotlib->-r drive/MyDrive/Colab_Notebooks/Walmart-Recruiting---Store-Sales-Forecasting-main/requirements.txt (line 2)) (1.3.2)\n",
            "Requirement already satisfied: cycler>=0.10 in /usr/local/lib/python3.11/dist-packages (from matplotlib->-r drive/MyDrive/Colab_Notebooks/Walmart-Recruiting---Store-Sales-Forecasting-main/requirements.txt (line 2)) (0.12.1)\n",
            "Requirement already satisfied: fonttools>=4.22.0 in /usr/local/lib/python3.11/dist-packages (from matplotlib->-r drive/MyDrive/Colab_Notebooks/Walmart-Recruiting---Store-Sales-Forecasting-main/requirements.txt (line 2)) (4.59.0)\n",
            "Requirement already satisfied: kiwisolver>=1.3.1 in /usr/local/lib/python3.11/dist-packages (from matplotlib->-r drive/MyDrive/Colab_Notebooks/Walmart-Recruiting---Store-Sales-Forecasting-main/requirements.txt (line 2)) (1.4.8)\n",
            "Requirement already satisfied: pillow>=8 in /usr/local/lib/python3.11/dist-packages (from matplotlib->-r drive/MyDrive/Colab_Notebooks/Walmart-Recruiting---Store-Sales-Forecasting-main/requirements.txt (line 2)) (11.3.0)\n",
            "Requirement already satisfied: pyparsing>=2.3.1 in /usr/local/lib/python3.11/dist-packages (from matplotlib->-r drive/MyDrive/Colab_Notebooks/Walmart-Recruiting---Store-Sales-Forecasting-main/requirements.txt (line 2)) (3.2.3)\n",
            "Requirement already satisfied: python-dateutil>=2.7 in /usr/local/lib/python3.11/dist-packages (from matplotlib->-r drive/MyDrive/Colab_Notebooks/Walmart-Recruiting---Store-Sales-Forecasting-main/requirements.txt (line 2)) (2.9.0.post0)\n",
            "Requirement already satisfied: alembic>=1.5.0 in /usr/local/lib/python3.11/dist-packages (from optuna->-r drive/MyDrive/Colab_Notebooks/Walmart-Recruiting---Store-Sales-Forecasting-main/requirements.txt (line 4)) (1.16.4)\n",
            "Requirement already satisfied: colorlog in /usr/local/lib/python3.11/dist-packages (from optuna->-r drive/MyDrive/Colab_Notebooks/Walmart-Recruiting---Store-Sales-Forecasting-main/requirements.txt (line 4)) (6.9.0)\n",
            "Requirement already satisfied: sqlalchemy>=1.4.2 in /usr/local/lib/python3.11/dist-packages (from optuna->-r drive/MyDrive/Colab_Notebooks/Walmart-Recruiting---Store-Sales-Forecasting-main/requirements.txt (line 4)) (2.0.41)\n",
            "Requirement already satisfied: tqdm in /usr/local/lib/python3.11/dist-packages (from optuna->-r drive/MyDrive/Colab_Notebooks/Walmart-Recruiting---Store-Sales-Forecasting-main/requirements.txt (line 4)) (4.67.1)\n",
            "Requirement already satisfied: PyYAML in /usr/local/lib/python3.11/dist-packages (from optuna->-r drive/MyDrive/Colab_Notebooks/Walmart-Recruiting---Store-Sales-Forecasting-main/requirements.txt (line 4)) (6.0.2)\n",
            "Requirement already satisfied: bleach in /usr/local/lib/python3.11/dist-packages (from kaggle->-r drive/MyDrive/Colab_Notebooks/Walmart-Recruiting---Store-Sales-Forecasting-main/requirements.txt (line 13)) (6.2.0)\n",
            "Requirement already satisfied: certifi>=14.05.14 in /usr/local/lib/python3.11/dist-packages (from kaggle->-r drive/MyDrive/Colab_Notebooks/Walmart-Recruiting---Store-Sales-Forecasting-main/requirements.txt (line 13)) (2025.7.14)\n",
            "Requirement already satisfied: charset-normalizer in /usr/local/lib/python3.11/dist-packages (from kaggle->-r drive/MyDrive/Colab_Notebooks/Walmart-Recruiting---Store-Sales-Forecasting-main/requirements.txt (line 13)) (3.4.2)\n",
            "Requirement already satisfied: idna in /usr/local/lib/python3.11/dist-packages (from kaggle->-r drive/MyDrive/Colab_Notebooks/Walmart-Recruiting---Store-Sales-Forecasting-main/requirements.txt (line 13)) (3.10)\n",
            "Requirement already satisfied: protobuf in /usr/local/lib/python3.11/dist-packages (from kaggle->-r drive/MyDrive/Colab_Notebooks/Walmart-Recruiting---Store-Sales-Forecasting-main/requirements.txt (line 13)) (5.29.5)\n",
            "Requirement already satisfied: python-slugify in /usr/local/lib/python3.11/dist-packages (from kaggle->-r drive/MyDrive/Colab_Notebooks/Walmart-Recruiting---Store-Sales-Forecasting-main/requirements.txt (line 13)) (8.0.4)\n",
            "Requirement already satisfied: requests in /usr/local/lib/python3.11/dist-packages (from kaggle->-r drive/MyDrive/Colab_Notebooks/Walmart-Recruiting---Store-Sales-Forecasting-main/requirements.txt (line 13)) (2.32.3)\n",
            "Requirement already satisfied: six>=1.10 in /usr/local/lib/python3.11/dist-packages (from kaggle->-r drive/MyDrive/Colab_Notebooks/Walmart-Recruiting---Store-Sales-Forecasting-main/requirements.txt (line 13)) (1.17.0)\n",
            "Requirement already satisfied: text-unidecode in /usr/local/lib/python3.11/dist-packages (from kaggle->-r drive/MyDrive/Colab_Notebooks/Walmart-Recruiting---Store-Sales-Forecasting-main/requirements.txt (line 13)) (1.3)\n",
            "Requirement already satisfied: webencodings in /usr/local/lib/python3.11/dist-packages (from kaggle->-r drive/MyDrive/Colab_Notebooks/Walmart-Recruiting---Store-Sales-Forecasting-main/requirements.txt (line 13)) (0.5.1)\n",
            "Requirement already satisfied: click!=8.0.0,>=7.1 in /usr/local/lib/python3.11/dist-packages (from wandb->-r drive/MyDrive/Colab_Notebooks/Walmart-Recruiting---Store-Sales-Forecasting-main/requirements.txt (line 14)) (8.2.1)\n",
            "Requirement already satisfied: gitpython!=3.1.29,>=1.0.0 in /usr/local/lib/python3.11/dist-packages (from wandb->-r drive/MyDrive/Colab_Notebooks/Walmart-Recruiting---Store-Sales-Forecasting-main/requirements.txt (line 14)) (3.1.45)\n",
            "Requirement already satisfied: platformdirs in /usr/local/lib/python3.11/dist-packages (from wandb->-r drive/MyDrive/Colab_Notebooks/Walmart-Recruiting---Store-Sales-Forecasting-main/requirements.txt (line 14)) (4.3.8)\n",
            "Requirement already satisfied: pydantic<3 in /usr/local/lib/python3.11/dist-packages (from wandb->-r drive/MyDrive/Colab_Notebooks/Walmart-Recruiting---Store-Sales-Forecasting-main/requirements.txt (line 14)) (2.11.7)\n",
            "Requirement already satisfied: sentry-sdk>=2.0.0 in /usr/local/lib/python3.11/dist-packages (from wandb->-r drive/MyDrive/Colab_Notebooks/Walmart-Recruiting---Store-Sales-Forecasting-main/requirements.txt (line 14)) (2.33.2)\n",
            "Requirement already satisfied: typing-extensions<5,>=4.8 in /usr/local/lib/python3.11/dist-packages (from wandb->-r drive/MyDrive/Colab_Notebooks/Walmart-Recruiting---Store-Sales-Forecasting-main/requirements.txt (line 14)) (4.14.1)\n",
            "Requirement already satisfied: pytz>=2020.1 in /usr/local/lib/python3.11/dist-packages (from pandas->-r drive/MyDrive/Colab_Notebooks/Walmart-Recruiting---Store-Sales-Forecasting-main/requirements.txt (line 16)) (2025.2)\n",
            "Requirement already satisfied: tzdata>=2022.7 in /usr/local/lib/python3.11/dist-packages (from pandas->-r drive/MyDrive/Colab_Notebooks/Walmart-Recruiting---Store-Sales-Forecasting-main/requirements.txt (line 16)) (2025.2)\n",
            "Requirement already satisfied: nvidia-nccl-cu12 in /usr/local/lib/python3.11/dist-packages (from xgboost->-r drive/MyDrive/Colab_Notebooks/Walmart-Recruiting---Store-Sales-Forecasting-main/requirements.txt (line 18)) (2.21.5)\n",
            "Requirement already satisfied: appdirs>=1.4.4 in /usr/local/lib/python3.11/dist-packages (from dagshub->-r drive/MyDrive/Colab_Notebooks/Walmart-Recruiting---Store-Sales-Forecasting-main/requirements.txt (line 20)) (1.4.4)\n",
            "Requirement already satisfied: httpx>=0.23.0 in /usr/local/lib/python3.11/dist-packages (from dagshub->-r drive/MyDrive/Colab_Notebooks/Walmart-Recruiting---Store-Sales-Forecasting-main/requirements.txt (line 20)) (0.28.1)\n",
            "Requirement already satisfied: rich>=13.1.0 in /usr/local/lib/python3.11/dist-packages (from dagshub->-r drive/MyDrive/Colab_Notebooks/Walmart-Recruiting---Store-Sales-Forecasting-main/requirements.txt (line 20)) (13.9.4)\n",
            "Requirement already satisfied: dacite~=1.6.0 in /usr/local/lib/python3.11/dist-packages (from dagshub->-r drive/MyDrive/Colab_Notebooks/Walmart-Recruiting---Store-Sales-Forecasting-main/requirements.txt (line 20)) (1.6.0)\n",
            "Requirement already satisfied: tenacity>=8.2.2 in /usr/local/lib/python3.11/dist-packages (from dagshub->-r drive/MyDrive/Colab_Notebooks/Walmart-Recruiting---Store-Sales-Forecasting-main/requirements.txt (line 20)) (8.5.0)\n",
            "Requirement already satisfied: gql[requests] in /usr/local/lib/python3.11/dist-packages (from dagshub->-r drive/MyDrive/Colab_Notebooks/Walmart-Recruiting---Store-Sales-Forecasting-main/requirements.txt (line 20)) (3.5.3)\n",
            "Requirement already satisfied: dataclasses-json in /usr/local/lib/python3.11/dist-packages (from dagshub->-r drive/MyDrive/Colab_Notebooks/Walmart-Recruiting---Store-Sales-Forecasting-main/requirements.txt (line 20)) (0.6.7)\n",
            "Requirement already satisfied: treelib>=1.6.4 in /usr/local/lib/python3.11/dist-packages (from dagshub->-r drive/MyDrive/Colab_Notebooks/Walmart-Recruiting---Store-Sales-Forecasting-main/requirements.txt (line 20)) (1.8.0)\n",
            "Requirement already satisfied: pathvalidate>=3.0.0 in /usr/local/lib/python3.11/dist-packages (from dagshub->-r drive/MyDrive/Colab_Notebooks/Walmart-Recruiting---Store-Sales-Forecasting-main/requirements.txt (line 20)) (3.3.1)\n",
            "Requirement already satisfied: boto3 in /usr/local/lib/python3.11/dist-packages (from dagshub->-r drive/MyDrive/Colab_Notebooks/Walmart-Recruiting---Store-Sales-Forecasting-main/requirements.txt (line 20)) (1.40.1)\n",
            "Requirement already satisfied: semver in /usr/local/lib/python3.11/dist-packages (from dagshub->-r drive/MyDrive/Colab_Notebooks/Walmart-Recruiting---Store-Sales-Forecasting-main/requirements.txt (line 20)) (3.0.4)\n",
            "Requirement already satisfied: dagshub-annotation-converter>=0.1.5 in /usr/local/lib/python3.11/dist-packages (from dagshub->-r drive/MyDrive/Colab_Notebooks/Walmart-Recruiting---Store-Sales-Forecasting-main/requirements.txt (line 20)) (0.1.11)\n",
            "Requirement already satisfied: mlflow-skinny==2.22.1 in /usr/local/lib/python3.11/dist-packages (from mlflow<3->-r drive/MyDrive/Colab_Notebooks/Walmart-Recruiting---Store-Sales-Forecasting-main/requirements.txt (line 21)) (2.22.1)\n",
            "Requirement already satisfied: Flask<4 in /usr/local/lib/python3.11/dist-packages (from mlflow<3->-r drive/MyDrive/Colab_Notebooks/Walmart-Recruiting---Store-Sales-Forecasting-main/requirements.txt (line 21)) (3.1.1)\n",
            "Requirement already satisfied: Jinja2<4,>=2.11 in /usr/local/lib/python3.11/dist-packages (from mlflow<3->-r drive/MyDrive/Colab_Notebooks/Walmart-Recruiting---Store-Sales-Forecasting-main/requirements.txt (line 21)) (3.1.6)\n",
            "Requirement already satisfied: docker<8,>=4.0.0 in /usr/local/lib/python3.11/dist-packages (from mlflow<3->-r drive/MyDrive/Colab_Notebooks/Walmart-Recruiting---Store-Sales-Forecasting-main/requirements.txt (line 21)) (7.1.0)\n",
            "Requirement already satisfied: graphene<4 in /usr/local/lib/python3.11/dist-packages (from mlflow<3->-r drive/MyDrive/Colab_Notebooks/Walmart-Recruiting---Store-Sales-Forecasting-main/requirements.txt (line 21)) (3.4.3)\n",
            "Requirement already satisfied: gunicorn<24 in /usr/local/lib/python3.11/dist-packages (from mlflow<3->-r drive/MyDrive/Colab_Notebooks/Walmart-Recruiting---Store-Sales-Forecasting-main/requirements.txt (line 21)) (23.0.0)\n",
            "Requirement already satisfied: markdown<4,>=3.3 in /usr/local/lib/python3.11/dist-packages (from mlflow<3->-r drive/MyDrive/Colab_Notebooks/Walmart-Recruiting---Store-Sales-Forecasting-main/requirements.txt (line 21)) (3.8.2)\n",
            "Requirement already satisfied: pyarrow<20,>=4.0.0 in /usr/local/lib/python3.11/dist-packages (from mlflow<3->-r drive/MyDrive/Colab_Notebooks/Walmart-Recruiting---Store-Sales-Forecasting-main/requirements.txt (line 21)) (18.1.0)\n",
            "Requirement already satisfied: cachetools<6,>=5.0.0 in /usr/local/lib/python3.11/dist-packages (from mlflow-skinny==2.22.1->mlflow<3->-r drive/MyDrive/Colab_Notebooks/Walmart-Recruiting---Store-Sales-Forecasting-main/requirements.txt (line 21)) (5.5.2)\n",
            "Requirement already satisfied: cloudpickle<4 in /usr/local/lib/python3.11/dist-packages (from mlflow-skinny==2.22.1->mlflow<3->-r drive/MyDrive/Colab_Notebooks/Walmart-Recruiting---Store-Sales-Forecasting-main/requirements.txt (line 21)) (3.1.1)\n",
            "Requirement already satisfied: databricks-sdk<1,>=0.20.0 in /usr/local/lib/python3.11/dist-packages (from mlflow-skinny==2.22.1->mlflow<3->-r drive/MyDrive/Colab_Notebooks/Walmart-Recruiting---Store-Sales-Forecasting-main/requirements.txt (line 21)) (0.61.0)\n",
            "Requirement already satisfied: fastapi<1 in /usr/local/lib/python3.11/dist-packages (from mlflow-skinny==2.22.1->mlflow<3->-r drive/MyDrive/Colab_Notebooks/Walmart-Recruiting---Store-Sales-Forecasting-main/requirements.txt (line 21)) (0.116.1)\n",
            "Requirement already satisfied: importlib_metadata!=4.7.0,<9,>=3.7.0 in /usr/local/lib/python3.11/dist-packages (from mlflow-skinny==2.22.1->mlflow<3->-r drive/MyDrive/Colab_Notebooks/Walmart-Recruiting---Store-Sales-Forecasting-main/requirements.txt (line 21)) (8.7.0)\n",
            "Requirement already satisfied: opentelemetry-api<3,>=1.9.0 in /usr/local/lib/python3.11/dist-packages (from mlflow-skinny==2.22.1->mlflow<3->-r drive/MyDrive/Colab_Notebooks/Walmart-Recruiting---Store-Sales-Forecasting-main/requirements.txt (line 21)) (1.36.0)\n",
            "Requirement already satisfied: opentelemetry-sdk<3,>=1.9.0 in /usr/local/lib/python3.11/dist-packages (from mlflow-skinny==2.22.1->mlflow<3->-r drive/MyDrive/Colab_Notebooks/Walmart-Recruiting---Store-Sales-Forecasting-main/requirements.txt (line 21)) (1.36.0)\n",
            "Requirement already satisfied: sqlparse<1,>=0.4.0 in /usr/local/lib/python3.11/dist-packages (from mlflow-skinny==2.22.1->mlflow<3->-r drive/MyDrive/Colab_Notebooks/Walmart-Recruiting---Store-Sales-Forecasting-main/requirements.txt (line 21)) (0.5.3)\n",
            "Requirement already satisfied: uvicorn<1 in /usr/local/lib/python3.11/dist-packages (from mlflow-skinny==2.22.1->mlflow<3->-r drive/MyDrive/Colab_Notebooks/Walmart-Recruiting---Store-Sales-Forecasting-main/requirements.txt (line 21)) (0.35.0)\n",
            "Requirement already satisfied: coreforecast>=0.0.6 in /usr/local/lib/python3.11/dist-packages (from neuralforecast->-r drive/MyDrive/Colab_Notebooks/Walmart-Recruiting---Store-Sales-Forecasting-main/requirements.txt (line 22)) (0.0.16)\n",
            "Requirement already satisfied: fsspec in /usr/local/lib/python3.11/dist-packages (from neuralforecast->-r drive/MyDrive/Colab_Notebooks/Walmart-Recruiting---Store-Sales-Forecasting-main/requirements.txt (line 22)) (2025.3.0)\n",
            "Requirement already satisfied: torch<=2.6.0,>=2.0.0 in /usr/local/lib/python3.11/dist-packages (from neuralforecast->-r drive/MyDrive/Colab_Notebooks/Walmart-Recruiting---Store-Sales-Forecasting-main/requirements.txt (line 22)) (2.6.0+cu124)\n",
            "Requirement already satisfied: pytorch-lightning>=2.0.0 in /usr/local/lib/python3.11/dist-packages (from neuralforecast->-r drive/MyDrive/Colab_Notebooks/Walmart-Recruiting---Store-Sales-Forecasting-main/requirements.txt (line 22)) (2.5.2)\n",
            "Requirement already satisfied: ray>=2.2.0 in /usr/local/lib/python3.11/dist-packages (from ray[tune]>=2.2.0->neuralforecast->-r drive/MyDrive/Colab_Notebooks/Walmart-Recruiting---Store-Sales-Forecasting-main/requirements.txt (line 22)) (2.48.0)\n",
            "Requirement already satisfied: utilsforecast>=0.2.3 in /usr/local/lib/python3.11/dist-packages (from neuralforecast->-r drive/MyDrive/Colab_Notebooks/Walmart-Recruiting---Store-Sales-Forecasting-main/requirements.txt (line 22)) (0.2.12)\n",
            "Requirement already satisfied: Mako in /usr/lib/python3/dist-packages (from alembic>=1.5.0->optuna->-r drive/MyDrive/Colab_Notebooks/Walmart-Recruiting---Store-Sales-Forecasting-main/requirements.txt (line 4)) (1.1.3)\n",
            "Requirement already satisfied: lxml in /usr/local/lib/python3.11/dist-packages (from dagshub-annotation-converter>=0.1.5->dagshub->-r drive/MyDrive/Colab_Notebooks/Walmart-Recruiting---Store-Sales-Forecasting-main/requirements.txt (line 20)) (5.4.0)\n",
            "Requirement already satisfied: blinker>=1.9.0 in /usr/local/lib/python3.11/dist-packages (from Flask<4->mlflow<3->-r drive/MyDrive/Colab_Notebooks/Walmart-Recruiting---Store-Sales-Forecasting-main/requirements.txt (line 21)) (1.9.0)\n",
            "Requirement already satisfied: itsdangerous>=2.2.0 in /usr/local/lib/python3.11/dist-packages (from Flask<4->mlflow<3->-r drive/MyDrive/Colab_Notebooks/Walmart-Recruiting---Store-Sales-Forecasting-main/requirements.txt (line 21)) (2.2.0)\n",
            "Requirement already satisfied: markupsafe>=2.1.1 in /usr/local/lib/python3.11/dist-packages (from Flask<4->mlflow<3->-r drive/MyDrive/Colab_Notebooks/Walmart-Recruiting---Store-Sales-Forecasting-main/requirements.txt (line 21)) (3.0.2)\n",
            "Requirement already satisfied: werkzeug>=3.1.0 in /usr/local/lib/python3.11/dist-packages (from Flask<4->mlflow<3->-r drive/MyDrive/Colab_Notebooks/Walmart-Recruiting---Store-Sales-Forecasting-main/requirements.txt (line 21)) (3.1.3)\n",
            "Requirement already satisfied: gitdb<5,>=4.0.1 in /usr/local/lib/python3.11/dist-packages (from gitpython!=3.1.29,>=1.0.0->wandb->-r drive/MyDrive/Colab_Notebooks/Walmart-Recruiting---Store-Sales-Forecasting-main/requirements.txt (line 14)) (4.0.12)\n",
            "Requirement already satisfied: graphql-core<3.3,>=3.1 in /usr/local/lib/python3.11/dist-packages (from graphene<4->mlflow<3->-r drive/MyDrive/Colab_Notebooks/Walmart-Recruiting---Store-Sales-Forecasting-main/requirements.txt (line 21)) (3.2.6)\n",
            "Requirement already satisfied: graphql-relay<3.3,>=3.1 in /usr/local/lib/python3.11/dist-packages (from graphene<4->mlflow<3->-r drive/MyDrive/Colab_Notebooks/Walmart-Recruiting---Store-Sales-Forecasting-main/requirements.txt (line 21)) (3.2.0)\n",
            "Requirement already satisfied: anyio in /usr/local/lib/python3.11/dist-packages (from httpx>=0.23.0->dagshub->-r drive/MyDrive/Colab_Notebooks/Walmart-Recruiting---Store-Sales-Forecasting-main/requirements.txt (line 20)) (4.9.0)\n",
            "Requirement already satisfied: httpcore==1.* in /usr/local/lib/python3.11/dist-packages (from httpx>=0.23.0->dagshub->-r drive/MyDrive/Colab_Notebooks/Walmart-Recruiting---Store-Sales-Forecasting-main/requirements.txt (line 20)) (1.0.9)\n",
            "Requirement already satisfied: h11>=0.16 in /usr/local/lib/python3.11/dist-packages (from httpcore==1.*->httpx>=0.23.0->dagshub->-r drive/MyDrive/Colab_Notebooks/Walmart-Recruiting---Store-Sales-Forecasting-main/requirements.txt (line 20)) (0.16.0)\n",
            "Requirement already satisfied: annotated-types>=0.6.0 in /usr/local/lib/python3.11/dist-packages (from pydantic<3->wandb->-r drive/MyDrive/Colab_Notebooks/Walmart-Recruiting---Store-Sales-Forecasting-main/requirements.txt (line 14)) (0.7.0)\n",
            "Requirement already satisfied: pydantic-core==2.33.2 in /usr/local/lib/python3.11/dist-packages (from pydantic<3->wandb->-r drive/MyDrive/Colab_Notebooks/Walmart-Recruiting---Store-Sales-Forecasting-main/requirements.txt (line 14)) (2.33.2)\n",
            "Requirement already satisfied: typing-inspection>=0.4.0 in /usr/local/lib/python3.11/dist-packages (from pydantic<3->wandb->-r drive/MyDrive/Colab_Notebooks/Walmart-Recruiting---Store-Sales-Forecasting-main/requirements.txt (line 14)) (0.4.1)\n",
            "Requirement already satisfied: torchmetrics>=0.7.0 in /usr/local/lib/python3.11/dist-packages (from pytorch-lightning>=2.0.0->neuralforecast->-r drive/MyDrive/Colab_Notebooks/Walmart-Recruiting---Store-Sales-Forecasting-main/requirements.txt (line 22)) (1.8.0)\n",
            "Requirement already satisfied: lightning-utilities>=0.10.0 in /usr/local/lib/python3.11/dist-packages (from pytorch-lightning>=2.0.0->neuralforecast->-r drive/MyDrive/Colab_Notebooks/Walmart-Recruiting---Store-Sales-Forecasting-main/requirements.txt (line 22)) (0.15.0)\n",
            "Requirement already satisfied: filelock in /usr/local/lib/python3.11/dist-packages (from ray>=2.2.0->ray[tune]>=2.2.0->neuralforecast->-r drive/MyDrive/Colab_Notebooks/Walmart-Recruiting---Store-Sales-Forecasting-main/requirements.txt (line 22)) (3.18.0)\n",
            "Requirement already satisfied: jsonschema in /usr/local/lib/python3.11/dist-packages (from ray>=2.2.0->ray[tune]>=2.2.0->neuralforecast->-r drive/MyDrive/Colab_Notebooks/Walmart-Recruiting---Store-Sales-Forecasting-main/requirements.txt (line 22)) (4.25.0)\n",
            "Requirement already satisfied: msgpack<2.0.0,>=1.0.0 in /usr/local/lib/python3.11/dist-packages (from ray>=2.2.0->ray[tune]>=2.2.0->neuralforecast->-r drive/MyDrive/Colab_Notebooks/Walmart-Recruiting---Store-Sales-Forecasting-main/requirements.txt (line 22)) (1.1.1)\n",
            "Requirement already satisfied: tensorboardX>=1.9 in /usr/local/lib/python3.11/dist-packages (from ray[tune]>=2.2.0->neuralforecast->-r drive/MyDrive/Colab_Notebooks/Walmart-Recruiting---Store-Sales-Forecasting-main/requirements.txt (line 22)) (2.6.4)\n",
            "Requirement already satisfied: markdown-it-py>=2.2.0 in /usr/local/lib/python3.11/dist-packages (from rich>=13.1.0->dagshub->-r drive/MyDrive/Colab_Notebooks/Walmart-Recruiting---Store-Sales-Forecasting-main/requirements.txt (line 20)) (3.0.0)\n",
            "Requirement already satisfied: pygments<3.0.0,>=2.13.0 in /usr/local/lib/python3.11/dist-packages (from rich>=13.1.0->dagshub->-r drive/MyDrive/Colab_Notebooks/Walmart-Recruiting---Store-Sales-Forecasting-main/requirements.txt (line 20)) (2.19.2)\n",
            "Requirement already satisfied: greenlet>=1 in /usr/local/lib/python3.11/dist-packages (from sqlalchemy>=1.4.2->optuna->-r drive/MyDrive/Colab_Notebooks/Walmart-Recruiting---Store-Sales-Forecasting-main/requirements.txt (line 4)) (3.2.3)\n",
            "Requirement already satisfied: networkx in /usr/local/lib/python3.11/dist-packages (from torch<=2.6.0,>=2.0.0->neuralforecast->-r drive/MyDrive/Colab_Notebooks/Walmart-Recruiting---Store-Sales-Forecasting-main/requirements.txt (line 22)) (3.5)\n",
            "Requirement already satisfied: nvidia-cuda-nvrtc-cu12==12.4.127 in /usr/local/lib/python3.11/dist-packages (from torch<=2.6.0,>=2.0.0->neuralforecast->-r drive/MyDrive/Colab_Notebooks/Walmart-Recruiting---Store-Sales-Forecasting-main/requirements.txt (line 22)) (12.4.127)\n",
            "Requirement already satisfied: nvidia-cuda-runtime-cu12==12.4.127 in /usr/local/lib/python3.11/dist-packages (from torch<=2.6.0,>=2.0.0->neuralforecast->-r drive/MyDrive/Colab_Notebooks/Walmart-Recruiting---Store-Sales-Forecasting-main/requirements.txt (line 22)) (12.4.127)\n",
            "Requirement already satisfied: nvidia-cuda-cupti-cu12==12.4.127 in /usr/local/lib/python3.11/dist-packages (from torch<=2.6.0,>=2.0.0->neuralforecast->-r drive/MyDrive/Colab_Notebooks/Walmart-Recruiting---Store-Sales-Forecasting-main/requirements.txt (line 22)) (12.4.127)\n",
            "Requirement already satisfied: nvidia-cudnn-cu12==9.1.0.70 in /usr/local/lib/python3.11/dist-packages (from torch<=2.6.0,>=2.0.0->neuralforecast->-r drive/MyDrive/Colab_Notebooks/Walmart-Recruiting---Store-Sales-Forecasting-main/requirements.txt (line 22)) (9.1.0.70)\n",
            "Requirement already satisfied: nvidia-cublas-cu12==12.4.5.8 in /usr/local/lib/python3.11/dist-packages (from torch<=2.6.0,>=2.0.0->neuralforecast->-r drive/MyDrive/Colab_Notebooks/Walmart-Recruiting---Store-Sales-Forecasting-main/requirements.txt (line 22)) (12.4.5.8)\n",
            "Requirement already satisfied: nvidia-cufft-cu12==11.2.1.3 in /usr/local/lib/python3.11/dist-packages (from torch<=2.6.0,>=2.0.0->neuralforecast->-r drive/MyDrive/Colab_Notebooks/Walmart-Recruiting---Store-Sales-Forecasting-main/requirements.txt (line 22)) (11.2.1.3)\n",
            "Requirement already satisfied: nvidia-curand-cu12==10.3.5.147 in /usr/local/lib/python3.11/dist-packages (from torch<=2.6.0,>=2.0.0->neuralforecast->-r drive/MyDrive/Colab_Notebooks/Walmart-Recruiting---Store-Sales-Forecasting-main/requirements.txt (line 22)) (10.3.5.147)\n",
            "Requirement already satisfied: nvidia-cusolver-cu12==11.6.1.9 in /usr/local/lib/python3.11/dist-packages (from torch<=2.6.0,>=2.0.0->neuralforecast->-r drive/MyDrive/Colab_Notebooks/Walmart-Recruiting---Store-Sales-Forecasting-main/requirements.txt (line 22)) (11.6.1.9)\n",
            "Requirement already satisfied: nvidia-cusparse-cu12==12.3.1.170 in /usr/local/lib/python3.11/dist-packages (from torch<=2.6.0,>=2.0.0->neuralforecast->-r drive/MyDrive/Colab_Notebooks/Walmart-Recruiting---Store-Sales-Forecasting-main/requirements.txt (line 22)) (12.3.1.170)\n",
            "Requirement already satisfied: nvidia-cusparselt-cu12==0.6.2 in /usr/local/lib/python3.11/dist-packages (from torch<=2.6.0,>=2.0.0->neuralforecast->-r drive/MyDrive/Colab_Notebooks/Walmart-Recruiting---Store-Sales-Forecasting-main/requirements.txt (line 22)) (0.6.2)\n",
            "Requirement already satisfied: nvidia-nvtx-cu12==12.4.127 in /usr/local/lib/python3.11/dist-packages (from torch<=2.6.0,>=2.0.0->neuralforecast->-r drive/MyDrive/Colab_Notebooks/Walmart-Recruiting---Store-Sales-Forecasting-main/requirements.txt (line 22)) (12.4.127)\n",
            "Requirement already satisfied: nvidia-nvjitlink-cu12==12.4.127 in /usr/local/lib/python3.11/dist-packages (from torch<=2.6.0,>=2.0.0->neuralforecast->-r drive/MyDrive/Colab_Notebooks/Walmart-Recruiting---Store-Sales-Forecasting-main/requirements.txt (line 22)) (12.4.127)\n",
            "Requirement already satisfied: triton==3.2.0 in /usr/local/lib/python3.11/dist-packages (from torch<=2.6.0,>=2.0.0->neuralforecast->-r drive/MyDrive/Colab_Notebooks/Walmart-Recruiting---Store-Sales-Forecasting-main/requirements.txt (line 22)) (3.2.0)\n",
            "Requirement already satisfied: sympy==1.13.1 in /usr/local/lib/python3.11/dist-packages (from torch<=2.6.0,>=2.0.0->neuralforecast->-r drive/MyDrive/Colab_Notebooks/Walmart-Recruiting---Store-Sales-Forecasting-main/requirements.txt (line 22)) (1.13.1)\n",
            "Requirement already satisfied: mpmath<1.4,>=1.1.0 in /usr/local/lib/python3.11/dist-packages (from sympy==1.13.1->torch<=2.6.0,>=2.0.0->neuralforecast->-r drive/MyDrive/Colab_Notebooks/Walmart-Recruiting---Store-Sales-Forecasting-main/requirements.txt (line 22)) (1.3.0)\n",
            "Requirement already satisfied: botocore<1.41.0,>=1.40.1 in /usr/local/lib/python3.11/dist-packages (from boto3->dagshub->-r drive/MyDrive/Colab_Notebooks/Walmart-Recruiting---Store-Sales-Forecasting-main/requirements.txt (line 20)) (1.40.1)\n",
            "Requirement already satisfied: jmespath<2.0.0,>=0.7.1 in /usr/local/lib/python3.11/dist-packages (from boto3->dagshub->-r drive/MyDrive/Colab_Notebooks/Walmart-Recruiting---Store-Sales-Forecasting-main/requirements.txt (line 20)) (1.0.1)\n",
            "Requirement already satisfied: s3transfer<0.14.0,>=0.13.0 in /usr/local/lib/python3.11/dist-packages (from boto3->dagshub->-r drive/MyDrive/Colab_Notebooks/Walmart-Recruiting---Store-Sales-Forecasting-main/requirements.txt (line 20)) (0.13.1)\n",
            "Requirement already satisfied: marshmallow<4.0.0,>=3.18.0 in /usr/local/lib/python3.11/dist-packages (from dataclasses-json->dagshub->-r drive/MyDrive/Colab_Notebooks/Walmart-Recruiting---Store-Sales-Forecasting-main/requirements.txt (line 20)) (3.26.1)\n",
            "Requirement already satisfied: typing-inspect<1,>=0.4.0 in /usr/local/lib/python3.11/dist-packages (from dataclasses-json->dagshub->-r drive/MyDrive/Colab_Notebooks/Walmart-Recruiting---Store-Sales-Forecasting-main/requirements.txt (line 20)) (0.9.0)\n",
            "Requirement already satisfied: yarl<2.0,>=1.6 in /usr/local/lib/python3.11/dist-packages (from gql[requests]->dagshub->-r drive/MyDrive/Colab_Notebooks/Walmart-Recruiting---Store-Sales-Forecasting-main/requirements.txt (line 20)) (1.20.1)\n",
            "Requirement already satisfied: backoff<3.0,>=1.11.1 in /usr/local/lib/python3.11/dist-packages (from gql[requests]->dagshub->-r drive/MyDrive/Colab_Notebooks/Walmart-Recruiting---Store-Sales-Forecasting-main/requirements.txt (line 20)) (2.2.1)\n",
            "Requirement already satisfied: requests-toolbelt<2,>=1.0.0 in /usr/local/lib/python3.11/dist-packages (from gql[requests]->dagshub->-r drive/MyDrive/Colab_Notebooks/Walmart-Recruiting---Store-Sales-Forecasting-main/requirements.txt (line 20)) (1.0.0)\n",
            "Requirement already satisfied: sniffio>=1.1 in /usr/local/lib/python3.11/dist-packages (from anyio->httpx>=0.23.0->dagshub->-r drive/MyDrive/Colab_Notebooks/Walmart-Recruiting---Store-Sales-Forecasting-main/requirements.txt (line 20)) (1.3.1)\n",
            "Requirement already satisfied: google-auth~=2.0 in /usr/local/lib/python3.11/dist-packages (from databricks-sdk<1,>=0.20.0->mlflow-skinny==2.22.1->mlflow<3->-r drive/MyDrive/Colab_Notebooks/Walmart-Recruiting---Store-Sales-Forecasting-main/requirements.txt (line 21)) (2.38.0)\n",
            "Requirement already satisfied: starlette<0.48.0,>=0.40.0 in /usr/local/lib/python3.11/dist-packages (from fastapi<1->mlflow-skinny==2.22.1->mlflow<3->-r drive/MyDrive/Colab_Notebooks/Walmart-Recruiting---Store-Sales-Forecasting-main/requirements.txt (line 21)) (0.47.2)\n",
            "Requirement already satisfied: aiohttp!=4.0.0a0,!=4.0.0a1 in /usr/local/lib/python3.11/dist-packages (from fsspec[http]>=2022.5.0->pytorch-lightning>=2.0.0->neuralforecast->-r drive/MyDrive/Colab_Notebooks/Walmart-Recruiting---Store-Sales-Forecasting-main/requirements.txt (line 22)) (3.12.14)\n",
            "Requirement already satisfied: smmap<6,>=3.0.1 in /usr/local/lib/python3.11/dist-packages (from gitdb<5,>=4.0.1->gitpython!=3.1.29,>=1.0.0->wandb->-r drive/MyDrive/Colab_Notebooks/Walmart-Recruiting---Store-Sales-Forecasting-main/requirements.txt (line 14)) (5.0.2)\n",
            "Requirement already satisfied: zipp>=3.20 in /usr/local/lib/python3.11/dist-packages (from importlib_metadata!=4.7.0,<9,>=3.7.0->mlflow-skinny==2.22.1->mlflow<3->-r drive/MyDrive/Colab_Notebooks/Walmart-Recruiting---Store-Sales-Forecasting-main/requirements.txt (line 21)) (3.23.0)\n",
            "Requirement already satisfied: mdurl~=0.1 in /usr/local/lib/python3.11/dist-packages (from markdown-it-py>=2.2.0->rich>=13.1.0->dagshub->-r drive/MyDrive/Colab_Notebooks/Walmart-Recruiting---Store-Sales-Forecasting-main/requirements.txt (line 20)) (0.1.2)\n",
            "Requirement already satisfied: opentelemetry-semantic-conventions==0.57b0 in /usr/local/lib/python3.11/dist-packages (from opentelemetry-sdk<3,>=1.9.0->mlflow-skinny==2.22.1->mlflow<3->-r drive/MyDrive/Colab_Notebooks/Walmart-Recruiting---Store-Sales-Forecasting-main/requirements.txt (line 21)) (0.57b0)\n",
            "Requirement already satisfied: mypy-extensions>=0.3.0 in /usr/local/lib/python3.11/dist-packages (from typing-inspect<1,>=0.4.0->dataclasses-json->dagshub->-r drive/MyDrive/Colab_Notebooks/Walmart-Recruiting---Store-Sales-Forecasting-main/requirements.txt (line 20)) (1.1.0)\n",
            "Requirement already satisfied: multidict>=4.0 in /usr/local/lib/python3.11/dist-packages (from yarl<2.0,>=1.6->gql[requests]->dagshub->-r drive/MyDrive/Colab_Notebooks/Walmart-Recruiting---Store-Sales-Forecasting-main/requirements.txt (line 20)) (6.6.3)\n",
            "Requirement already satisfied: propcache>=0.2.1 in /usr/local/lib/python3.11/dist-packages (from yarl<2.0,>=1.6->gql[requests]->dagshub->-r drive/MyDrive/Colab_Notebooks/Walmart-Recruiting---Store-Sales-Forecasting-main/requirements.txt (line 20)) (0.3.2)\n",
            "Requirement already satisfied: attrs>=22.2.0 in /usr/local/lib/python3.11/dist-packages (from jsonschema->ray>=2.2.0->ray[tune]>=2.2.0->neuralforecast->-r drive/MyDrive/Colab_Notebooks/Walmart-Recruiting---Store-Sales-Forecasting-main/requirements.txt (line 22)) (25.3.0)\n",
            "Requirement already satisfied: jsonschema-specifications>=2023.03.6 in /usr/local/lib/python3.11/dist-packages (from jsonschema->ray>=2.2.0->ray[tune]>=2.2.0->neuralforecast->-r drive/MyDrive/Colab_Notebooks/Walmart-Recruiting---Store-Sales-Forecasting-main/requirements.txt (line 22)) (2025.4.1)\n",
            "Requirement already satisfied: referencing>=0.28.4 in /usr/local/lib/python3.11/dist-packages (from jsonschema->ray>=2.2.0->ray[tune]>=2.2.0->neuralforecast->-r drive/MyDrive/Colab_Notebooks/Walmart-Recruiting---Store-Sales-Forecasting-main/requirements.txt (line 22)) (0.36.2)\n",
            "Requirement already satisfied: rpds-py>=0.7.1 in /usr/local/lib/python3.11/dist-packages (from jsonschema->ray>=2.2.0->ray[tune]>=2.2.0->neuralforecast->-r drive/MyDrive/Colab_Notebooks/Walmart-Recruiting---Store-Sales-Forecasting-main/requirements.txt (line 22)) (0.26.0)\n",
            "Requirement already satisfied: aiohappyeyeballs>=2.5.0 in /usr/local/lib/python3.11/dist-packages (from aiohttp!=4.0.0a0,!=4.0.0a1->fsspec[http]>=2022.5.0->pytorch-lightning>=2.0.0->neuralforecast->-r drive/MyDrive/Colab_Notebooks/Walmart-Recruiting---Store-Sales-Forecasting-main/requirements.txt (line 22)) (2.6.1)\n",
            "Requirement already satisfied: aiosignal>=1.4.0 in /usr/local/lib/python3.11/dist-packages (from aiohttp!=4.0.0a0,!=4.0.0a1->fsspec[http]>=2022.5.0->pytorch-lightning>=2.0.0->neuralforecast->-r drive/MyDrive/Colab_Notebooks/Walmart-Recruiting---Store-Sales-Forecasting-main/requirements.txt (line 22)) (1.4.0)\n",
            "Requirement already satisfied: frozenlist>=1.1.1 in /usr/local/lib/python3.11/dist-packages (from aiohttp!=4.0.0a0,!=4.0.0a1->fsspec[http]>=2022.5.0->pytorch-lightning>=2.0.0->neuralforecast->-r drive/MyDrive/Colab_Notebooks/Walmart-Recruiting---Store-Sales-Forecasting-main/requirements.txt (line 22)) (1.7.0)\n",
            "Requirement already satisfied: pyasn1-modules>=0.2.1 in /usr/local/lib/python3.11/dist-packages (from google-auth~=2.0->databricks-sdk<1,>=0.20.0->mlflow-skinny==2.22.1->mlflow<3->-r drive/MyDrive/Colab_Notebooks/Walmart-Recruiting---Store-Sales-Forecasting-main/requirements.txt (line 21)) (0.4.2)\n",
            "Requirement already satisfied: rsa<5,>=3.1.4 in /usr/local/lib/python3.11/dist-packages (from google-auth~=2.0->databricks-sdk<1,>=0.20.0->mlflow-skinny==2.22.1->mlflow<3->-r drive/MyDrive/Colab_Notebooks/Walmart-Recruiting---Store-Sales-Forecasting-main/requirements.txt (line 21)) (4.9.1)\n",
            "Requirement already satisfied: pyasn1<0.7.0,>=0.6.1 in /usr/local/lib/python3.11/dist-packages (from pyasn1-modules>=0.2.1->google-auth~=2.0->databricks-sdk<1,>=0.20.0->mlflow-skinny==2.22.1->mlflow<3->-r drive/MyDrive/Colab_Notebooks/Walmart-Recruiting---Store-Sales-Forecasting-main/requirements.txt (line 21)) (0.6.1)\n"
          ]
        }
      ],
      "source": [
        "!pip install -r  drive/MyDrive/Colab_Notebooks/Walmart-Recruiting---Store-Sales-Forecasting-main/requirements.txt"
      ]
    },
    {
      "cell_type": "code",
      "execution_count": null,
      "metadata": {
        "id": "OjV8Etb15uQ4"
      },
      "outputs": [],
      "source": [
        "import pandas as pd\n",
        "import numpy as np\n",
        "import lightgbm as lgb\n",
        "import mlflow\n",
        "import mlflow.pyfunc\n",
        "import optuna\n",
        "import os\n",
        "import dagshub\n",
        "\n",
        "from sklearn.model_selection import TimeSeriesSplit\n",
        "from sklearn.metrics import mean_absolute_error, mean_squared_error\n",
        "# from src.preprocessing import advanced_feature_engineering"
      ]
    },
    {
      "cell_type": "code",
      "execution_count": null,
      "metadata": {
        "id": "YTUVOQBp5vVs"
      },
      "outputs": [],
      "source": [
        "def wmae(y_true, y_pred, is_holiday):\n",
        "    \"\"\"Computes the Weighted Mean Absolute Error.\"\"\"\n",
        "    weights = np.where(np.array(is_holiday, dtype=bool), 5, 1)\n",
        "    return np.sum(weights * np.abs(y_true - y_pred)) / np.sum(weights)\n"
      ]
    },
    {
      "cell_type": "code",
      "execution_count": null,
      "metadata": {
        "colab": {
          "base_uri": "https://localhost:8080/"
        },
        "id": "cjmWlsk56UZt",
        "outputId": "4a07f347-cd4d-4cb8-d61d-6a505ea28ba8"
      },
      "outputs": [
        {
          "output_type": "stream",
          "name": "stdout",
          "text": [
            "Successfully loaded all pre-split data files.\n"
          ]
        }
      ],
      "source": [
        "try:\n",
        "    train_df = pd.read_csv('drive/MyDrive/Colab_Notebooks/Walmart-Recruiting---Store-Sales-Forecasting-main/data/train_final.csv', parse_dates=['Date'])\n",
        "    validation_df = pd.read_csv('drive/MyDrive/Colab_Notebooks/Walmart-Recruiting---Store-Sales-Forecasting-main/data/validation_final.csv', parse_dates=['Date'])\n",
        "    test_df = pd.read_csv('drive/MyDrive/Colab_Notebooks/Walmart-Recruiting---Store-Sales-Forecasting-main/data/test_final.csv', parse_dates=['Date'])\n",
        "    print(\"Successfully loaded all pre-split data files.\")\n",
        "except KeyError:\n",
        "    print(\"ERROR: Make sure you have uploaded all three required CSV files.\")\n",
        "    raise"
      ]
    },
    {
      "cell_type": "code",
      "execution_count": null,
      "metadata": {
        "colab": {
          "base_uri": "https://localhost:8080/",
          "height": 65
        },
        "id": "4ORB06UD6Zkm",
        "outputId": "779ea58c-fbb2-4fb8-f5a8-ed9d528cacad"
      },
      "outputs": [
        {
          "output_type": "display_data",
          "data": {
            "text/plain": [
              "Accessing as enelene\n"
            ],
            "text/html": [
              "<pre style=\"white-space:pre;overflow-x:auto;line-height:normal;font-family:Menlo,'DejaVu Sans Mono',consolas,'Courier New',monospace\">Accessing as enelene\n",
              "</pre>\n"
            ]
          },
          "metadata": {}
        },
        {
          "output_type": "display_data",
          "data": {
            "text/plain": [
              "Initialized MLflow to track repo \u001b[32m\"enelene/Walmart-Recruiting---Store-Sales-Forecasting\"\u001b[0m\n"
            ],
            "text/html": [
              "<pre style=\"white-space:pre;overflow-x:auto;line-height:normal;font-family:Menlo,'DejaVu Sans Mono',consolas,'Courier New',monospace\">Initialized MLflow to track repo <span style=\"color: #008000; text-decoration-color: #008000\">\"enelene/Walmart-Recruiting---Store-Sales-Forecasting\"</span>\n",
              "</pre>\n"
            ]
          },
          "metadata": {}
        },
        {
          "output_type": "display_data",
          "data": {
            "text/plain": [
              "Repository enelene/Walmart-Recruiting---Store-Sales-Forecasting initialized!\n"
            ],
            "text/html": [
              "<pre style=\"white-space:pre;overflow-x:auto;line-height:normal;font-family:Menlo,'DejaVu Sans Mono',consolas,'Courier New',monospace\">Repository enelene/Walmart-Recruiting---Store-Sales-Forecasting initialized!\n",
              "</pre>\n"
            ]
          },
          "metadata": {}
        }
      ],
      "source": [
        "import dagshub\n",
        "\n",
        "dagshub.init(repo_owner='enelene', repo_name='Walmart-Recruiting---Store-Sales-Forecasting', mlflow=True)"
      ]
    },
    {
      "cell_type": "code",
      "execution_count": null,
      "metadata": {
        "colab": {
          "base_uri": "https://localhost:8080/"
        },
        "id": "mViH63WT6e4t",
        "outputId": "abc4d6f2-7680-4fc6-eff0-27eaef19783a"
      },
      "outputs": [
        {
          "output_type": "stream",
          "name": "stdout",
          "text": [
            "Experiment set to: 'LightGBM_Training'\n"
          ]
        }
      ],
      "source": [
        "import mlflow\n",
        "mlflow.set_tracking_uri(\"https://dagshub.com/enelene/Walmart-Recruiting---Store-Sales-Forecasting.mlflow\")\n",
        "\n",
        "os.environ['MLFLOW_TRACKING_USERNAME'] = 'enelene'\n",
        "os.environ['MLFLOW_TRACKING_PASSWORD'] = 'cbe8109dbe80931664d754dbd476356414fa62a0'\n",
        "\n",
        "EXPERIMENT_NAME = \"LightGBM_Training\"\n",
        "print(f\"Experiment set to: '{EXPERIMENT_NAME}'\")\n"
      ]
    },
    {
      "cell_type": "code",
      "execution_count": null,
      "metadata": {
        "id": "0nqEfH8b7V9K"
      },
      "outputs": [],
      "source": [
        "# Define Features (X) and Target (y)\n",
        "TARGET = 'Weekly_Sales'\n",
        "FEATURES_TO_DROP = [TARGET, 'Date']\n",
        "initial_features = [col for col in train_df.columns if col not in FEATURES_TO_DROP]\n",
        "\n",
        "# Define categorical features based on our knowledge of the data\n",
        "categorical_features_initial = [\n",
        "    'Store', 'Dept', 'IsHoliday', 'Year', 'Month', 'WeekOfYear', 'HasMarkdown',\n",
        "    'Store_Dept', 'Type_A', 'Type_B', 'Type_C', 'IsSuperBowlWeek',\n",
        "    'IsLaborDayWeek', 'IsThanksgivingWeek', 'IsChristmasWeek'\n",
        "]\n",
        "categorical_features_initial = [f for f in categorical_features_initial if f in train_df.columns]\n"
      ]
    },
    {
      "cell_type": "code",
      "execution_count": null,
      "metadata": {
        "id": "nYLfscCz7Ycn"
      },
      "outputs": [],
      "source": [
        "# Convert categorical features to the correct dtype for LightGBM\n",
        "for col in categorical_features_initial:\n",
        "    train_df[col] = train_df[col].astype('category')"
      ]
    },
    {
      "cell_type": "code",
      "execution_count": null,
      "metadata": {
        "colab": {
          "base_uri": "https://localhost:8080/",
          "height": 66
        },
        "id": "NRyNys4v7fYl",
        "outputId": "3d035929-29d5-40e0-c717-1a5f265fcb3d"
      },
      "outputs": [
        {
          "output_type": "display_data",
          "data": {
            "text/plain": [
              "Initialized MLflow to track repo \u001b[32m\"enelene/Walmart-Recruiting---Store-Sales-Forecasting\"\u001b[0m\n"
            ],
            "text/html": [
              "<pre style=\"white-space:pre;overflow-x:auto;line-height:normal;font-family:Menlo,'DejaVu Sans Mono',consolas,'Courier New',monospace\">Initialized MLflow to track repo <span style=\"color: #008000; text-decoration-color: #008000\">\"enelene/Walmart-Recruiting---Store-Sales-Forecasting\"</span>\n",
              "</pre>\n"
            ]
          },
          "metadata": {}
        },
        {
          "output_type": "display_data",
          "data": {
            "text/plain": [
              "Repository enelene/Walmart-Recruiting---Store-Sales-Forecasting initialized!\n"
            ],
            "text/html": [
              "<pre style=\"white-space:pre;overflow-x:auto;line-height:normal;font-family:Menlo,'DejaVu Sans Mono',consolas,'Courier New',monospace\">Repository enelene/Walmart-Recruiting---Store-Sales-Forecasting initialized!\n",
              "</pre>\n"
            ]
          },
          "metadata": {}
        },
        {
          "output_type": "stream",
          "name": "stdout",
          "text": [
            "MLflow experiment set to: 'LightGBM_Advanced_Training'\n"
          ]
        }
      ],
      "source": [
        "dagshub.init(repo_owner='enelene', repo_name='Walmart-Recruiting---Store-Sales-Forecasting', mlflow=True)\n",
        "mlflow.set_tracking_uri(\"https://dagshub.com/enelene/Walmart-Recruiting---Store-Sales-Forecasting.mlflow\")\n",
        "\n",
        "os.environ['MLFLOW_TRACKING_USERNAME'] = 'enelene'\n",
        "os.environ['MLFLOW_TRACKING_PASSWORD'] = 'cbe8109dbe80931664d754dbd476356414fa62a0'\n",
        "\n",
        "EXPERIMENT_NAME = \"LightGBM_Advanced_Training\"\n",
        "mlflow.set_experiment(EXPERIMENT_NAME)\n",
        "print(f\"MLflow experiment set to: '{EXPERIMENT_NAME}'\")\n",
        "\n",
        "# Custom evaluation metric (WMAE) required by the competition\n",
        "def wmae(y_true, y_pred, is_holiday):\n",
        "    weights = np.where(is_holiday.astype(bool), 5, 1)\n",
        "    return np.sum(weights * np.abs(y_true - y_pred)) / np.sum(weights)"
      ]
    },
    {
      "cell_type": "code",
      "execution_count": null,
      "metadata": {
        "id": "nwVj92q_76rZ"
      },
      "outputs": [],
      "source": [
        "import matplotlib.pyplot as plt\n",
        "import seaborn as sns"
      ]
    },
    {
      "cell_type": "code",
      "execution_count": null,
      "metadata": {
        "colab": {
          "base_uri": "https://localhost:8080/",
          "height": 956
        },
        "id": "un6st_KS7mn5",
        "outputId": "1ed4cf05-7de5-4cb2-a96f-0b6cbbaab3b2"
      },
      "outputs": [
        {
          "output_type": "stream",
          "name": "stdout",
          "text": [
            "--- Training a baseline model for feature selection ---\n",
            "[LightGBM] [Warning] Categorical features with more bins than the configured maximum bin number found.\n",
            "[LightGBM] [Warning] For categorical features, max_bin and max_bin_by_feature may be ignored with a large number of categories.\n",
            "[LightGBM] [Info] Auto-choosing row-wise multi-threading, the overhead of testing was 0.115689 seconds.\n",
            "You can set `force_row_wise=true` to remove the overhead.\n",
            "And if memory is not enough, you can set `force_col_wise=true`.\n",
            "[LightGBM] [Info] Total Bins 6988\n",
            "[LightGBM] [Info] Number of data points in the train set: 203988, number of used features: 35\n",
            "[LightGBM] [Info] Start training from score 17609.587572\n"
          ]
        },
        {
          "output_type": "display_data",
          "data": {
            "text/plain": [
              "<Figure size 1200x1000 with 1 Axes>"
            ],
            "image/png": "[encoded data removed]"
          },
          "metadata": {}
        },
        {
          "output_type": "stream",
          "name": "stdout",
          "text": [
            "\n",
            "Selected top 15 features.\n",
            "🏃 View run Feature_Selection at: https://dagshub.com/enelene/Walmart-Recruiting---Store-Sales-Forecasting.mlflow/#/experiments/4/runs/e7bd59b6c47b48c1bdb63f430dd14083\n",
            "🧪 View experiment at: https://dagshub.com/enelene/Walmart-Recruiting---Store-Sales-Forecasting.mlflow/#/experiments/4\n"
          ]
        }
      ],
      "source": [
        "with mlflow.start_run(run_name=\"Feature_Selection\") as run:\n",
        "    print(\"--- Training a baseline model for feature selection ---\")\n",
        "\n",
        "    X_initial = train_df[initial_features]\n",
        "    y = train_df[TARGET]\n",
        "\n",
        "    # Use a simple TimeSeriesSplit for this preliminary step\n",
        "    tscv = TimeSeriesSplit(n_splits=2)\n",
        "    train_idx, val_idx = list(tscv.split(X_initial))[-1] # Use the last split\n",
        "\n",
        "    X_train, X_val = X_initial.iloc[train_idx], X_initial.iloc[val_idx]\n",
        "    y_train, y_val = y.iloc[train_idx], y.iloc[val_idx]\n",
        "\n",
        "    # Train a simple model\n",
        "    model_for_fs = lgb.LGBMRegressor(random_state=42, n_estimators=500)\n",
        "    model_for_fs.fit(X_train, y_train,\n",
        "                     eval_set=[(X_val, y_val)],\n",
        "                     eval_metric='mae',\n",
        "                     callbacks=[lgb.early_stopping(50, verbose=False)],\n",
        "                     categorical_feature=categorical_features_initial)\n",
        "\n",
        "    # --- Create and Log Feature Importance Plot ---\n",
        "    feature_importances = pd.DataFrame({\n",
        "        'feature': X_initial.columns,\n",
        "        'importance': model_for_fs.feature_importances_\n",
        "    }).sort_values('importance', ascending=False)\n",
        "\n",
        "    plt.figure(figsize=(12, 10))\n",
        "    sns.barplot(x='importance', y='feature', data=feature_importances.head(15))\n",
        "    plt.title('Top 15 Feature Importances')\n",
        "    plt.tight_layout()\n",
        "\n",
        "    # Log the plot to MLflow\n",
        "    mlflow.log_figure(plt.gcf(), \"feature_importance_top15.png\")\n",
        "    plt.show()\n",
        "\n",
        "    # --- Select Top N Features ---\n",
        "    NUM_FEATURES_TO_SELECT = 15\n",
        "    selected_features = feature_importances['feature'].head(NUM_FEATURES_TO_SELECT).tolist() + ['IsHoliday']\n",
        "    print(f\"\\nSelected top {NUM_FEATURES_TO_SELECT} features.\")\n",
        "\n",
        "    # Log the list of selected features as a text file artifact\n",
        "    with open(\"selected_features.txt\", \"w\") as f:\n",
        "        for feature in selected_features:\n",
        "            f.write(f\"{feature}\\n\")\n",
        "    mlflow.log_artifact(\"selected_features.txt\")\n",
        "\n",
        "# Prepare final feature set for the main experiment\n",
        "X = train_df[selected_features]\n",
        "categorical_features = [f for f in categorical_features_initial if f in selected_features]"
      ]
    },
    {
      "cell_type": "code",
      "source": [
        "categorical_features_initial"
      ],
      "metadata": {
        "colab": {
          "base_uri": "https://localhost:8080/"
        },
        "id": "hdu-Oi_EOo2Y",
        "outputId": "aae07dfd-e501-478e-f872-295cdd2f60a2"
      },
      "execution_count": null,
      "outputs": [
        {
          "output_type": "execute_result",
          "data": {
            "text/plain": [
              "['Store',\n",
              " 'Dept',\n",
              " 'IsHoliday',\n",
              " 'Year',\n",
              " 'Month',\n",
              " 'WeekOfYear',\n",
              " 'HasMarkdown',\n",
              " 'Store_Dept',\n",
              " 'Type_A',\n",
              " 'Type_B',\n",
              " 'Type_C',\n",
              " 'IsSuperBowlWeek',\n",
              " 'IsLaborDayWeek',\n",
              " 'IsChristmasWeek']"
            ]
          },
          "metadata": {},
          "execution_count": 15
        }
      ]
    },
    {
      "cell_type": "code",
      "source": [
        "selected_features"
      ],
      "metadata": {
        "colab": {
          "base_uri": "https://localhost:8080/"
        },
        "id": "saJyHPWDOgXp",
        "outputId": "d3c99e34-5520-4dea-e14b-5ac17a8745be"
      },
      "execution_count": null,
      "outputs": [
        {
          "output_type": "execute_result",
          "data": {
            "text/plain": [
              "['WeekOfYear',\n",
              " 'Store_Dept',\n",
              " 'Dept',\n",
              " 'Sales_Lag_1',\n",
              " 'Sales_Roll_Std_4',\n",
              " 'Sales_Lag_52',\n",
              " 'Day',\n",
              " 'Sales_Lag_2',\n",
              " 'Sales_Lag_13',\n",
              " 'Fuel_Price',\n",
              " 'Sales_Lag_4',\n",
              " 'Temperature',\n",
              " 'IsBlackFridayWeek',\n",
              " 'Sales_Lag_26',\n",
              " 'Unemployment',\n",
              " 'IsHoliday']"
            ]
          },
          "metadata": {},
          "execution_count": 16
        }
      ]
    },
    {
      "cell_type": "code",
      "source": [
        "print(categorical_features)"
      ],
      "metadata": {
        "colab": {
          "base_uri": "https://localhost:8080/"
        },
        "id": "WmtMFb-WNxjq",
        "outputId": "6832bb31-3a5e-47d6-95f9-6714074c3094"
      },
      "execution_count": null,
      "outputs": [
        {
          "output_type": "stream",
          "name": "stdout",
          "text": [
            "['Dept', 'IsHoliday', 'WeekOfYear', 'Store_Dept']\n"
          ]
        }
      ]
    },
    {
      "cell_type": "code",
      "execution_count": null,
      "metadata": {
        "id": "QxIEpuQn8Kb9"
      },
      "outputs": [],
      "source": [
        "def objective(trial):\n",
        "    \"\"\"Optuna objective function using the selected features.\"\"\"\n",
        "    params = {\n",
        "        'objective': 'regression_l1', 'metric': 'mae', 'n_estimators': 2000,\n",
        "        'learning_rate': trial.suggest_float('learning_rate', 0.01, 0.05),\n",
        "        'num_leaves': trial.suggest_int('num_leaves', 20, 150),\n",
        "        'feature_fraction': trial.suggest_float('feature_fraction', 0.6, 1.0),\n",
        "        'bagging_fraction': trial.suggest_float('bagging_fraction', 0.6, 1.0),\n",
        "        'bagging_freq': trial.suggest_int('bagging_freq', 1, 7),\n",
        "        'lambda_l1': trial.suggest_float('lambda_l1', 1e-8, 10.0, log=True),\n",
        "        'lambda_l2': trial.suggest_float('lambda_l2', 1e-8, 10.0, log=True),\n",
        "        'verbose': -1, 'n_jobs': -1, 'seed': 42\n",
        "    }\n",
        "\n",
        "    wmae_scores = []\n",
        "    tscv = TimeSeriesSplit(n_splits=3)\n",
        "    for train_idx, val_idx in tscv.split(X):\n",
        "        X_train, X_val = X.iloc[train_idx], X.iloc[val_idx]\n",
        "        y_train, y_val = y.iloc[train_idx], y.iloc[val_idx]\n",
        "\n",
        "        model = lgb.LGBMRegressor(**params)\n",
        "        model.fit(X_train, y_train,\n",
        "                  eval_set=[(X_val, y_val)],\n",
        "                  eval_metric='mae',\n",
        "                  callbacks=[lgb.early_stopping(100, verbose=False)],\n",
        "                  categorical_feature=categorical_features)\n",
        "\n",
        "        preds = model.predict(X_val)\n",
        "        is_holiday_val = X_val['IsHoliday']\n",
        "        score = wmae(y_val, preds, is_holiday_val)\n",
        "        wmae_scores.append(score)\n",
        "\n",
        "    return np.mean(wmae_scores)\n"
      ]
    },
    {
      "cell_type": "code",
      "execution_count": null,
      "metadata": {
        "id": "QyLf1sPIBWvi",
        "colab": {
          "base_uri": "https://localhost:8080/"
        },
        "outputId": "9b487045-1587-4aa2-c532-7d98e14baed9"
      },
      "outputs": [
        {
          "output_type": "stream",
          "name": "stderr",
          "text": [
            "[I 2025-08-02 10:28:04,602] A new study created in memory with name: no-name-1a4c4cc4-ab08-49f2-a3e7-1772fa3e8556\n"
          ]
        },
        {
          "output_type": "stream",
          "name": "stdout",
          "text": [
            "--- Starting Hyperparameter Tuning with Optuna (using selected features) ---\n"
          ]
        },
        {
          "output_type": "stream",
          "name": "stderr",
          "text": [
            "[I 2025-08-02 10:32:04,783] Trial 0 finished with value: 2278.653103119584 and parameters: {'learning_rate': 0.021202451558359155, 'num_leaves': 84, 'feature_fraction': 0.6127085503343073, 'bagging_fraction': 0.99790035165274, 'bagging_freq': 6, 'lambda_l1': 0.00044951558602197546, 'lambda_l2': 2.6086450631833635}. Best is trial 0 with value: 2278.653103119584.\n",
            "[I 2025-08-02 10:35:56,080] Trial 1 finished with value: 2303.144001749508 and parameters: {'learning_rate': 0.049923038201688474, 'num_leaves': 47, 'feature_fraction': 0.6563151666493799, 'bagging_fraction': 0.6051900092057146, 'bagging_freq': 5, 'lambda_l1': 0.0013769108711300614, 'lambda_l2': 0.3759067804547095}. Best is trial 0 with value: 2278.653103119584.\n",
            "[I 2025-08-02 10:38:34,212] Trial 2 finished with value: 2380.6421793397603 and parameters: {'learning_rate': 0.03709659049699002, 'num_leaves': 81, 'feature_fraction': 0.9583295205643841, 'bagging_fraction': 0.8547583550917326, 'bagging_freq': 4, 'lambda_l1': 4.156835554803174e-07, 'lambda_l2': 1.9354144402819398e-08}. Best is trial 0 with value: 2278.653103119584.\n",
            "[I 2025-08-02 10:41:39,963] Trial 3 finished with value: 2405.9302565328467 and parameters: {'learning_rate': 0.030374632424136697, 'num_leaves': 28, 'feature_fraction': 0.797051635212738, 'bagging_fraction': 0.8987642602609087, 'bagging_freq': 7, 'lambda_l1': 2.108218552839734e-08, 'lambda_l2': 1.5355179923622808e-07}. Best is trial 0 with value: 2278.653103119584.\n",
            "[I 2025-08-02 10:47:18,941] Trial 4 finished with value: 2397.8860404397315 and parameters: {'learning_rate': 0.028784929327980192, 'num_leaves': 51, 'feature_fraction': 0.8213616727874219, 'bagging_fraction': 0.6384731165625299, 'bagging_freq': 4, 'lambda_l1': 0.030021212888671555, 'lambda_l2': 2.322525997458311}. Best is trial 0 with value: 2278.653103119584.\n",
            "[I 2025-08-02 10:50:47,182] Trial 5 finished with value: 2248.6148607564105 and parameters: {'learning_rate': 0.04570319600062117, 'num_leaves': 34, 'feature_fraction': 0.6439703127865368, 'bagging_fraction': 0.9594936279484765, 'bagging_freq': 6, 'lambda_l1': 0.4218424794663666, 'lambda_l2': 0.03359858547081948}. Best is trial 5 with value: 2248.6148607564105.\n",
            "[I 2025-08-02 10:57:46,548] Trial 6 finished with value: 2330.256846507408 and parameters: {'learning_rate': 0.01715178434804343, 'num_leaves': 145, 'feature_fraction': 0.855706226950234, 'bagging_fraction': 0.8576919763269576, 'bagging_freq': 5, 'lambda_l1': 2.3828640170677524e-06, 'lambda_l2': 4.652194881441646e-06}. Best is trial 5 with value: 2248.6148607564105.\n",
            "[I 2025-08-02 11:01:09,534] Trial 7 finished with value: 2355.7619408758396 and parameters: {'learning_rate': 0.025976121525043777, 'num_leaves': 58, 'feature_fraction': 0.8125979941389233, 'bagging_fraction': 0.9792190296116555, 'bagging_freq': 2, 'lambda_l1': 2.996592270654023e-08, 'lambda_l2': 1.5774638580386186e-05}. Best is trial 5 with value: 2248.6148607564105.\n",
            "[I 2025-08-02 11:04:36,468] Trial 8 finished with value: 2396.836458462653 and parameters: {'learning_rate': 0.03989187575159104, 'num_leaves': 115, 'feature_fraction': 0.8908677820411646, 'bagging_fraction': 0.6874070434474182, 'bagging_freq': 2, 'lambda_l1': 5.7348230913052284e-05, 'lambda_l2': 2.3114384180340763e-08}. Best is trial 5 with value: 2248.6148607564105.\n",
            "[I 2025-08-02 11:07:24,388] Trial 9 finished with value: 2439.3044142985477 and parameters: {'learning_rate': 0.03357593476976711, 'num_leaves': 83, 'feature_fraction': 0.9926450163059358, 'bagging_fraction': 0.8288887119016881, 'bagging_freq': 5, 'lambda_l1': 5.6559340135013365e-08, 'lambda_l2': 9.36383673308342e-05}. Best is trial 5 with value: 2248.6148607564105.\n"
          ]
        },
        {
          "output_type": "stream",
          "name": "stdout",
          "text": [
            "\n",
            "Best WMAE from tuning: 2248.6149\n",
            "Best Parameters: {'learning_rate': 0.04570319600062117, 'num_leaves': 34, 'feature_fraction': 0.6439703127865368, 'bagging_fraction': 0.9594936279484765, 'bagging_freq': 6, 'lambda_l1': 0.4218424794663666, 'lambda_l2': 0.03359858547081948}\n",
            "🏃 View run LGBM_Tuning_and_Final_Model at: https://dagshub.com/enelene/Walmart-Recruiting---Store-Sales-Forecasting.mlflow/#/experiments/4/runs/d1b24c60485b452197ad381a570441cc\n",
            "🧪 View experiment at: https://dagshub.com/enelene/Walmart-Recruiting---Store-Sales-Forecasting.mlflow/#/experiments/4\n"
          ]
        }
      ],
      "source": [
        "\n",
        "# Start a new parent run for the main experiment\n",
        "with mlflow.start_run(run_name=\"LGBM_Tuning_and_Final_Model\") as run:\n",
        "    print(\"--- Starting Hyperparameter Tuning with Optuna (using selected features) ---\")\n",
        "    study = optuna.create_study(direction='minimize')\n",
        "    study.optimize(objective, n_trials=10)\n",
        "\n",
        "    best_params = study.best_params\n",
        "    best_wmae = study.best_value\n",
        "\n",
        "    print(f\"\\nBest WMAE from tuning: {best_wmae:.4f}\")\n",
        "    print(f\"Best Parameters: {best_params}\")\n",
        "\n",
        "\n",
        "    mlflow.log_params(best_params)\n",
        "    mlflow.log_metric(\"best_cv_wmae\", best_wmae)\n",
        "\n",
        "    # --- Log Optuna plots as artifacts ---\n",
        "    fig_optuna_history = optuna.visualization.plot_optimization_history(study)\n",
        "    mlflow.log_figure(fig_optuna_history, \"optuna_optimization_history.html\")\n",
        "\n",
        "    fig_optuna_slice = optuna.visualization.plot_slice(study)\n",
        "    mlflow.log_figure(fig_optuna_slice, \"optuna_slice_plot.html\")"
      ]
    },
    {
      "cell_type": "code",
      "execution_count": null,
      "metadata": {
        "colab": {
          "base_uri": "https://localhost:8080/"
        },
        "id": "R4JzvyABBYGD",
        "outputId": "e68cbb5a-93bb-4587-b36b-15bae36f22d8"
      },
      "outputs": [
        {
          "output_type": "stream",
          "name": "stdout",
          "text": [
            "{'learning_rate': 0.04570319600062117, 'num_leaves': 34, 'feature_fraction': 0.6439703127865368, 'bagging_fraction': 0.9594936279484765, 'bagging_freq': 6, 'lambda_l1': 0.4218424794663666, 'lambda_l2': 0.03359858547081948} 2248.6148607564105\n"
          ]
        }
      ],
      "source": [
        "best_params = study.best_params\n",
        "best_wmae = study.best_value\n",
        "print(best_params, best_wmae)"
      ]
    },
    {
      "cell_type": "code",
      "execution_count": null,
      "metadata": {
        "id": "WrSDA9hHBuRI"
      },
      "outputs": [],
      "source": [
        "mlflow.end_run()"
      ]
    },
    {
      "cell_type": "code",
      "source": [
        "# Continue within the same parent MLflow run\n",
        "with mlflow.start_run(run_id=run.info.run_id):\n",
        "    # --- Final Hold-out Validation ---\n",
        "    print(\"\\n--- Performing Final Hold-out Validation ---\")\n",
        "    tscv_final = TimeSeriesSplit(n_splits=4)\n",
        "    train_idx, val_idx = list(tscv_final.split(X))[-1] # Use the very last fold as a hold-out set\n",
        "\n",
        "    X_train, X_val = X.iloc[train_idx], X.iloc[val_idx]\n",
        "    y_train, y_val = y.iloc[train_idx], y.iloc[val_idx]\n",
        "\n",
        "    final_params = best_params\n",
        "    final_params['n_estimators'] = 3000 # Use more estimators\n",
        "    final_params['random_state'] = 42\n",
        "\n",
        "    model_for_validation = lgb.LGBMRegressor(**final_params)\n",
        "    model_for_validation.fit(X_train, y_train,\n",
        "                             eval_set=[(X_val, y_val)],\n",
        "                             callbacks=[lgb.early_stopping(150, verbose=False)],\n",
        "                             categorical_feature=categorical_features)\n",
        "\n",
        "    val_preds = model_for_validation.predict(X_val)\n",
        "\n",
        "    # Calculate and log final validation metrics\n",
        "    final_wmae = wmae(y_val, val_preds, X_val['IsHoliday'])\n",
        "    final_mae = mean_absolute_error(y_val, val_preds)\n",
        "    final_rmse = np.sqrt(mean_squared_error(y_val, val_preds))\n",
        "\n",
        "    print(f\"Final Hold-out WMAE: {final_wmae:.4f}\")\n",
        "    print(f\"Final Hold-out MAE:  {final_mae:.4f}\")\n",
        "    print(f\"Final Hold-out RMSE: {final_rmse:.4f}\")\n",
        "\n",
        "    mlflow.log_metrics({\n",
        "        \"final_holdout_wmae\": final_wmae,\n",
        "        \"final_holdout_mae\": final_mae,\n",
        "        \"final_holdout_rmse\": final_rmse\n",
        "    })\n",
        "\n",
        "    # --- Create and Log Analysis Plots ---\n",
        "    # Actual vs. Predicted Plot\n",
        "    plt.figure(figsize=(14, 6))\n",
        "    plt.plot(y_val.index, y_val, label='Actual', alpha=0.8)\n",
        "    plt.plot(y_val.index, val_preds, label='Predicted', alpha=0.8, linestyle='--')\n",
        "    plt.title('Actual vs. Predicted on Hold-out Set')\n",
        "    plt.xlabel('Time Index')\n",
        "    plt.ylabel('Weekly Sales')\n",
        "    plt.legend()\n",
        "    mlflow.log_figure(plt.gcf(), \"actual_vs_predicted.png\")\n",
        "    plt.show()\n",
        "\n",
        "    # Residuals Plot\n",
        "    residuals = y_val - val_preds\n",
        "    plt.figure(figsize=(14, 6))\n",
        "    sns.scatterplot(x=val_preds, y=residuals, alpha=0.5)\n",
        "    plt.axhline(0, color='red', linestyle='--')\n",
        "    plt.title('Residuals vs. Predicted Values')\n",
        "    plt.xlabel('Predicted Sales')\n",
        "    plt.ylabel('Residuals (Actual - Predicted)')\n",
        "    mlflow.log_figure(plt.gcf(), \"residuals_plot.png\")\n",
        "    plt.show()\n",
        "\n",
        "    # --- Train Final Model on All Data ---\n",
        "    print(\"\\n--- Training Final Model on ALL Data for Deployment ---\")\n",
        "    final_model = lgb.LGBMRegressor(**final_params)\n",
        "    final_model.fit(X, y, categorical_feature=categorical_features)\n",
        "    print(\"Final model training complete.\")"
      ],
      "metadata": {
        "colab": {
          "base_uri": "https://localhost:8080/",
          "height": 1000
        },
        "id": "9PYpvOXmL8nA",
        "outputId": "7cae98ac-33d9-460c-8cf3-9315b02ab929"
      },
      "execution_count": null,
      "outputs": [
        {
          "output_type": "stream",
          "name": "stdout",
          "text": [
            "\n",
            "--- Performing Final Hold-out Validation ---\n",
            "[LightGBM] [Warning] bagging_freq is set=6, subsample_freq=0 will be ignored. Current value: bagging_freq=6\n",
            "[LightGBM] [Warning] feature_fraction is set=0.6439703127865368, colsample_bytree=1.0 will be ignored. Current value: feature_fraction=0.6439703127865368\n",
            "[LightGBM] [Warning] lambda_l2 is set=0.03359858547081948, reg_lambda=0.0 will be ignored. Current value: lambda_l2=0.03359858547081948\n",
            "[LightGBM] [Warning] lambda_l1 is set=0.4218424794663666, reg_alpha=0.0 will be ignored. Current value: lambda_l1=0.4218424794663666\n",
            "[LightGBM] [Warning] bagging_fraction is set=0.9594936279484765, subsample=1.0 will be ignored. Current value: bagging_fraction=0.9594936279484765\n",
            "[LightGBM] [Warning] Categorical features with more bins than the configured maximum bin number found.\n",
            "[LightGBM] [Warning] For categorical features, max_bin and max_bin_by_feature may be ignored with a large number of categories.\n",
            "[LightGBM] [Warning] bagging_freq is set=6, subsample_freq=0 will be ignored. Current value: bagging_freq=6\n",
            "[LightGBM] [Warning] feature_fraction is set=0.6439703127865368, colsample_bytree=1.0 will be ignored. Current value: feature_fraction=0.6439703127865368\n",
            "[LightGBM] [Warning] lambda_l2 is set=0.03359858547081948, reg_lambda=0.0 will be ignored. Current value: lambda_l2=0.03359858547081948\n",
            "[LightGBM] [Warning] lambda_l1 is set=0.4218424794663666, reg_alpha=0.0 will be ignored. Current value: lambda_l1=0.4218424794663666\n",
            "[LightGBM] [Warning] bagging_fraction is set=0.9594936279484765, subsample=1.0 will be ignored. Current value: bagging_fraction=0.9594936279484765\n",
            "[LightGBM] [Info] Auto-choosing col-wise multi-threading, the overhead of testing was 0.061019 seconds.\n",
            "You can set `force_col_wise=true` to remove the overhead.\n",
            "[LightGBM] [Info] Total Bins 5083\n",
            "[LightGBM] [Info] Number of data points in the train set: 244786, number of used features: 16\n",
            "[LightGBM] [Warning] bagging_freq is set=6, subsample_freq=0 will be ignored. Current value: bagging_freq=6\n",
            "[LightGBM] [Warning] feature_fraction is set=0.6439703127865368, colsample_bytree=1.0 will be ignored. Current value: feature_fraction=0.6439703127865368\n",
            "[LightGBM] [Warning] lambda_l2 is set=0.03359858547081948, reg_lambda=0.0 will be ignored. Current value: lambda_l2=0.03359858547081948\n",
            "[LightGBM] [Warning] lambda_l1 is set=0.4218424794663666, reg_alpha=0.0 will be ignored. Current value: lambda_l1=0.4218424794663666\n",
            "[LightGBM] [Warning] bagging_fraction is set=0.9594936279484765, subsample=1.0 will be ignored. Current value: bagging_fraction=0.9594936279484765\n",
            "[LightGBM] [Info] Start training from score 16861.201230\n",
            "[LightGBM] [Warning] bagging_freq is set=6, subsample_freq=0 will be ignored. Current value: bagging_freq=6\n",
            "[LightGBM] [Warning] feature_fraction is set=0.6439703127865368, colsample_bytree=1.0 will be ignored. Current value: feature_fraction=0.6439703127865368\n",
            "[LightGBM] [Warning] lambda_l2 is set=0.03359858547081948, reg_lambda=0.0 will be ignored. Current value: lambda_l2=0.03359858547081948\n",
            "[LightGBM] [Warning] lambda_l1 is set=0.4218424794663666, reg_alpha=0.0 will be ignored. Current value: lambda_l1=0.4218424794663666\n",
            "[LightGBM] [Warning] bagging_fraction is set=0.9594936279484765, subsample=1.0 will be ignored. Current value: bagging_fraction=0.9594936279484765\n",
            "Final Hold-out WMAE: 1626.6742\n",
            "Final Hold-out MAE:  1418.9777\n",
            "Final Hold-out RMSE: 4070.4685\n"
          ]
        },
        {
          "output_type": "display_data",
          "data": {
            "text/plain": [
              "<Figure size 1400x600 with 1 Axes>"
            ],
            "image/png": "[encoded data removed]"
          },
          "metadata": {}
        },
        {
          "output_type": "display_data",
          "data": {
            "text/plain": [
              "<Figure size 1400x600 with 1 Axes>"
            ],
            "image/png": "[encoded data removed]"
          },
          "metadata": {}
        },
        {
          "output_type": "stream",
          "name": "stdout",
          "text": [
            "\n",
            "--- Training Final Model on ALL Data for Deployment ---\n",
            "[LightGBM] [Warning] bagging_freq is set=6, subsample_freq=0 will be ignored. Current value: bagging_freq=6\n",
            "[LightGBM] [Warning] feature_fraction is set=0.6439703127865368, colsample_bytree=1.0 will be ignored. Current value: feature_fraction=0.6439703127865368\n",
            "[LightGBM] [Warning] lambda_l2 is set=0.03359858547081948, reg_lambda=0.0 will be ignored. Current value: lambda_l2=0.03359858547081948\n",
            "[LightGBM] [Warning] lambda_l1 is set=0.4218424794663666, reg_alpha=0.0 will be ignored. Current value: lambda_l1=0.4218424794663666\n",
            "[LightGBM] [Warning] bagging_fraction is set=0.9594936279484765, subsample=1.0 will be ignored. Current value: bagging_fraction=0.9594936279484765\n",
            "[LightGBM] [Warning] Categorical features with more bins than the configured maximum bin number found.\n",
            "[LightGBM] [Warning] For categorical features, max_bin and max_bin_by_feature may be ignored with a large number of categories.\n",
            "[LightGBM] [Warning] bagging_freq is set=6, subsample_freq=0 will be ignored. Current value: bagging_freq=6\n",
            "[LightGBM] [Warning] feature_fraction is set=0.6439703127865368, colsample_bytree=1.0 will be ignored. Current value: feature_fraction=0.6439703127865368\n",
            "[LightGBM] [Warning] lambda_l2 is set=0.03359858547081948, reg_lambda=0.0 will be ignored. Current value: lambda_l2=0.03359858547081948\n",
            "[LightGBM] [Warning] lambda_l1 is set=0.4218424794663666, reg_alpha=0.0 will be ignored. Current value: lambda_l1=0.4218424794663666\n",
            "[LightGBM] [Warning] bagging_fraction is set=0.9594936279484765, subsample=1.0 will be ignored. Current value: bagging_fraction=0.9594936279484765\n",
            "[LightGBM] [Info] Auto-choosing col-wise multi-threading, the overhead of testing was 0.074803 seconds.\n",
            "You can set `force_col_wise=true` to remove the overhead.\n",
            "[LightGBM] [Info] Total Bins 5687\n",
            "[LightGBM] [Info] Number of data points in the train set: 305982, number of used features: 16\n",
            "[LightGBM] [Info] Start training from score 16033.779679\n",
            "Final model training complete.\n",
            "🏃 View run LGBM_Tuning_and_Final_Model at: https://dagshub.com/enelene/Walmart-Recruiting---Store-Sales-Forecasting.mlflow/#/experiments/4/runs/d1b24c60485b452197ad381a570441cc\n",
            "🧪 View experiment at: https://dagshub.com/enelene/Walmart-Recruiting---Store-Sales-Forecasting.mlflow/#/experiments/4\n"
          ]
        }
      ]
    },
    {
      "cell_type": "code",
      "execution_count": null,
      "metadata": {
        "colab": {
          "base_uri": "https://localhost:8080/"
        },
        "id": "MVIXHbzB8iLZ",
        "outputId": "d74c75c4-17f0-4d0e-baef-35002f1adee7"
      },
      "outputs": [
        {
          "output_type": "stream",
          "name": "stderr",
          "text": [
            "/usr/local/lib/python3.11/dist-packages/mlflow/pyfunc/utils/data_validation.py:186: UserWarning:\n",
            "\n",
            "\u001b[33mAdd type hints to the `predict` method to enable data validation and automatic signature inference during model logging. Check https://mlflow.org/docs/latest/model/python_model.html#type-hint-usage-in-pythonmodel for more details.\u001b[0m\n",
            "\n"
          ]
        },
        {
          "output_type": "stream",
          "name": "stdout",
          "text": [
            "\n",
            "--- Logging and Registering Final Model Pipeline ---\n",
            "🏃 View run LGBM_Tuning_and_Final_Model at: https://dagshub.com/enelene/Walmart-Recruiting---Store-Sales-Forecasting.mlflow/#/experiments/4/runs/d1b24c60485b452197ad381a570441cc\n",
            "🧪 View experiment at: https://dagshub.com/enelene/Walmart-Recruiting---Store-Sales-Forecasting.mlflow/#/experiments/4\n"
          ]
        }
      ],
      "source": [
        "# Continue within the same parent MLflow run\n",
        "with mlflow.start_run(run_id=run.info.run_id):\n",
        "\n",
        "    # We need to save the category mappings from the training data\n",
        "    training_categories = {\n",
        "        col: X[col].cat.categories for col in categorical_features if hasattr(X[col], 'cat')\n",
        "    }\n",
        "\n",
        "    # Define the custom pyfunc model class (no changes here)\n",
        "    class WalmartSalesPipeline(mlflow.pyfunc.PythonModel):\n",
        "        def __init__(self, model, training_columns, categories):\n",
        "            self.model = model\n",
        "            # self._feature_engineering_fn = feature_engineering_fn\n",
        "            self._training_columns = training_columns\n",
        "            self._categories = categories\n",
        "\n",
        "        def predict(self, context, model_input):\n",
        "            # 1. Apply the same feature engineering as in training\n",
        "            processed_input = model_input\n",
        "\n",
        "            # 2. Enforce consistent categories to handle new or unseen values\n",
        "            for col, cats in self._categories.items():\n",
        "                if col in processed_input.columns:\n",
        "                    processed_input[col] = pd.Categorical(processed_input[col], categories=cats, ordered=False)\n",
        "\n",
        "            # 3. Ensure all training columns are present and in the correct order, fill missing with 0\n",
        "            processed_input = processed_input.reindex(columns=self._training_columns, fill_value=0)\n",
        "\n",
        "            # 4. Predict\n",
        "            return self.model.predict(processed_input)\n",
        "\n",
        "    print(\"\\n--- Logging and Registering Final Model Pipeline ---\")\n",
        "\n",
        "    # Instantiate the pipeline\n",
        "    pipeline_instance = WalmartSalesPipeline(final_model, selected_features, training_categories)\n"
      ]
    },
    {
      "cell_type": "code",
      "source": [
        "X"
      ],
      "metadata": {
        "colab": {
          "base_uri": "https://localhost:8080/",
          "height": 443
        },
        "id": "M5Af44gwojiA",
        "outputId": "efeb27bb-cf73-4665-903c-1e7b55201e7a"
      },
      "execution_count": null,
      "outputs": [
        {
          "output_type": "execute_result",
          "data": {
            "text/plain": [
              "       WeekOfYear Store_Dept Dept  Sales_Lag_1  Sales_Roll_Std_4  \\\n",
              "0               5        1_1    1     24924.50      12832.106391   \n",
              "1               6        1_1    1     24924.50      12832.106391   \n",
              "2               7        1_1    1     46039.49      12832.106391   \n",
              "3               8        1_1    1     41595.55      12832.106391   \n",
              "4               9        1_1    1     19403.54      12832.106391   \n",
              "...           ...        ...  ...          ...               ...   \n",
              "305977         52      45_98   98      1084.78        257.116069   \n",
              "305978          1      45_98   98       553.21        252.920722   \n",
              "305979          2      45_98   98       698.76        227.367911   \n",
              "305980          3      45_98   98       677.71        229.929744   \n",
              "305981          4      45_98   98       848.84        121.221125   \n",
              "\n",
              "        Sales_Lag_52  Day  Sales_Lag_2  Sales_Lag_13  Fuel_Price  Sales_Lag_4  \\\n",
              "0           24924.50    5     24924.50      24924.50       2.572     24924.50   \n",
              "1           24924.50   12     24924.50      24924.50       2.548     24924.50   \n",
              "2           24924.50   19     24924.50      24924.50       2.514     24924.50   \n",
              "3           24924.50   26     46039.49      24924.50       2.561     24924.50   \n",
              "4           24924.50    5     41595.55      24924.50       2.625     24924.50   \n",
              "...              ...  ...          ...           ...         ...          ...   \n",
              "305977         74.55   30       853.46        727.05       3.389       538.51   \n",
              "305978        122.50    6      1084.78        894.98       3.422       572.72   \n",
              "305979         42.00   13       553.21        996.40       3.513       853.46   \n",
              "305980          2.00   20       698.76       1058.84       3.533      1084.78   \n",
              "305981         77.00   27       677.71       1167.90       3.567       553.21   \n",
              "\n",
              "        Temperature  IsBlackFridayWeek  Sales_Lag_26  Unemployment IsHoliday  \n",
              "0             42.31                  0      24924.50         8.106     False  \n",
              "1             38.51                  0      24924.50         8.106      True  \n",
              "2             39.93                  0      24924.50         8.106     False  \n",
              "3             46.63                  0      24924.50         8.106     False  \n",
              "4             46.50                  0      24924.50         8.106     False  \n",
              "...             ...                ...           ...           ...       ...  \n",
              "305977        37.79                  0       1005.98         8.523      True  \n",
              "305978        35.88                  0       1021.94         8.424     False  \n",
              "305979        41.18                  0       1033.14         8.424     False  \n",
              "305980        31.85                  0        614.73         8.424     False  \n",
              "305981        37.93                  0        599.03         8.424     False  \n",
              "\n",
              "[305982 rows x 16 columns]"
            ],
            "text/html": [
              "\n",
              "  <div id=\"df-f432f04a-bda7-4998-bbb5-31bc6a9017f3\" class=\"colab-df-container\">\n",
              "    <div>\n",
              "<style scoped>\n",
              "    .dataframe tbody tr th:only-of-type {\n",
              "        vertical-align: middle;\n",
              "    }\n",
              "\n",
              "    .dataframe tbody tr th {\n",
              "        vertical-align: top;\n",
              "    }\n",
              "\n",
              "    .dataframe thead th {\n",
              "        text-align: right;\n",
              "    }\n",
              "</style>\n",
              "<table border=\"1\" class=\"dataframe\">\n",
              "  <thead>\n",
              "    <tr style=\"text-align: right;\">\n",
              "      <th></th>\n",
              "      <th>WeekOfYear</th>\n",
              "      <th>Store_Dept</th>\n",
              "      <th>Dept</th>\n",
              "      <th>Sales_Lag_1</th>\n",
              "      <th>Sales_Roll_Std_4</th>\n",
              "      <th>Sales_Lag_52</th>\n",
              "      <th>Day</th>\n",
              "      <th>Sales_Lag_2</th>\n",
              "      <th>Sales_Lag_13</th>\n",
              "      <th>Fuel_Price</th>\n",
              "      <th>Sales_Lag_4</th>\n",
              "      <th>Temperature</th>\n",
              "      <th>IsBlackFridayWeek</th>\n",
              "      <th>Sales_Lag_26</th>\n",
              "      <th>Unemployment</th>\n",
              "      <th>IsHoliday</th>\n",
              "    </tr>\n",
              "  </thead>\n",
              "  <tbody>\n",
              "    <tr>\n",
              "      <th>0</th>\n",
              "      <td>5</td>\n",
              "      <td>1_1</td>\n",
              "      <td>1</td>\n",
              "      <td>24924.50</td>\n",
              "      <td>12832.106391</td>\n",
              "      <td>24924.50</td>\n",
              "      <td>5</td>\n",
              "      <td>24924.50</td>\n",
              "      <td>24924.50</td>\n",
              "      <td>2.572</td>\n",
              "      <td>24924.50</td>\n",
              "      <td>42.31</td>\n",
              "      <td>0</td>\n",
              "      <td>24924.50</td>\n",
              "      <td>8.106</td>\n",
              "      <td>False</td>\n",
              "    </tr>\n",
              "    <tr>\n",
              "      <th>1</th>\n",
              "      <td>6</td>\n",
              "      <td>1_1</td>\n",
              "      <td>1</td>\n",
              "      <td>24924.50</td>\n",
              "      <td>12832.106391</td>\n",
              "      <td>24924.50</td>\n",
              "      <td>12</td>\n",
              "      <td>24924.50</td>\n",
              "      <td>24924.50</td>\n",
              "      <td>2.548</td>\n",
              "      <td>24924.50</td>\n",
              "      <td>38.51</td>\n",
              "      <td>0</td>\n",
              "      <td>24924.50</td>\n",
              "      <td>8.106</td>\n",
              "      <td>True</td>\n",
              "    </tr>\n",
              "    <tr>\n",
              "      <th>2</th>\n",
              "      <td>7</td>\n",
              "      <td>1_1</td>\n",
              "      <td>1</td>\n",
              "      <td>46039.49</td>\n",
              "      <td>12832.106391</td>\n",
              "      <td>24924.50</td>\n",
              "      <td>19</td>\n",
              "      <td>24924.50</td>\n",
              "      <td>24924.50</td>\n",
              "      <td>2.514</td>\n",
              "      <td>24924.50</td>\n",
              "      <td>39.93</td>\n",
              "      <td>0</td>\n",
              "      <td>24924.50</td>\n",
              "      <td>8.106</td>\n",
              "      <td>False</td>\n",
              "    </tr>\n",
              "    <tr>\n",
              "      <th>3</th>\n",
              "      <td>8</td>\n",
              "      <td>1_1</td>\n",
              "      <td>1</td>\n",
              "      <td>41595.55</td>\n",
              "      <td>12832.106391</td>\n",
              "      <td>24924.50</td>\n",
              "      <td>26</td>\n",
              "      <td>46039.49</td>\n",
              "      <td>24924.50</td>\n",
              "      <td>2.561</td>\n",
              "      <td>24924.50</td>\n",
              "      <td>46.63</td>\n",
              "      <td>0</td>\n",
              "      <td>24924.50</td>\n",
              "      <td>8.106</td>\n",
              "      <td>False</td>\n",
              "    </tr>\n",
              "    <tr>\n",
              "      <th>4</th>\n",
              "      <td>9</td>\n",
              "      <td>1_1</td>\n",
              "      <td>1</td>\n",
              "      <td>19403.54</td>\n",
              "      <td>12832.106391</td>\n",
              "      <td>24924.50</td>\n",
              "      <td>5</td>\n",
              "      <td>41595.55</td>\n",
              "      <td>24924.50</td>\n",
              "      <td>2.625</td>\n",
              "      <td>24924.50</td>\n",
              "      <td>46.50</td>\n",
              "      <td>0</td>\n",
              "      <td>24924.50</td>\n",
              "      <td>8.106</td>\n",
              "      <td>False</td>\n",
              "    </tr>\n",
              "    <tr>\n",
              "      <th>...</th>\n",
              "      <td>...</td>\n",
              "      <td>...</td>\n",
              "      <td>...</td>\n",
              "      <td>...</td>\n",
              "      <td>...</td>\n",
              "      <td>...</td>\n",
              "      <td>...</td>\n",
              "      <td>...</td>\n",
              "      <td>...</td>\n",
              "      <td>...</td>\n",
              "      <td>...</td>\n",
              "      <td>...</td>\n",
              "      <td>...</td>\n",
              "      <td>...</td>\n",
              "      <td>...</td>\n",
              "      <td>...</td>\n",
              "    </tr>\n",
              "    <tr>\n",
              "      <th>305977</th>\n",
              "      <td>52</td>\n",
              "      <td>45_98</td>\n",
              "      <td>98</td>\n",
              "      <td>1084.78</td>\n",
              "      <td>257.116069</td>\n",
              "      <td>74.55</td>\n",
              "      <td>30</td>\n",
              "      <td>853.46</td>\n",
              "      <td>727.05</td>\n",
              "      <td>3.389</td>\n",
              "      <td>538.51</td>\n",
              "      <td>37.79</td>\n",
              "      <td>0</td>\n",
              "      <td>1005.98</td>\n",
              "      <td>8.523</td>\n",
              "      <td>True</td>\n",
              "    </tr>\n",
              "    <tr>\n",
              "      <th>305978</th>\n",
              "      <td>1</td>\n",
              "      <td>45_98</td>\n",
              "      <td>98</td>\n",
              "      <td>553.21</td>\n",
              "      <td>252.920722</td>\n",
              "      <td>122.50</td>\n",
              "      <td>6</td>\n",
              "      <td>1084.78</td>\n",
              "      <td>894.98</td>\n",
              "      <td>3.422</td>\n",
              "      <td>572.72</td>\n",
              "      <td>35.88</td>\n",
              "      <td>0</td>\n",
              "      <td>1021.94</td>\n",
              "      <td>8.424</td>\n",
              "      <td>False</td>\n",
              "    </tr>\n",
              "    <tr>\n",
              "      <th>305979</th>\n",
              "      <td>2</td>\n",
              "      <td>45_98</td>\n",
              "      <td>98</td>\n",
              "      <td>698.76</td>\n",
              "      <td>227.367911</td>\n",
              "      <td>42.00</td>\n",
              "      <td>13</td>\n",
              "      <td>553.21</td>\n",
              "      <td>996.40</td>\n",
              "      <td>3.513</td>\n",
              "      <td>853.46</td>\n",
              "      <td>41.18</td>\n",
              "      <td>0</td>\n",
              "      <td>1033.14</td>\n",
              "      <td>8.424</td>\n",
              "      <td>False</td>\n",
              "    </tr>\n",
              "    <tr>\n",
              "      <th>305980</th>\n",
              "      <td>3</td>\n",
              "      <td>45_98</td>\n",
              "      <td>98</td>\n",
              "      <td>677.71</td>\n",
              "      <td>229.929744</td>\n",
              "      <td>2.00</td>\n",
              "      <td>20</td>\n",
              "      <td>698.76</td>\n",
              "      <td>1058.84</td>\n",
              "      <td>3.533</td>\n",
              "      <td>1084.78</td>\n",
              "      <td>31.85</td>\n",
              "      <td>0</td>\n",
              "      <td>614.73</td>\n",
              "      <td>8.424</td>\n",
              "      <td>False</td>\n",
              "    </tr>\n",
              "    <tr>\n",
              "      <th>305981</th>\n",
              "      <td>4</td>\n",
              "      <td>45_98</td>\n",
              "      <td>98</td>\n",
              "      <td>848.84</td>\n",
              "      <td>121.221125</td>\n",
              "      <td>77.00</td>\n",
              "      <td>27</td>\n",
              "      <td>677.71</td>\n",
              "      <td>1167.90</td>\n",
              "      <td>3.567</td>\n",
              "      <td>553.21</td>\n",
              "      <td>37.93</td>\n",
              "      <td>0</td>\n",
              "      <td>599.03</td>\n",
              "      <td>8.424</td>\n",
              "      <td>False</td>\n",
              "    </tr>\n",
              "  </tbody>\n",
              "</table>\n",
              "<p>305982 rows × 16 columns</p>\n",
              "</div>\n",
              "    <div class=\"colab-df-buttons\">\n",
              "\n",
              "  <div class=\"colab-df-container\">\n",
              "    <button class=\"colab-df-convert\" onclick=\"convertToInteractive('df-f432f04a-bda7-4998-bbb5-31bc6a9017f3')\"\n",
              "            title=\"Convert this dataframe to an interactive table.\"\n",
              "            style=\"display:none;\">\n",
              "\n",
              "  <svg xmlns=\"http://www.w3.org/2000/svg\" height=\"24px\" viewBox=\"0 -960 960 960\">\n",
              "    <path d=\"M120-120v-720h720v720H120Zm60-500h600v-160H180v160Zm220 220h160v-160H400v160Zm0 220h160v-160H400v160ZM180-400h160v-160H180v160Zm440 0h160v-160H620v160ZM180-180h160v-160H180v160Zm440 0h160v-160H620v160Z\"/>\n",
              "  </svg>\n",
              "    </button>\n",
              "\n",
              "  <style>\n",
              "    .colab-df-container {\n",
              "      display:flex;\n",
              "      gap: 12px;\n",
              "    }\n",
              "\n",
              "    .colab-df-convert {\n",
              "      background-color: #E8F0FE;\n",
              "      border: none;\n",
              "      border-radius: 50%;\n",
              "      cursor: pointer;\n",
              "      display: none;\n",
              "      fill: #1967D2;\n",
              "      height: 32px;\n",
              "      padding: 0 0 0 0;\n",
              "      width: 32px;\n",
              "    }\n",
              "\n",
              "    .colab-df-convert:hover {\n",
              "      background-color: #E2EBFA;\n",
              "      box-shadow: 0px 1px 2px rgba(60, 64, 67, 0.3), 0px 1px 3px 1px rgba(60, 64, 67, 0.15);\n",
              "      fill: #174EA6;\n",
              "    }\n",
              "\n",
              "    .colab-df-buttons div {\n",
              "      margin-bottom: 4px;\n",
              "    }\n",
              "\n",
              "    [theme=dark] .colab-df-convert {\n",
              "      background-color: #3B4455;\n",
              "      fill: #D2E3FC;\n",
              "    }\n",
              "\n",
              "    [theme=dark] .colab-df-convert:hover {\n",
              "      background-color: #434B5C;\n",
              "      box-shadow: 0px 1px 3px 1px rgba(0, 0, 0, 0.15);\n",
              "      filter: drop-shadow(0px 1px 2px rgba(0, 0, 0, 0.3));\n",
              "      fill: #FFFFFF;\n",
              "    }\n",
              "  </style>\n",
              "\n",
              "    <script>\n",
              "      const buttonEl =\n",
              "        document.querySelector('#df-f432f04a-bda7-4998-bbb5-31bc6a9017f3 button.colab-df-convert');\n",
              "      buttonEl.style.display =\n",
              "        google.colab.kernel.accessAllowed ? 'block' : 'none';\n",
              "\n",
              "      async function convertToInteractive(key) {\n",
              "        const element = document.querySelector('#df-f432f04a-bda7-4998-bbb5-31bc6a9017f3');\n",
              "        const dataTable =\n",
              "          await google.colab.kernel.invokeFunction('convertToInteractive',\n",
              "                                                    [key], {});\n",
              "        if (!dataTable) return;\n",
              "\n",
              "        const docLinkHtml = 'Like what you see? Visit the ' +\n",
              "          '<a target=\"_blank\" href=https://colab.research.google.com/notebooks/data_table.ipynb>data table notebook</a>'\n",
              "          + ' to learn more about interactive tables.';\n",
              "        element.innerHTML = '';\n",
              "        dataTable['output_type'] = 'display_data';\n",
              "        await google.colab.output.renderOutput(dataTable, element);\n",
              "        const docLink = document.createElement('div');\n",
              "        docLink.innerHTML = docLinkHtml;\n",
              "        element.appendChild(docLink);\n",
              "      }\n",
              "    </script>\n",
              "  </div>\n",
              "\n",
              "\n",
              "    <div id=\"df-9a531455-764f-48b1-96ae-0d977b2da70c\">\n",
              "      <button class=\"colab-df-quickchart\" onclick=\"quickchart('df-9a531455-764f-48b1-96ae-0d977b2da70c')\"\n",
              "                title=\"Suggest charts\"\n",
              "                style=\"display:none;\">\n",
              "\n",
              "<svg xmlns=\"http://www.w3.org/2000/svg\" height=\"24px\"viewBox=\"0 0 24 24\"\n",
              "     width=\"24px\">\n",
              "    <g>\n",
              "        <path d=\"M19 3H5c-1.1 0-2 .9-2 2v14c0 1.1.9 2 2 2h14c1.1 0 2-.9 2-2V5c0-1.1-.9-2-2-2zM9 17H7v-7h2v7zm4 0h-2V7h2v10zm4 0h-2v-4h2v4z\"/>\n",
              "    </g>\n",
              "</svg>\n",
              "      </button>\n",
              "\n",
              "<style>\n",
              "  .colab-df-quickchart {\n",
              "      --bg-color: #E8F0FE;\n",
              "      --fill-color: #1967D2;\n",
              "      --hover-bg-color: #E2EBFA;\n",
              "      --hover-fill-color: #174EA6;\n",
              "      --disabled-fill-color: #AAA;\n",
              "      --disabled-bg-color: #DDD;\n",
              "  }\n",
              "\n",
              "  [theme=dark] .colab-df-quickchart {\n",
              "      --bg-color: #3B4455;\n",
              "      --fill-color: #D2E3FC;\n",
              "      --hover-bg-color: #434B5C;\n",
              "      --hover-fill-color: #FFFFFF;\n",
              "      --disabled-bg-color: #3B4455;\n",
              "      --disabled-fill-color: #666;\n",
              "  }\n",
              "\n",
              "  .colab-df-quickchart {\n",
              "    background-color: var(--bg-color);\n",
              "    border: none;\n",
              "    border-radius: 50%;\n",
              "    cursor: pointer;\n",
              "    display: none;\n",
              "    fill: var(--fill-color);\n",
              "    height: 32px;\n",
              "    padding: 0;\n",
              "    width: 32px;\n",
              "  }\n",
              "\n",
              "  .colab-df-quickchart:hover {\n",
              "    background-color: var(--hover-bg-color);\n",
              "    box-shadow: 0 1px 2px rgba(60, 64, 67, 0.3), 0 1px 3px 1px rgba(60, 64, 67, 0.15);\n",
              "    fill: var(--button-hover-fill-color);\n",
              "  }\n",
              "\n",
              "  .colab-df-quickchart-complete:disabled,\n",
              "  .colab-df-quickchart-complete:disabled:hover {\n",
              "    background-color: var(--disabled-bg-color);\n",
              "    fill: var(--disabled-fill-color);\n",
              "    box-shadow: none;\n",
              "  }\n",
              "\n",
              "  .colab-df-spinner {\n",
              "    border: 2px solid var(--fill-color);\n",
              "    border-color: transparent;\n",
              "    border-bottom-color: var(--fill-color);\n",
              "    animation:\n",
              "      spin 1s steps(1) infinite;\n",
              "  }\n",
              "\n",
              "  @keyframes spin {\n",
              "    0% {\n",
              "      border-color: transparent;\n",
              "      border-bottom-color: var(--fill-color);\n",
              "      border-left-color: var(--fill-color);\n",
              "    }\n",
              "    20% {\n",
              "      border-color: transparent;\n",
              "      border-left-color: var(--fill-color);\n",
              "      border-top-color: var(--fill-color);\n",
              "    }\n",
              "    30% {\n",
              "      border-color: transparent;\n",
              "      border-left-color: var(--fill-color);\n",
              "      border-top-color: var(--fill-color);\n",
              "      border-right-color: var(--fill-color);\n",
              "    }\n",
              "    40% {\n",
              "      border-color: transparent;\n",
              "      border-right-color: var(--fill-color);\n",
              "      border-top-color: var(--fill-color);\n",
              "    }\n",
              "    60% {\n",
              "      border-color: transparent;\n",
              "      border-right-color: var(--fill-color);\n",
              "    }\n",
              "    80% {\n",
              "      border-color: transparent;\n",
              "      border-right-color: var(--fill-color);\n",
              "      border-bottom-color: var(--fill-color);\n",
              "    }\n",
              "    90% {\n",
              "      border-color: transparent;\n",
              "      border-bottom-color: var(--fill-color);\n",
              "    }\n",
              "  }\n",
              "</style>\n",
              "\n",
              "      <script>\n",
              "        async function quickchart(key) {\n",
              "          const quickchartButtonEl =\n",
              "            document.querySelector('#' + key + ' button');\n",
              "          quickchartButtonEl.disabled = true;  // To prevent multiple clicks.\n",
              "          quickchartButtonEl.classList.add('colab-df-spinner');\n",
              "          try {\n",
              "            const charts = await google.colab.kernel.invokeFunction(\n",
              "                'suggestCharts', [key], {});\n",
              "          } catch (error) {\n",
              "            console.error('Error during call to suggestCharts:', error);\n",
              "          }\n",
              "          quickchartButtonEl.classList.remove('colab-df-spinner');\n",
              "          quickchartButtonEl.classList.add('colab-df-quickchart-complete');\n",
              "        }\n",
              "        (() => {\n",
              "          let quickchartButtonEl =\n",
              "            document.querySelector('#df-9a531455-764f-48b1-96ae-0d977b2da70c button');\n",
              "          quickchartButtonEl.style.display =\n",
              "            google.colab.kernel.accessAllowed ? 'block' : 'none';\n",
              "        })();\n",
              "      </script>\n",
              "    </div>\n",
              "\n",
              "  <div id=\"id_491da429-78b5-4dfc-89e1-85df9971966f\">\n",
              "    <style>\n",
              "      .colab-df-generate {\n",
              "        background-color: #E8F0FE;\n",
              "        border: none;\n",
              "        border-radius: 50%;\n",
              "        cursor: pointer;\n",
              "        display: none;\n",
              "        fill: #1967D2;\n",
              "        height: 32px;\n",
              "        padding: 0 0 0 0;\n",
              "        width: 32px;\n",
              "      }\n",
              "\n",
              "      .colab-df-generate:hover {\n",
              "        background-color: #E2EBFA;\n",
              "        box-shadow: 0px 1px 2px rgba(60, 64, 67, 0.3), 0px 1px 3px 1px rgba(60, 64, 67, 0.15);\n",
              "        fill: #174EA6;\n",
              "      }\n",
              "\n",
              "      [theme=dark] .colab-df-generate {\n",
              "        background-color: #3B4455;\n",
              "        fill: #D2E3FC;\n",
              "      }\n",
              "\n",
              "      [theme=dark] .colab-df-generate:hover {\n",
              "        background-color: #434B5C;\n",
              "        box-shadow: 0px 1px 3px 1px rgba(0, 0, 0, 0.15);\n",
              "        filter: drop-shadow(0px 1px 2px rgba(0, 0, 0, 0.3));\n",
              "        fill: #FFFFFF;\n",
              "      }\n",
              "    </style>\n",
              "    <button class=\"colab-df-generate\" onclick=\"generateWithVariable('X')\"\n",
              "            title=\"Generate code using this dataframe.\"\n",
              "            style=\"display:none;\">\n",
              "\n",
              "  <svg xmlns=\"http://www.w3.org/2000/svg\" height=\"24px\"viewBox=\"0 0 24 24\"\n",
              "       width=\"24px\">\n",
              "    <path d=\"M7,19H8.4L18.45,9,17,7.55,7,17.6ZM5,21V16.75L18.45,3.32a2,2,0,0,1,2.83,0l1.4,1.43a1.91,1.91,0,0,1,.58,1.4,1.91,1.91,0,0,1-.58,1.4L9.25,21ZM18.45,9,17,7.55Zm-12,3A5.31,5.31,0,0,0,4.9,8.1,5.31,5.31,0,0,0,1,6.5,5.31,5.31,0,0,0,4.9,4.9,5.31,5.31,0,0,0,6.5,1,5.31,5.31,0,0,0,8.1,4.9,5.31,5.31,0,0,0,12,6.5,5.46,5.46,0,0,0,6.5,12Z\"/>\n",
              "  </svg>\n",
              "    </button>\n",
              "    <script>\n",
              "      (() => {\n",
              "      const buttonEl =\n",
              "        document.querySelector('#id_491da429-78b5-4dfc-89e1-85df9971966f button.colab-df-generate');\n",
              "      buttonEl.style.display =\n",
              "        google.colab.kernel.accessAllowed ? 'block' : 'none';\n",
              "\n",
              "      buttonEl.onclick = () => {\n",
              "        google.colab.notebook.generateWithVariable('X');\n",
              "      }\n",
              "      })();\n",
              "    </script>\n",
              "  </div>\n",
              "\n",
              "    </div>\n",
              "  </div>\n"
            ],
            "application/vnd.google.colaboratory.intrinsic+json": {
              "type": "dataframe",
              "variable_name": "X"
            }
          },
          "metadata": {},
          "execution_count": 59
        }
      ]
    },
    {
      "cell_type": "code",
      "source": [
        "signature=mlflow.models.infer_signature(X, final_model.predict(X))"
      ],
      "metadata": {
        "colab": {
          "base_uri": "https://localhost:8080/"
        },
        "id": "Bro1eCjgpPJN",
        "outputId": "61928302-3f93-4158-ae51-2dac98bf604e"
      },
      "execution_count": null,
      "outputs": [
        {
          "output_type": "stream",
          "name": "stdout",
          "text": [
            "[LightGBM] [Warning] bagging_freq is set=6, subsample_freq=0 will be ignored. Current value: bagging_freq=6\n",
            "[LightGBM] [Warning] feature_fraction is set=0.6439703127865368, colsample_bytree=1.0 will be ignored. Current value: feature_fraction=0.6439703127865368\n",
            "[LightGBM] [Warning] lambda_l2 is set=0.03359858547081948, reg_lambda=0.0 will be ignored. Current value: lambda_l2=0.03359858547081948\n",
            "[LightGBM] [Warning] lambda_l1 is set=0.4218424794663666, reg_alpha=0.0 will be ignored. Current value: lambda_l1=0.4218424794663666\n",
            "[LightGBM] [Warning] bagging_fraction is set=0.9594936279484765, subsample=1.0 will be ignored. Current value: bagging_fraction=0.9594936279484765\n"
          ]
        },
        {
          "output_type": "stream",
          "name": "stderr",
          "text": [
            "/usr/local/lib/python3.11/dist-packages/mlflow/types/utils.py:452: UserWarning:\n",
            "\n",
            "Hint: Inferred schema contains integer column(s). Integer columns in Python cannot represent missing values. If your input data contains missing values at inference time, it will be encoded as floats and will cause a schema enforcement error. The best way to avoid this problem is to infer the model schema based on a realistic data sample (training dataset) that includes missing values. Alternatively, you can declare integer columns as doubles (float64) whenever these columns may have missing values. See `Handling Integers With Missing Values <https://www.mlflow.org/docs/latest/models.html#handling-integers-with-missing-values>`_ for more details.\n",
            "\n"
          ]
        }
      ]
    },
    {
      "cell_type": "code",
      "source": [
        "print(signature)"
      ],
      "metadata": {
        "colab": {
          "base_uri": "https://localhost:8080/"
        },
        "id": "JpbOcL4opQMG",
        "outputId": "201b2b05-5c01-4c71-a96a-08c5c74adbda"
      },
      "execution_count": null,
      "outputs": [
        {
          "output_type": "stream",
          "name": "stdout",
          "text": [
            "inputs: \n",
            "  ['WeekOfYear': long (required), 'Store_Dept': string (required), 'Dept': long (required), 'Sales_Lag_1': double (required), 'Sales_Roll_Std_4': double (required), 'Sales_Lag_52': double (required), 'Day': long (required), 'Sales_Lag_2': double (required), 'Sales_Lag_13': double (required), 'Fuel_Price': double (required), 'Sales_Lag_4': double (required), 'Temperature': double (required), 'IsBlackFridayWeek': long (required), 'Sales_Lag_26': double (required), 'Unemployment': double (required), 'IsHoliday': boolean (required)]\n",
            "outputs: \n",
            "  [Tensor('float64', (-1,))]\n",
            "params: \n",
            "  None\n",
            "\n"
          ]
        }
      ]
    },
    {
      "cell_type": "code",
      "execution_count": null,
      "metadata": {
        "colab": {
          "base_uri": "https://localhost:8080/"
        },
        "id": "HOate0lyFth-",
        "outputId": "71d3fe5a-2d3d-435a-f77c-c4b859c6c6fe"
      },
      "outputs": [
        {
          "output_type": "stream",
          "name": "stdout",
          "text": [
            "Step 1: Logging model pipeline as an artifact...\n",
            "LightGBM model artifact logged successfully.\n",
            "Step 2: Registering model from 'runs:/fb0ac2b29d8a4fd49db30d36558a0613/lightgbm-model' to 'LightGBM-Walmart-Sales'...\n"
          ]
        },
        {
          "output_type": "stream",
          "name": "stderr",
          "text": [
            "Registered model 'LightGBM-Walmart-Sales' already exists. Creating a new version of this model...\n",
            "2025/08/02 12:01:27 INFO mlflow.store.model_registry.abstract_store: Waiting up to 300 seconds for model version to finish creation. Model name: LightGBM-Walmart-Sales, version 3\n",
            "Created version '3' of model 'LightGBM-Walmart-Sales'.\n"
          ]
        },
        {
          "output_type": "stream",
          "name": "stdout",
          "text": [
            "\n",
            "✅ Model Pipeline successfully logged and registered to DagsHub/MLflow!\n"
          ]
        }
      ],
      "source": [
        "print(\"Step 1: Logging model pipeline as an artifact...\")\n",
        "model_info = mlflow.lightgbm.log_model(\n",
        "      lgb_model=final_model,\n",
        "      artifact_path=\"lightgbm-model\",\n",
        "      signature=signature)\n",
        "print(\"LightGBM model artifact logged successfully.\")\n",
        "\n",
        "# Step 2: Register the logged model artifact to the Model Registry.\n",
        "model_uri = model_info.model_uri\n",
        "registered_model_name = \"LightGBM-Walmart-Sales\"\n",
        "\n",
        "print(f\"Step 2: Registering model from '{model_uri}' to '{registered_model_name}'...\")\n",
        "mlflow.register_model(\n",
        "    model_uri=model_uri,\n",
        "    name=registered_model_name\n",
        ")\n",
        "\n",
        "# Add descriptive tags to the run\n",
        "mlflow.set_tag(\"model_type\", \"LightGBM\")\n",
        "mlflow.set_tag(\"project\", \"Walmart Sales Forecasting\")\n",
        "mlflow.set_tag(\"features\", f\"selected_top_{NUM_FEATURES_TO_SELECT}\")\n",
        "\n",
        "print(\"\\n✅ Model Pipeline successfully logged and registered to DagsHub/MLflow!\")"
      ]
    },
    {
      "cell_type": "code",
      "source": [
        "logged_model_uri = f\"runs:/fb0ac2b29d8a4fd49db30d36558a0613/lightgbm-model\""
      ],
      "metadata": {
        "id": "nInd7M8NiPgE"
      },
      "execution_count": null,
      "outputs": []
    },
    {
      "cell_type": "code",
      "source": [
        "print(logged_model_uri)"
      ],
      "metadata": {
        "colab": {
          "base_uri": "https://localhost:8080/"
        },
        "id": "Q3YUj8ZBiQLH",
        "outputId": "6e1fb22e-f114-4cf0-c5d8-b1a20b8e39eb"
      },
      "execution_count": null,
      "outputs": [
        {
          "output_type": "stream",
          "name": "stdout",
          "text": [
            "runs:/d4ba4736aa78443b883440a0fb023399/lightgbm-model\n"
          ]
        }
      ]
    },
    {
      "cell_type": "code",
      "source": [
        "logged_model_uri = f\"runs:/d4ba4736aa78443b883440a0fb023399/lightgbm-model\"\n",
        "loaded_pipeline = mlflow.pyfunc.load_model(logged_model_uri)"
      ],
      "metadata": {
        "colab": {
          "base_uri": "https://localhost:8080/",
          "height": 49,
          "referenced_widgets": [
            "27c1516734154e7ba64b41aa33df4845",
            "575917043b19465fb5c3d158b3ea3ace",
            "b17aa49073f54fc989dcaf26fa9a390f",
            "f4321ebe1ed944139f22444c477a2c65",
            "ae98dea37a4548d0bc7fedfca251335a",
            "5f03cf71bafe4cb59617cdfe04d7454b",
            "386cfbb0039541fb888fc7e08ee0a538",
            "a2abd6ff63aa428e938dbbce063d200e",
            "da1536b1ce654cae864d9add36002e68",
            "8d3001befd7c41f8847264186a04444f",
            "f1df65ca53bc4c8db4a6453d44947bf7"
          ]
        },
        "id": "WDrwTtY_kKhn",
        "outputId": "ddd70ded-045a-4183-d52c-ba3a6f8c96a6"
      },
      "execution_count": null,
      "outputs": [
        {
          "output_type": "display_data",
          "data": {
            "text/plain": [
              "Downloading artifacts:   0%|          | 0/5 [00:00<?, ?it/s]"
            ],
            "application/vnd.jupyter.widget-view+json": {
              "version_major": 2,
              "version_minor": 0,
              "model_id": "27c1516734154e7ba64b41aa33df4845"
            }
          },
          "metadata": {}
        }
      ]
    },
    {
      "cell_type": "code",
      "execution_count": null,
      "metadata": {
        "id": "dpp0k4vDDWIg",
        "colab": {
          "base_uri": "https://localhost:8080/",
          "height": 495,
          "referenced_widgets": [
            "1535e354088542918b6bf36aad4f8cbb",
            "2037abdeebda4ac7a2dda7d19c33bc65",
            "f3114a6c99de4f50a44224122ee406b8",
            "2c59ebf25bf841b3991afbc70106abf7",
            "fc46b0a4adaa429eaeed55e092ca0c37",
            "b0c462786d564bebaae5953bb02ba55b",
            "ecf5eede215f4f9094cda046ac928883",
            "1f1a2b4b826e4fea8d20db4fdf4d6f73",
            "c7bd424a88be41698ca1501b2fab560f",
            "0933d80ddbb94d4e91da892ec6643698",
            "a00aa594d3ac4dc3b600cae9f4cbb50b"
          ]
        },
        "outputId": "649d166a-09c0-4652-d11f-e26ed07832d6"
      },
      "outputs": [
        {
          "output_type": "stream",
          "name": "stdout",
          "text": [
            "\n",
            "--- Generating Submission File ---\n"
          ]
        },
        {
          "output_type": "display_data",
          "data": {
            "text/plain": [
              "Downloading artifacts:   0%|          | 0/5 [00:00<?, ?it/s]"
            ],
            "application/vnd.jupyter.widget-view+json": {
              "version_major": 2,
              "version_minor": 0,
              "model_id": "1535e354088542918b6bf36aad4f8cbb"
            }
          },
          "metadata": {}
        },
        {
          "output_type": "stream",
          "name": "stderr",
          "text": [
            "2025/08/02 12:04:31 WARNING mlflow.models.utils: `params` can only be specified at inference time if the model signature defines a params schema. This model does not define a params schema. Ignoring invalid params (not a dictionary).\n"
          ]
        },
        {
          "output_type": "stream",
          "name": "stdout",
          "text": [
            "✅ Model loaded successfully from: runs:/fb0ac2b29d8a4fd49db30d36558a0613/lightgbm-model\n"
          ]
        },
        {
          "output_type": "error",
          "ename": "ValueError",
          "evalue": "train and valid dataset categorical_feature do not match.",
          "traceback": [
            "\u001b[0;31m---------------------------------------------------------------------------\u001b[0m",
            "\u001b[0;31mValueError\u001b[0m                                Traceback (most recent call last)",
            "\u001b[0;32m/tmp/ipython-input-2350570444.py\u001b[0m in \u001b[0;36m<cell line: 0>\u001b[0;34m()\u001b[0m\n\u001b[1;32m     11\u001b[0m \u001b[0;34m\u001b[0m\u001b[0m\n\u001b[1;32m     12\u001b[0m \u001b[0mtest_df\u001b[0m \u001b[0;34m=\u001b[0m \u001b[0mtest_df\u001b[0m\u001b[0;34m[\u001b[0m\u001b[0mselected_features\u001b[0m\u001b[0;34m]\u001b[0m\u001b[0;34m\u001b[0m\u001b[0;34m\u001b[0m\u001b[0m\n\u001b[0;32m---> 13\u001b[0;31m \u001b[0mtest_predictions\u001b[0m \u001b[0;34m=\u001b[0m \u001b[0mloaded_pipeline\u001b[0m\u001b[0;34m.\u001b[0m\u001b[0mpredict\u001b[0m\u001b[0;34m(\u001b[0m\u001b[0mtest_df\u001b[0m\u001b[0;34m,\u001b[0m \u001b[0mcategorical_features\u001b[0m\u001b[0;34m)\u001b[0m\u001b[0;34m\u001b[0m\u001b[0;34m\u001b[0m\u001b[0m\n\u001b[0m\u001b[1;32m     14\u001b[0m \u001b[0;34m\u001b[0m\u001b[0m\n\u001b[1;32m     15\u001b[0m \u001b[0;34m\u001b[0m\u001b[0m\n",
            "\u001b[0;32m/usr/local/lib/python3.11/dist-packages/mlflow/pyfunc/__init__.py\u001b[0m in \u001b[0;36mpredict\u001b[0;34m(self, data, params)\u001b[0m\n\u001b[1;32m    810\u001b[0m             \u001b[0;32mif\u001b[0m \u001b[0mschema\u001b[0m \u001b[0;34m:=\u001b[0m \u001b[0m_get_dependencies_schema_from_model\u001b[0m\u001b[0;34m(\u001b[0m\u001b[0mself\u001b[0m\u001b[0;34m.\u001b[0m\u001b[0m_model_meta\u001b[0m\u001b[0;34m)\u001b[0m\u001b[0;34m:\u001b[0m\u001b[0;34m\u001b[0m\u001b[0;34m\u001b[0m\u001b[0m\n\u001b[1;32m    811\u001b[0m                 \u001b[0mcontext\u001b[0m\u001b[0;34m.\u001b[0m\u001b[0mupdate\u001b[0m\u001b[0;34m(\u001b[0m\u001b[0;34m**\u001b[0m\u001b[0mschema\u001b[0m\u001b[0;34m)\u001b[0m\u001b[0;34m\u001b[0m\u001b[0;34m\u001b[0m\u001b[0m\n\u001b[0;32m--> 812\u001b[0;31m             \u001b[0;32mreturn\u001b[0m \u001b[0mself\u001b[0m\u001b[0;34m.\u001b[0m\u001b[0m_predict\u001b[0m\u001b[0;34m(\u001b[0m\u001b[0mdata\u001b[0m\u001b[0;34m,\u001b[0m \u001b[0mparams\u001b[0m\u001b[0;34m)\u001b[0m\u001b[0;34m\u001b[0m\u001b[0;34m\u001b[0m\u001b[0m\n\u001b[0m\u001b[1;32m    813\u001b[0m \u001b[0;34m\u001b[0m\u001b[0m\n\u001b[1;32m    814\u001b[0m     \u001b[0;32mdef\u001b[0m \u001b[0m_predict\u001b[0m\u001b[0;34m(\u001b[0m\u001b[0mself\u001b[0m\u001b[0;34m,\u001b[0m \u001b[0mdata\u001b[0m\u001b[0;34m:\u001b[0m \u001b[0mPyFuncInput\u001b[0m\u001b[0;34m,\u001b[0m \u001b[0mparams\u001b[0m\u001b[0;34m:\u001b[0m \u001b[0mOptional\u001b[0m\u001b[0;34m[\u001b[0m\u001b[0mdict\u001b[0m\u001b[0;34m[\u001b[0m\u001b[0mstr\u001b[0m\u001b[0;34m,\u001b[0m \u001b[0mAny\u001b[0m\u001b[0;34m]\u001b[0m\u001b[0;34m]\u001b[0m \u001b[0;34m=\u001b[0m \u001b[0;32mNone\u001b[0m\u001b[0;34m)\u001b[0m \u001b[0;34m->\u001b[0m \u001b[0mPyFuncOutput\u001b[0m\u001b[0;34m:\u001b[0m\u001b[0;34m\u001b[0m\u001b[0;34m\u001b[0m\u001b[0m\n",
            "\u001b[0;32m/usr/local/lib/python3.11/dist-packages/mlflow/pyfunc/__init__.py\u001b[0m in \u001b[0;36m_predict\u001b[0;34m(self, data, params)\u001b[0m\n\u001b[1;32m    860\u001b[0m         \u001b[0mparams_arg\u001b[0m \u001b[0;34m=\u001b[0m \u001b[0minspect\u001b[0m\u001b[0;34m.\u001b[0m\u001b[0msignature\u001b[0m\u001b[0;34m(\u001b[0m\u001b[0mself\u001b[0m\u001b[0;34m.\u001b[0m\u001b[0m_predict_fn\u001b[0m\u001b[0;34m)\u001b[0m\u001b[0;34m.\u001b[0m\u001b[0mparameters\u001b[0m\u001b[0;34m.\u001b[0m\u001b[0mget\u001b[0m\u001b[0;34m(\u001b[0m\u001b[0;34m\"params\"\u001b[0m\u001b[0;34m)\u001b[0m\u001b[0;34m\u001b[0m\u001b[0;34m\u001b[0m\u001b[0m\n\u001b[1;32m    861\u001b[0m         \u001b[0;32mif\u001b[0m \u001b[0mparams_arg\u001b[0m \u001b[0;32mand\u001b[0m \u001b[0mparams_arg\u001b[0m\u001b[0;34m.\u001b[0m\u001b[0mkind\u001b[0m \u001b[0;34m!=\u001b[0m \u001b[0minspect\u001b[0m\u001b[0;34m.\u001b[0m\u001b[0mParameter\u001b[0m\u001b[0;34m.\u001b[0m\u001b[0mVAR_KEYWORD\u001b[0m\u001b[0;34m:\u001b[0m\u001b[0;34m\u001b[0m\u001b[0;34m\u001b[0m\u001b[0m\n\u001b[0;32m--> 862\u001b[0;31m             \u001b[0;32mreturn\u001b[0m \u001b[0mself\u001b[0m\u001b[0;34m.\u001b[0m\u001b[0m_predict_fn\u001b[0m\u001b[0;34m(\u001b[0m\u001b[0mdata\u001b[0m\u001b[0;34m,\u001b[0m \u001b[0mparams\u001b[0m\u001b[0;34m=\u001b[0m\u001b[0mparams\u001b[0m\u001b[0;34m)\u001b[0m\u001b[0;34m\u001b[0m\u001b[0;34m\u001b[0m\u001b[0m\n\u001b[0m\u001b[1;32m    863\u001b[0m \u001b[0;34m\u001b[0m\u001b[0m\n\u001b[1;32m    864\u001b[0m         \u001b[0m_log_warning_if_params_not_in_predict_signature\u001b[0m\u001b[0;34m(\u001b[0m\u001b[0m_logger\u001b[0m\u001b[0;34m,\u001b[0m \u001b[0mparams\u001b[0m\u001b[0;34m)\u001b[0m\u001b[0;34m\u001b[0m\u001b[0;34m\u001b[0m\u001b[0m\n",
            "\u001b[0;32m/usr/local/lib/python3.11/dist-packages/mlflow/lightgbm/__init__.py\u001b[0m in \u001b[0;36mpredict\u001b[0;34m(self, dataframe, params)\u001b[0m\n\u001b[1;32m    488\u001b[0m             \u001b[0mModel\u001b[0m \u001b[0mpredictions\u001b[0m\u001b[0;34m.\u001b[0m\u001b[0;34m\u001b[0m\u001b[0;34m\u001b[0m\u001b[0m\n\u001b[1;32m    489\u001b[0m         \"\"\"\n\u001b[0;32m--> 490\u001b[0;31m         \u001b[0;32mreturn\u001b[0m \u001b[0mself\u001b[0m\u001b[0;34m.\u001b[0m\u001b[0mlgb_model\u001b[0m\u001b[0;34m.\u001b[0m\u001b[0mpredict\u001b[0m\u001b[0;34m(\u001b[0m\u001b[0mdataframe\u001b[0m\u001b[0;34m)\u001b[0m\u001b[0;34m\u001b[0m\u001b[0;34m\u001b[0m\u001b[0m\n\u001b[0m\u001b[1;32m    491\u001b[0m \u001b[0;34m\u001b[0m\u001b[0m\n\u001b[1;32m    492\u001b[0m \u001b[0;34m\u001b[0m\u001b[0m\n",
            "\u001b[0;32m/usr/local/lib/python3.11/dist-packages/lightgbm/sklearn.py\u001b[0m in \u001b[0;36mpredict\u001b[0;34m(self, X, raw_score, start_iteration, num_iteration, pred_leaf, pred_contrib, validate_features, **kwargs)\u001b[0m\n\u001b[1;32m    959\u001b[0m         \u001b[0mpredict_params\u001b[0m\u001b[0;34m[\u001b[0m\u001b[0;34m\"num_threads\"\u001b[0m\u001b[0;34m]\u001b[0m \u001b[0;34m=\u001b[0m \u001b[0mself\u001b[0m\u001b[0;34m.\u001b[0m\u001b[0m_process_n_jobs\u001b[0m\u001b[0;34m(\u001b[0m\u001b[0mpredict_params\u001b[0m\u001b[0;34m[\u001b[0m\u001b[0;34m\"num_threads\"\u001b[0m\u001b[0;34m]\u001b[0m\u001b[0;34m)\u001b[0m\u001b[0;34m\u001b[0m\u001b[0;34m\u001b[0m\u001b[0m\n\u001b[1;32m    960\u001b[0m \u001b[0;34m\u001b[0m\u001b[0m\n\u001b[0;32m--> 961\u001b[0;31m         return self._Booster.predict(  # type: ignore[union-attr]\n\u001b[0m\u001b[1;32m    962\u001b[0m             \u001b[0mX\u001b[0m\u001b[0;34m,\u001b[0m \u001b[0mraw_score\u001b[0m\u001b[0;34m=\u001b[0m\u001b[0mraw_score\u001b[0m\u001b[0;34m,\u001b[0m \u001b[0mstart_iteration\u001b[0m\u001b[0;34m=\u001b[0m\u001b[0mstart_iteration\u001b[0m\u001b[0;34m,\u001b[0m \u001b[0mnum_iteration\u001b[0m\u001b[0;34m=\u001b[0m\u001b[0mnum_iteration\u001b[0m\u001b[0;34m,\u001b[0m\u001b[0;34m\u001b[0m\u001b[0;34m\u001b[0m\u001b[0m\n\u001b[1;32m    963\u001b[0m             \u001b[0mpred_leaf\u001b[0m\u001b[0;34m=\u001b[0m\u001b[0mpred_leaf\u001b[0m\u001b[0;34m,\u001b[0m \u001b[0mpred_contrib\u001b[0m\u001b[0;34m=\u001b[0m\u001b[0mpred_contrib\u001b[0m\u001b[0;34m,\u001b[0m \u001b[0mvalidate_features\u001b[0m\u001b[0;34m=\u001b[0m\u001b[0mvalidate_features\u001b[0m\u001b[0;34m,\u001b[0m\u001b[0;34m\u001b[0m\u001b[0;34m\u001b[0m\u001b[0m\n",
            "\u001b[0;32m/usr/local/lib/python3.11/dist-packages/lightgbm/basic.py\u001b[0m in \u001b[0;36mpredict\u001b[0;34m(self, data, start_iteration, num_iteration, raw_score, pred_leaf, pred_contrib, data_has_header, validate_features, **kwargs)\u001b[0m\n\u001b[1;32m   4451\u001b[0m             \u001b[0;32melse\u001b[0m\u001b[0;34m:\u001b[0m\u001b[0;34m\u001b[0m\u001b[0;34m\u001b[0m\u001b[0m\n\u001b[1;32m   4452\u001b[0m                 \u001b[0mnum_iteration\u001b[0m \u001b[0;34m=\u001b[0m \u001b[0;34m-\u001b[0m\u001b[0;36m1\u001b[0m\u001b[0;34m\u001b[0m\u001b[0;34m\u001b[0m\u001b[0m\n\u001b[0;32m-> 4453\u001b[0;31m         return predictor.predict(\n\u001b[0m\u001b[1;32m   4454\u001b[0m             \u001b[0mdata\u001b[0m\u001b[0;34m=\u001b[0m\u001b[0mdata\u001b[0m\u001b[0;34m,\u001b[0m\u001b[0;34m\u001b[0m\u001b[0;34m\u001b[0m\u001b[0m\n\u001b[1;32m   4455\u001b[0m             \u001b[0mstart_iteration\u001b[0m\u001b[0;34m=\u001b[0m\u001b[0mstart_iteration\u001b[0m\u001b[0;34m,\u001b[0m\u001b[0;34m\u001b[0m\u001b[0;34m\u001b[0m\u001b[0m\n",
            "\u001b[0;32m/usr/local/lib/python3.11/dist-packages/lightgbm/basic.py\u001b[0m in \u001b[0;36mpredict\u001b[0;34m(self, data, start_iteration, num_iteration, raw_score, pred_leaf, pred_contrib, data_has_header, validate_features)\u001b[0m\n\u001b[1;32m   1114\u001b[0m \u001b[0;34m\u001b[0m\u001b[0m\n\u001b[1;32m   1115\u001b[0m         \u001b[0;32mif\u001b[0m \u001b[0misinstance\u001b[0m\u001b[0;34m(\u001b[0m\u001b[0mdata\u001b[0m\u001b[0;34m,\u001b[0m \u001b[0mpd_DataFrame\u001b[0m\u001b[0;34m)\u001b[0m\u001b[0;34m:\u001b[0m\u001b[0;34m\u001b[0m\u001b[0;34m\u001b[0m\u001b[0m\n\u001b[0;32m-> 1116\u001b[0;31m             data = _data_from_pandas(\n\u001b[0m\u001b[1;32m   1117\u001b[0m                 \u001b[0mdata\u001b[0m\u001b[0;34m=\u001b[0m\u001b[0mdata\u001b[0m\u001b[0;34m,\u001b[0m\u001b[0;34m\u001b[0m\u001b[0;34m\u001b[0m\u001b[0m\n\u001b[1;32m   1118\u001b[0m                 \u001b[0mfeature_name\u001b[0m\u001b[0;34m=\u001b[0m\u001b[0;34m\"auto\"\u001b[0m\u001b[0;34m,\u001b[0m\u001b[0;34m\u001b[0m\u001b[0;34m\u001b[0m\u001b[0m\n",
            "\u001b[0;32m/usr/local/lib/python3.11/dist-packages/lightgbm/basic.py\u001b[0m in \u001b[0;36m_data_from_pandas\u001b[0;34m(data, feature_name, categorical_feature, pandas_categorical)\u001b[0m\n\u001b[1;32m    806\u001b[0m     \u001b[0;32melse\u001b[0m\u001b[0;34m:\u001b[0m\u001b[0;34m\u001b[0m\u001b[0;34m\u001b[0m\u001b[0m\n\u001b[1;32m    807\u001b[0m         \u001b[0;32mif\u001b[0m \u001b[0mlen\u001b[0m\u001b[0;34m(\u001b[0m\u001b[0mcat_cols\u001b[0m\u001b[0;34m)\u001b[0m \u001b[0;34m!=\u001b[0m \u001b[0mlen\u001b[0m\u001b[0;34m(\u001b[0m\u001b[0mpandas_categorical\u001b[0m\u001b[0;34m)\u001b[0m\u001b[0;34m:\u001b[0m\u001b[0;34m\u001b[0m\u001b[0;34m\u001b[0m\u001b[0m\n\u001b[0;32m--> 808\u001b[0;31m             \u001b[0;32mraise\u001b[0m \u001b[0mValueError\u001b[0m\u001b[0;34m(\u001b[0m\u001b[0;34m'train and valid dataset categorical_feature do not match.'\u001b[0m\u001b[0;34m)\u001b[0m\u001b[0;34m\u001b[0m\u001b[0;34m\u001b[0m\u001b[0m\n\u001b[0m\u001b[1;32m    809\u001b[0m         \u001b[0;32mfor\u001b[0m \u001b[0mcol\u001b[0m\u001b[0;34m,\u001b[0m \u001b[0mcategory\u001b[0m \u001b[0;32min\u001b[0m \u001b[0mzip\u001b[0m\u001b[0;34m(\u001b[0m\u001b[0mcat_cols\u001b[0m\u001b[0;34m,\u001b[0m \u001b[0mpandas_categorical\u001b[0m\u001b[0;34m)\u001b[0m\u001b[0;34m:\u001b[0m\u001b[0;34m\u001b[0m\u001b[0;34m\u001b[0m\u001b[0m\n\u001b[1;32m    810\u001b[0m             \u001b[0;32mif\u001b[0m \u001b[0mlist\u001b[0m\u001b[0;34m(\u001b[0m\u001b[0mdata\u001b[0m\u001b[0;34m[\u001b[0m\u001b[0mcol\u001b[0m\u001b[0;34m]\u001b[0m\u001b[0;34m.\u001b[0m\u001b[0mcat\u001b[0m\u001b[0;34m.\u001b[0m\u001b[0mcategories\u001b[0m\u001b[0;34m)\u001b[0m \u001b[0;34m!=\u001b[0m \u001b[0mlist\u001b[0m\u001b[0;34m(\u001b[0m\u001b[0mcategory\u001b[0m\u001b[0;34m)\u001b[0m\u001b[0;34m:\u001b[0m\u001b[0;34m\u001b[0m\u001b[0;34m\u001b[0m\u001b[0m\n",
            "\u001b[0;31mValueError\u001b[0m: train and valid dataset categorical_feature do not match."
          ]
        }
      ],
      "source": [
        "\n",
        "# --- Load Raw Test Data ---\n",
        "print(\"\\n--- Generating Submission File ---\")\n",
        "# Assuming test_df is already loaded and preprocessed if necessary\n",
        "# test_df = pd.read_csv(...)\n",
        "\n",
        "# --- Load the Packaged Pipeline Model from MLflow ---\n",
        "# FIX: Use the correct artifact_path \"lightgbm-model\" that you used when logging.\n",
        "logged_model_uri = logged_model_uri\n",
        "loaded_pipeline = mlflow.pyfunc.load_model(logged_model_uri)\n",
        "print(f\"✅ Model loaded successfully from: {logged_model_uri}\")\n",
        "\n",
        "test_df = test_df[selected_features]\n",
        "test_predictions = loaded_pipeline.predict(test_df, categorical_features)\n",
        "\n",
        "\n",
        "# --- Create Submission File ---\n",
        "submission_df = test_df.copy()\n",
        "submission_df['Weekly_Sales'] = test_predictions\n",
        "\n",
        "# Clip predictions at 0, as sales cannot be negative\n",
        "submission_df['Weekly_Sales'] = submission_df['Weekly_Sales'].clip(lower=0)\n",
        "\n",
        "# Create the required 'Id' column\n",
        "submission_df['Id'] = submission_df['Store'].astype(str) + '_' + submission_df['Dept'].astype(str) + '_' + submission_df['Date'].dt.strftime('%Y-%m-%d')\n",
        "\n",
        "# Select and save the final columns\n",
        "final_submission = submission_df[['Id', 'Weekly_Sales']]\n",
        "\n",
        "# Define a local path to save the file\n",
        "submission_path = 'submission.csv'\n",
        "final_submission.to_csv(submission_path, index=False)\n",
        "print(\"\\nSubmission file created locally.\")\n",
        "display(final_submission.head())\n",
        "\n",
        "# --- Log Submission File as an Artifact ---\n",
        "mlflow.log_artifact(submission_path, \"submission\")\n",
        "print(\"\\nSubmission file logged to MLflow artifacts.\")\n",
        "print(f\"✅ Experiment complete! Find your run at: https://dagshub.com/enelene/Walmart-Recruiting---Store-Sales-Forecasting/experiments/#/{run.info.experiment_id}/{run.info.run_id}\")"
      ]
    }
  ],
  "metadata": {
    "colab": {
      "provenance": [],
      "authorship_tag": "ABX9TyNWPtpBRpjvRFctHQ8QWYa8",
      "include_colab_link": true
    },
    "kernelspec": {
      "display_name": "Python 3",
      "name": "python3"
    },
    "language_info": {
      "name": "python"
    },
    "widgets": {
      "application/vnd.jupyter.widget-state+json": {
        "27c1516734154e7ba64b41aa33df4845": {
          "model_module": "@jupyter-widgets/controls",
          "model_name": "HBoxModel",
          "model_module_version": "1.5.0",
          "state": {
            "_dom_classes": [],
            "_model_module": "@jupyter-widgets/controls",
            "_model_module_version": "1.5.0",
            "_model_name": "HBoxModel",
            "_view_count": null,
            "_view_module": "@jupyter-widgets/controls",
            "_view_module_version": "1.5.0",
            "_view_name": "HBoxView",
            "box_style": "",
            "children": [
              "IPY_MODEL_575917043b19465fb5c3d158b3ea3ace",
              "IPY_MODEL_b17aa49073f54fc989dcaf26fa9a390f",
              "IPY_MODEL_f4321ebe1ed944139f22444c477a2c65"
            ],
            "layout": "IPY_MODEL_ae98dea37a4548d0bc7fedfca251335a"
          }
        },
        "575917043b19465fb5c3d158b3ea3ace": {
          "model_module": "@jupyter-widgets/controls",
          "model_name": "HTMLModel",
          "model_module_version": "1.5.0",
          "state": {
            "_dom_classes": [],
            "_model_module": "@jupyter-widgets/controls",
            "_model_module_version": "1.5.0",
            "_model_name": "HTMLModel",
            "_view_count": null,
            "_view_module": "@jupyter-widgets/controls",
            "_view_module_version": "1.5.0",
            "_view_name": "HTMLView",
            "description": "",
            "description_tooltip": null,
            "layout": "IPY_MODEL_5f03cf71bafe4cb59617cdfe04d7454b",
            "placeholder": "​",
            "style": "IPY_MODEL_386cfbb0039541fb888fc7e08ee0a538",
            "value": "Downloading artifacts: 100%"
          }
        },
        "b17aa49073f54fc989dcaf26fa9a390f": {
          "model_module": "@jupyter-widgets/controls",
          "model_name": "FloatProgressModel",
          "model_module_version": "1.5.0",
          "state": {
            "_dom_classes": [],
            "_model_module": "@jupyter-widgets/controls",
            "_model_module_version": "1.5.0",
            "_model_name": "FloatProgressModel",
            "_view_count": null,
            "_view_module": "@jupyter-widgets/controls",
            "_view_module_version": "1.5.0",
            "_view_name": "ProgressView",
            "bar_style": "success",
            "description": "",
            "description_tooltip": null,
            "layout": "IPY_MODEL_a2abd6ff63aa428e938dbbce063d200e",
            "max": 5,
            "min": 0,
            "orientation": "horizontal",
            "style": "IPY_MODEL_da1536b1ce654cae864d9add36002e68",
            "value": 5
          }
        },
        "f4321ebe1ed944139f22444c477a2c65": {
          "model_module": "@jupyter-widgets/controls",
          "model_name": "HTMLModel",
          "model_module_version": "1.5.0",
          "state": {
            "_dom_classes": [],
            "_model_module": "@jupyter-widgets/controls",
            "_model_module_version": "1.5.0",
            "_model_name": "HTMLModel",
            "_view_count": null,
            "_view_module": "@jupyter-widgets/controls",
            "_view_module_version": "1.5.0",
            "_view_name": "HTMLView",
            "description": "",
            "description_tooltip": null,
            "layout": "IPY_MODEL_8d3001befd7c41f8847264186a04444f",
            "placeholder": "​",
            "style": "IPY_MODEL_f1df65ca53bc4c8db4a6453d44947bf7",
            "value": " 5/5 [00:01&lt;00:00,  2.43it/s]"
          }
        },
        "ae98dea37a4548d0bc7fedfca251335a": {
          "model_module": "@jupyter-widgets/base",
          "model_name": "LayoutModel",
          "model_module_version": "1.2.0",
          "state": {
            "_model_module": "@jupyter-widgets/base",
            "_model_module_version": "1.2.0",
            "_model_name": "LayoutModel",
            "_view_count": null,
            "_view_module": "@jupyter-widgets/base",
            "_view_module_version": "1.2.0",
            "_view_name": "LayoutView",
            "align_content": null,
            "align_items": null,
            "align_self": null,
            "border": null,
            "bottom": null,
            "display": null,
            "flex": null,
            "flex_flow": null,
            "grid_area": null,
            "grid_auto_columns": null,
            "grid_auto_flow": null,
            "grid_auto_rows": null,
            "grid_column": null,
            "grid_gap": null,
            "grid_row": null,
            "grid_template_areas": null,
            "grid_template_columns": null,
            "grid_template_rows": null,
            "height": null,
            "justify_content": null,
            "justify_items": null,
            "left": null,
            "margin": null,
            "max_height": null,
            "max_width": null,
            "min_height": null,
            "min_width": null,
            "object_fit": null,
            "object_position": null,
            "order": null,
            "overflow": null,
            "overflow_x": null,
            "overflow_y": null,
            "padding": null,
            "right": null,
            "top": null,
            "visibility": null,
            "width": null
          }
        },
        "5f03cf71bafe4cb59617cdfe04d7454b": {
          "model_module": "@jupyter-widgets/base",
          "model_name": "LayoutModel",
          "model_module_version": "1.2.0",
          "state": {
            "_model_module": "@jupyter-widgets/base",
            "_model_module_version": "1.2.0",
            "_model_name": "LayoutModel",
            "_view_count": null,
            "_view_module": "@jupyter-widgets/base",
            "_view_module_version": "1.2.0",
            "_view_name": "LayoutView",
            "align_content": null,
            "align_items": null,
            "align_self": null,
            "border": null,
            "bottom": null,
            "display": null,
            "flex": null,
            "flex_flow": null,
            "grid_area": null,
            "grid_auto_columns": null,
            "grid_auto_flow": null,
            "grid_auto_rows": null,
            "grid_column": null,
            "grid_gap": null,
            "grid_row": null,
            "grid_template_areas": null,
            "grid_template_columns": null,
            "grid_template_rows": null,
            "height": null,
            "justify_content": null,
            "justify_items": null,
            "left": null,
            "margin": null,
            "max_height": null,
            "max_width": null,
            "min_height": null,
            "min_width": null,
            "object_fit": null,
            "object_position": null,
            "order": null,
            "overflow": null,
            "overflow_x": null,
            "overflow_y": null,
            "padding": null,
            "right": null,
            "top": null,
            "visibility": null,
            "width": null
          }
        },
        "386cfbb0039541fb888fc7e08ee0a538": {
          "model_module": "@jupyter-widgets/controls",
          "model_name": "DescriptionStyleModel",
          "model_module_version": "1.5.0",
          "state": {
            "_model_module": "@jupyter-widgets/controls",
            "_model_module_version": "1.5.0",
            "_model_name": "DescriptionStyleModel",
            "_view_count": null,
            "_view_module": "@jupyter-widgets/base",
            "_view_module_version": "1.2.0",
            "_view_name": "StyleView",
            "description_width": ""
          }
        },
        "a2abd6ff63aa428e938dbbce063d200e": {
          "model_module": "@jupyter-widgets/base",
          "model_name": "LayoutModel",
          "model_module_version": "1.2.0",
          "state": {
            "_model_module": "@jupyter-widgets/base",
            "_model_module_version": "1.2.0",
            "_model_name": "LayoutModel",
            "_view_count": null,
            "_view_module": "@jupyter-widgets/base",
            "_view_module_version": "1.2.0",
            "_view_name": "LayoutView",
            "align_content": null,
            "align_items": null,
            "align_self": null,
            "border": null,
            "bottom": null,
            "display": null,
            "flex": null,
            "flex_flow": null,
            "grid_area": null,
            "grid_auto_columns": null,
            "grid_auto_flow": null,
            "grid_auto_rows": null,
            "grid_column": null,
            "grid_gap": null,
            "grid_row": null,
            "grid_template_areas": null,
            "grid_template_columns": null,
            "grid_template_rows": null,
            "height": null,
            "justify_content": null,
            "justify_items": null,
            "left": null,
            "margin": null,
            "max_height": null,
            "max_width": null,
            "min_height": null,
            "min_width": null,
            "object_fit": null,
            "object_position": null,
            "order": null,
            "overflow": null,
            "overflow_x": null,
            "overflow_y": null,
            "padding": null,
            "right": null,
            "top": null,
            "visibility": null,
            "width": null
          }
        },
        "da1536b1ce654cae864d9add36002e68": {
          "model_module": "@jupyter-widgets/controls",
          "model_name": "ProgressStyleModel",
          "model_module_version": "1.5.0",
          "state": {
            "_model_module": "@jupyter-widgets/controls",
            "_model_module_version": "1.5.0",
            "_model_name": "ProgressStyleModel",
            "_view_count": null,
            "_view_module": "@jupyter-widgets/base",
            "_view_module_version": "1.2.0",
            "_view_name": "StyleView",
            "bar_color": null,
            "description_width": ""
          }
        },
        "8d3001befd7c41f8847264186a04444f": {
          "model_module": "@jupyter-widgets/base",
          "model_name": "LayoutModel",
          "model_module_version": "1.2.0",
          "state": {
            "_model_module": "@jupyter-widgets/base",
            "_model_module_version": "1.2.0",
            "_model_name": "LayoutModel",
            "_view_count": null,
            "_view_module": "@jupyter-widgets/base",
            "_view_module_version": "1.2.0",
            "_view_name": "LayoutView",
            "align_content": null,
            "align_items": null,
            "align_self": null,
            "border": null,
            "bottom": null,
            "display": null,
            "flex": null,
            "flex_flow": null,
            "grid_area": null,
            "grid_auto_columns": null,
            "grid_auto_flow": null,
            "grid_auto_rows": null,
            "grid_column": null,
            "grid_gap": null,
            "grid_row": null,
            "grid_template_areas": null,
            "grid_template_columns": null,
            "grid_template_rows": null,
            "height": null,
            "justify_content": null,
            "justify_items": null,
            "left": null,
            "margin": null,
            "max_height": null,
            "max_width": null,
            "min_height": null,
            "min_width": null,
            "object_fit": null,
            "object_position": null,
            "order": null,
            "overflow": null,
            "overflow_x": null,
            "overflow_y": null,
            "padding": null,
            "right": null,
            "top": null,
            "visibility": null,
            "width": null
          }
        },
        "f1df65ca53bc4c8db4a6453d44947bf7": {
          "model_module": "@jupyter-widgets/controls",
          "model_name": "DescriptionStyleModel",
          "model_module_version": "1.5.0",
          "state": {
            "_model_module": "@jupyter-widgets/controls",
            "_model_module_version": "1.5.0",
            "_model_name": "DescriptionStyleModel",
            "_view_count": null,
            "_view_module": "@jupyter-widgets/base",
            "_view_module_version": "1.2.0",
            "_view_name": "StyleView",
            "description_width": ""
          }
        },
        "1535e354088542918b6bf36aad4f8cbb": {
          "model_module": "@jupyter-widgets/controls",
          "model_name": "HBoxModel",
          "model_module_version": "1.5.0",
          "state": {
            "_dom_classes": [],
            "_model_module": "@jupyter-widgets/controls",
            "_model_module_version": "1.5.0",
            "_model_name": "HBoxModel",
            "_view_count": null,
            "_view_module": "@jupyter-widgets/controls",
            "_view_module_version": "1.5.0",
            "_view_name": "HBoxView",
            "box_style": "",
            "children": [
              "IPY_MODEL_2037abdeebda4ac7a2dda7d19c33bc65",
              "IPY_MODEL_f3114a6c99de4f50a44224122ee406b8",
              "IPY_MODEL_2c59ebf25bf841b3991afbc70106abf7"
            ],
            "layout": "IPY_MODEL_fc46b0a4adaa429eaeed55e092ca0c37"
          }
        },
        "2037abdeebda4ac7a2dda7d19c33bc65": {
          "model_module": "@jupyter-widgets/controls",
          "model_name": "HTMLModel",
          "model_module_version": "1.5.0",
          "state": {
            "_dom_classes": [],
            "_model_module": "@jupyter-widgets/controls",
            "_model_module_version": "1.5.0",
            "_model_name": "HTMLModel",
            "_view_count": null,
            "_view_module": "@jupyter-widgets/controls",
            "_view_module_version": "1.5.0",
            "_view_name": "HTMLView",
            "description": "",
            "description_tooltip": null,
            "layout": "IPY_MODEL_b0c462786d564bebaae5953bb02ba55b",
            "placeholder": "​",
            "style": "IPY_MODEL_ecf5eede215f4f9094cda046ac928883",
            "value": "Downloading artifacts: 100%"
          }
        },
        "f3114a6c99de4f50a44224122ee406b8": {
          "model_module": "@jupyter-widgets/controls",
          "model_name": "FloatProgressModel",
          "model_module_version": "1.5.0",
          "state": {
            "_dom_classes": [],
            "_model_module": "@jupyter-widgets/controls",
            "_model_module_version": "1.5.0",
            "_model_name": "FloatProgressModel",
            "_view_count": null,
            "_view_module": "@jupyter-widgets/controls",
            "_view_module_version": "1.5.0",
            "_view_name": "ProgressView",
            "bar_style": "success",
            "description": "",
            "description_tooltip": null,
            "layout": "IPY_MODEL_1f1a2b4b826e4fea8d20db4fdf4d6f73",
            "max": 5,
            "min": 0,
            "orientation": "horizontal",
            "style": "IPY_MODEL_c7bd424a88be41698ca1501b2fab560f",
            "value": 5
          }
        },
        "2c59ebf25bf841b3991afbc70106abf7": {
          "model_module": "@jupyter-widgets/controls",
          "model_name": "HTMLModel",
          "model_module_version": "1.5.0",
          "state": {
            "_dom_classes": [],
            "_model_module": "@jupyter-widgets/controls",
            "_model_module_version": "1.5.0",
            "_model_name": "HTMLModel",
            "_view_count": null,
            "_view_module": "@jupyter-widgets/controls",
            "_view_module_version": "1.5.0",
            "_view_name": "HTMLView",
            "description": "",
            "description_tooltip": null,
            "layout": "IPY_MODEL_0933d80ddbb94d4e91da892ec6643698",
            "placeholder": "​",
            "style": "IPY_MODEL_a00aa594d3ac4dc3b600cae9f4cbb50b",
            "value": " 5/5 [00:01&lt;00:00,  2.86it/s]"
          }
        },
        "fc46b0a4adaa429eaeed55e092ca0c37": {
          "model_module": "@jupyter-widgets/base",
          "model_name": "LayoutModel",
          "model_module_version": "1.2.0",
          "state": {
            "_model_module": "@jupyter-widgets/base",
            "_model_module_version": "1.2.0",
            "_model_name": "LayoutModel",
            "_view_count": null,
            "_view_module": "@jupyter-widgets/base",
            "_view_module_version": "1.2.0",
            "_view_name": "LayoutView",
            "align_content": null,
            "align_items": null,
            "align_self": null,
            "border": null,
            "bottom": null,
            "display": null,
            "flex": null,
            "flex_flow": null,
            "grid_area": null,
            "grid_auto_columns": null,
            "grid_auto_flow": null,
            "grid_auto_rows": null,
            "grid_column": null,
            "grid_gap": null,
            "grid_row": null,
            "grid_template_areas": null,
            "grid_template_columns": null,
            "grid_template_rows": null,
            "height": null,
            "justify_content": null,
            "justify_items": null,
            "left": null,
            "margin": null,
            "max_height": null,
            "max_width": null,
            "min_height": null,
            "min_width": null,
            "object_fit": null,
            "object_position": null,
            "order": null,
            "overflow": null,
            "overflow_x": null,
            "overflow_y": null,
            "padding": null,
            "right": null,
            "top": null,
            "visibility": null,
            "width": null
          }
        },
        "b0c462786d564bebaae5953bb02ba55b": {
          "model_module": "@jupyter-widgets/base",
          "model_name": "LayoutModel",
          "model_module_version": "1.2.0",
          "state": {
            "_model_module": "@jupyter-widgets/base",
            "_model_module_version": "1.2.0",
            "_model_name": "LayoutModel",
            "_view_count": null,
            "_view_module": "@jupyter-widgets/base",
            "_view_module_version": "1.2.0",
            "_view_name": "LayoutView",
            "align_content": null,
            "align_items": null,
            "align_self": null,
            "border": null,
            "bottom": null,
            "display": null,
            "flex": null,
            "flex_flow": null,
            "grid_area": null,
            "grid_auto_columns": null,
            "grid_auto_flow": null,
            "grid_auto_rows": null,
            "grid_column": null,
            "grid_gap": null,
            "grid_row": null,
            "grid_template_areas": null,
            "grid_template_columns": null,
            "grid_template_rows": null,
            "height": null,
            "justify_content": null,
            "justify_items": null,
            "left": null,
            "margin": null,
            "max_height": null,
            "max_width": null,
            "min_height": null,
            "min_width": null,
            "object_fit": null,
            "object_position": null,
            "order": null,
            "overflow": null,
            "overflow_x": null,
            "overflow_y": null,
            "padding": null,
            "right": null,
            "top": null,
            "visibility": null,
            "width": null
          }
        },
        "ecf5eede215f4f9094cda046ac928883": {
          "model_module": "@jupyter-widgets/controls",
          "model_name": "DescriptionStyleModel",
          "model_module_version": "1.5.0",
          "state": {
            "_model_module": "@jupyter-widgets/controls",
            "_model_module_version": "1.5.0",
            "_model_name": "DescriptionStyleModel",
            "_view_count": null,
            "_view_module": "@jupyter-widgets/base",
            "_view_module_version": "1.2.0",
            "_view_name": "StyleView",
            "description_width": ""
          }
        },
        "1f1a2b4b826e4fea8d20db4fdf4d6f73": {
          "model_module": "@jupyter-widgets/base",
          "model_name": "LayoutModel",
          "model_module_version": "1.2.0",
          "state": {
            "_model_module": "@jupyter-widgets/base",
            "_model_module_version": "1.2.0",
            "_model_name": "LayoutModel",
            "_view_count": null,
            "_view_module": "@jupyter-widgets/base",
            "_view_module_version": "1.2.0",
            "_view_name": "LayoutView",
            "align_content": null,
            "align_items": null,
            "align_self": null,
            "border": null,
            "bottom": null,
            "display": null,
            "flex": null,
            "flex_flow": null,
            "grid_area": null,
            "grid_auto_columns": null,
            "grid_auto_flow": null,
            "grid_auto_rows": null,
            "grid_column": null,
            "grid_gap": null,
            "grid_row": null,
            "grid_template_areas": null,
            "grid_template_columns": null,
            "grid_template_rows": null,
            "height": null,
            "justify_content": null,
            "justify_items": null,
            "left": null,
            "margin": null,
            "max_height": null,
            "max_width": null,
            "min_height": null,
            "min_width": null,
            "object_fit": null,
            "object_position": null,
            "order": null,
            "overflow": null,
            "overflow_x": null,
            "overflow_y": null,
            "padding": null,
            "right": null,
            "top": null,
            "visibility": null,
            "width": null
          }
        },
        "c7bd424a88be41698ca1501b2fab560f": {
          "model_module": "@jupyter-widgets/controls",
          "model_name": "ProgressStyleModel",
          "model_module_version": "1.5.0",
          "state": {
            "_model_module": "@jupyter-widgets/controls",
            "_model_module_version": "1.5.0",
            "_model_name": "ProgressStyleModel",
            "_view_count": null,
            "_view_module": "@jupyter-widgets/base",
            "_view_module_version": "1.2.0",
            "_view_name": "StyleView",
            "bar_color": null,
            "description_width": ""
          }
        },
        "0933d80ddbb94d4e91da892ec6643698": {
          "model_module": "@jupyter-widgets/base",
          "model_name": "LayoutModel",
          "model_module_version": "1.2.0",
          "state": {
            "_model_module": "@jupyter-widgets/base",
            "_model_module_version": "1.2.0",
            "_model_name": "LayoutModel",
            "_view_count": null,
            "_view_module": "@jupyter-widgets/base",
            "_view_module_version": "1.2.0",
            "_view_name": "LayoutView",
            "align_content": null,
            "align_items": null,
            "align_self": null,
            "border": null,
            "bottom": null,
            "display": null,
            "flex": null,
            "flex_flow": null,
            "grid_area": null,
            "grid_auto_columns": null,
            "grid_auto_flow": null,
            "grid_auto_rows": null,
            "grid_column": null,
            "grid_gap": null,
            "grid_row": null,
            "grid_template_areas": null,
            "grid_template_columns": null,
            "grid_template_rows": null,
            "height": null,
            "justify_content": null,
            "justify_items": null,
            "left": null,
            "margin": null,
            "max_height": null,
            "max_width": null,
            "min_height": null,
            "min_width": null,
            "object_fit": null,
            "object_position": null,
            "order": null,
            "overflow": null,
            "overflow_x": null,
            "overflow_y": null,
            "padding": null,
            "right": null,
            "top": null,
            "visibility": null,
            "width": null
          }
        },
        "a00aa594d3ac4dc3b600cae9f4cbb50b": {
          "model_module": "@jupyter-widgets/controls",
          "model_name": "DescriptionStyleModel",
          "model_module_version": "1.5.0",
          "state": {
            "_model_module": "@jupyter-widgets/controls",
            "_model_module_version": "1.5.0",
            "_model_name": "DescriptionStyleModel",
            "_view_count": null,
            "_view_module": "@jupyter-widgets/base",
            "_view_module_version": "1.2.0",
            "_view_name": "StyleView",
            "description_width": ""
          }
        }
      }
    }
  },
  "nbformat": 4,
  "nbformat_minor": 0
}